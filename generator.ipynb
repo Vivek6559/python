{
 "cells": [
  {
   "cell_type": "code",
   "execution_count": 1,
   "id": "7fadda64",
   "metadata": {},
   "outputs": [
    {
     "data": {
      "text/plain": [
       "range(0, 4)"
      ]
     },
     "execution_count": 1,
     "metadata": {},
     "output_type": "execute_result"
    }
   ],
   "source": [
    "range(4)"
   ]
  },
  {
   "cell_type": "code",
   "execution_count": 2,
   "id": "4b415f42",
   "metadata": {},
   "outputs": [
    {
     "data": {
      "text/plain": [
       "[0, 1, 2, 3]"
      ]
     },
     "execution_count": 2,
     "metadata": {},
     "output_type": "execute_result"
    }
   ],
   "source": [
    "list(range(4))"
   ]
  },
  {
   "cell_type": "code",
   "execution_count": 3,
   "id": "8ec242a9",
   "metadata": {},
   "outputs": [
    {
     "data": {
      "text/plain": [
       "(2, 4, 6, 8)"
      ]
     },
     "execution_count": 3,
     "metadata": {},
     "output_type": "execute_result"
    }
   ],
   "source": [
    "tuple(range(2,10,2))"
   ]
  },
  {
   "cell_type": "code",
   "execution_count": 4,
   "id": "c78a6c97",
   "metadata": {},
   "outputs": [],
   "source": [
    "def gencube(n):\n",
    "    l=[]\n",
    "    for i in range (n):\n",
    "        l.append(i**3)\n",
    "    return l    "
   ]
  },
  {
   "cell_type": "code",
   "execution_count": 5,
   "id": "86c38749",
   "metadata": {},
   "outputs": [
    {
     "data": {
      "text/plain": [
       "[0, 1, 8, 27, 64]"
      ]
     },
     "execution_count": 5,
     "metadata": {},
     "output_type": "execute_result"
    }
   ],
   "source": [
    "gencube(5)"
   ]
  },
  {
   "cell_type": "code",
   "execution_count": 7,
   "id": "a158370d",
   "metadata": {},
   "outputs": [
    {
     "name": "stdout",
     "output_type": "stream",
     "text": [
      "0\n",
      "1\n",
      "2\n",
      "3\n",
      "4\n",
      "5\n"
     ]
    }
   ],
   "source": [
    "for i in range(6):\n",
    "    print(i)"
   ]
  },
  {
   "cell_type": "code",
   "execution_count": 6,
   "id": "d48f31ee",
   "metadata": {},
   "outputs": [],
   "source": [
    "def gensqure(n):\n",
    "    \n",
    "    for i in range(n):\n",
    "        yield i ** 2"
   ]
  },
  {
   "cell_type": "code",
   "execution_count": 7,
   "id": "afb431ec",
   "metadata": {},
   "outputs": [
    {
     "data": {
      "text/plain": [
       "<generator object gensqure at 0x000001E0AA662C20>"
      ]
     },
     "execution_count": 7,
     "metadata": {},
     "output_type": "execute_result"
    }
   ],
   "source": [
    "gensqure(10)"
   ]
  },
  {
   "cell_type": "code",
   "execution_count": 8,
   "id": "4c9c5e98",
   "metadata": {},
   "outputs": [
    {
     "name": "stdout",
     "output_type": "stream",
     "text": [
      "0\n",
      "1\n",
      "4\n",
      "9\n",
      "16\n",
      "25\n",
      "36\n",
      "49\n",
      "64\n",
      "81\n"
     ]
    }
   ],
   "source": [
    "for i in gensqure(10):\n",
    "    print(i)"
   ]
  },
  {
   "cell_type": "code",
   "execution_count": 3,
   "id": "e24ea05b",
   "metadata": {},
   "outputs": [],
   "source": [
    "def fibunacci_series(n):\n",
    "    a=0\n",
    "    b=1\n",
    "    count=0\n",
    "    while count < n:\n",
    "        yield a\n",
    "        a=b\n",
    "        b=a+b\n",
    "        count=count+1"
   ]
  },
  {
   "cell_type": "code",
   "execution_count": 4,
   "id": "87036ea1",
   "metadata": {},
   "outputs": [
    {
     "data": {
      "text/plain": [
       "<generator object fibunacci_series at 0x000001C4AD6D9620>"
      ]
     },
     "execution_count": 4,
     "metadata": {},
     "output_type": "execute_result"
    }
   ],
   "source": [
    "fibunacci_series(10)"
   ]
  },
  {
   "cell_type": "code",
   "execution_count": 5,
   "id": "a8ab33db",
   "metadata": {},
   "outputs": [
    {
     "data": {
      "text/plain": [
       "[0, 1, 2, 4, 8, 16, 32, 64, 128, 256]"
      ]
     },
     "execution_count": 5,
     "metadata": {},
     "output_type": "execute_result"
    }
   ],
   "source": [
    "list(fibunacci_series(10))"
   ]
  },
  {
   "cell_type": "code",
   "execution_count": 9,
   "id": "507e0f5f",
   "metadata": {},
   "outputs": [],
   "source": [
    "def gensquare(n):\n",
    "    \n",
    "    for i in range(n):\n",
    "        yield i ** 2"
   ]
  },
  {
   "cell_type": "code",
   "execution_count": 10,
   "id": "12bb7716",
   "metadata": {},
   "outputs": [
    {
     "data": {
      "text/plain": [
       "<generator object gensquare at 0x00000127AAAD2DC0>"
      ]
     },
     "execution_count": 10,
     "metadata": {},
     "output_type": "execute_result"
    }
   ],
   "source": [
    "gensquare(10)"
   ]
  },
  {
   "cell_type": "code",
   "execution_count": 11,
   "id": "8e5c895c",
   "metadata": {},
   "outputs": [
    {
     "name": "stdout",
     "output_type": "stream",
     "text": [
      "0\n",
      "1\n",
      "4\n",
      "9\n",
      "16\n",
      "25\n",
      "36\n",
      "49\n",
      "64\n",
      "81\n"
     ]
    }
   ],
   "source": [
    "for i in gensquare(10):\n",
    "    print(i)"
   ]
  },
  {
   "cell_type": "code",
   "execution_count": 22,
   "id": "22e30a01",
   "metadata": {},
   "outputs": [
    {
     "data": {
      "text/plain": [
       "<generator object fabunacci_series at 0x000001E0AB6B8660>"
      ]
     },
     "execution_count": 22,
     "metadata": {},
     "output_type": "execute_result"
    }
   ],
   "source": [
    "fabunacci_series(5)"
   ]
  },
  {
   "cell_type": "code",
   "execution_count": 25,
   "id": "45fd8c56",
   "metadata": {},
   "outputs": [
    {
     "data": {
      "text/plain": [
       "[0, 1, 2, 4, 8, 16, 32, 64, 128]"
      ]
     },
     "execution_count": 25,
     "metadata": {},
     "output_type": "execute_result"
    }
   ],
   "source": [
    "list(fabunacci_series(9))"
   ]
  },
  {
   "cell_type": "code",
   "execution_count": 56,
   "id": "27640c7c",
   "metadata": {},
   "outputs": [],
   "source": [
    "def febunacci_series(n):\n",
    "    a=0\n",
    "    b=1\n",
    "    count=0\n",
    "    while count < n:\n",
    "        yield a\n",
    "        a=b\n",
    "        b=a+b\n",
    "        count+=1\n",
    "        "
   ]
  },
  {
   "cell_type": "code",
   "execution_count": 57,
   "id": "7d8b11e4",
   "metadata": {},
   "outputs": [
    {
     "data": {
      "text/plain": [
       "<generator object febunacci_series at 0x00000213B1FDB060>"
      ]
     },
     "execution_count": 57,
     "metadata": {},
     "output_type": "execute_result"
    }
   ],
   "source": [
    "febunacci_series(6)"
   ]
  },
  {
   "cell_type": "code",
   "execution_count": 61,
   "id": "86219737",
   "metadata": {},
   "outputs": [
    {
     "data": {
      "text/plain": [
       "[0, 1, 2, 4, 8, 16]"
      ]
     },
     "execution_count": 61,
     "metadata": {},
     "output_type": "execute_result"
    }
   ],
   "source": [
    "list(febunacci_series(6))"
   ]
  },
  {
   "cell_type": "code",
   "execution_count": null,
   "id": "5b365f10",
   "metadata": {},
   "outputs": [],
   "source": []
  }
 ],
 "metadata": {
  "kernelspec": {
   "display_name": "Python 3 (ipykernel)",
   "language": "python",
   "name": "python3"
  },
  "language_info": {
   "codemirror_mode": {
    "name": "ipython",
    "version": 3
   },
   "file_extension": ".py",
   "mimetype": "text/x-python",
   "name": "python",
   "nbconvert_exporter": "python",
   "pygments_lexer": "ipython3",
   "version": "3.11.5"
  }
 },
 "nbformat": 4,
 "nbformat_minor": 5
}
