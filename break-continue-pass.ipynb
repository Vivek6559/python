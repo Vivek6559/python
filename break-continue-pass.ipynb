{
 "cells": [
  {
   "cell_type": "markdown",
   "id": "f6288fe0",
   "metadata": {},
   "source": [
    "# break"
   ]
  },
  {
   "cell_type": "markdown",
   "id": "18b4e19f",
   "metadata": {},
   "source": [
    "#the break statement is used to exit the current loop parmaturely,regardless of wether the loops condition is still true. it of\n",
    "often to treminate aloop when acertain condition is met."
   ]
  },
  {
   "cell_type": "code",
   "execution_count": 6,
   "id": "cec7666e",
   "metadata": {},
   "outputs": [
    {
     "name": "stdout",
     "output_type": "stream",
     "text": [
      "0\n",
      "1\n",
      "2\n",
      "3\n",
      "4\n"
     ]
    }
   ],
   "source": [
    "for i in range(5):\n",
    "    \n",
    "    print(i)"
   ]
  },
  {
   "cell_type": "code",
   "execution_count": 9,
   "id": "87a5a673",
   "metadata": {},
   "outputs": [
    {
     "name": "stdout",
     "output_type": "stream",
     "text": [
      "0\n",
      "1\n",
      "2\n"
     ]
    }
   ],
   "source": [
    "for i in range (5):\n",
    "    if i==3:\n",
    "        break\n",
    "    print(i)       \n",
    "            \n",
    "        "
   ]
  },
  {
   "cell_type": "code",
   "execution_count": 10,
   "id": "8bcce205",
   "metadata": {},
   "outputs": [
    {
     "name": "stdout",
     "output_type": "stream",
     "text": [
      "d\n",
      "a\n",
      "t\n",
      "a\n",
      "c\n"
     ]
    }
   ],
   "source": [
    "for i in'datacouncil':\n",
    "    if i=='o':\n",
    "        break\n",
    "    print(i)"
   ]
  },
  {
   "cell_type": "code",
   "execution_count": 11,
   "id": "e03dccb5",
   "metadata": {},
   "outputs": [
    {
     "name": "stdout",
     "output_type": "stream",
     "text": [
      "d\n",
      "a\n",
      "t\n",
      "a\n",
      "c\n",
      "o\n",
      "o\n",
      "u\n",
      "n\n",
      "c\n",
      "i\n",
      "l\n"
     ]
    }
   ],
   "source": [
    "for i in 'datacouncil':\n",
    "    if i=='o':\n",
    "        print(i)\n",
    "        \n",
    "    print(i)\n",
    " \n"
   ]
  },
  {
   "cell_type": "markdown",
   "id": "52035e44",
   "metadata": {},
   "source": [
    "# continue"
   ]
  },
  {
   "cell_type": "markdown",
   "id": "d54508b0",
   "metadata": {},
   "source": [
    "the continue statement is used to skip the rest of the current iteration of a loop and move to the next iteration . it is typically used when you want to skip some specefic element or action within a loop "
   ]
  },
  {
   "cell_type": "code",
   "execution_count": 12,
   "id": "dbc1c5c4",
   "metadata": {},
   "outputs": [
    {
     "name": "stdout",
     "output_type": "stream",
     "text": [
      "0\n",
      "1\n",
      "3\n",
      "4\n"
     ]
    }
   ],
   "source": [
    "for i in range(5):\n",
    "    if i ==2:\n",
    "        continue\n",
    "    print(i)"
   ]
  },
  {
   "cell_type": "code",
   "execution_count": 13,
   "id": "3cfe8fe0",
   "metadata": {},
   "outputs": [
    {
     "name": "stdout",
     "output_type": "stream",
     "text": [
      "d\n",
      "a\n",
      "t\n",
      "a\n",
      "c\n",
      "u\n",
      "n\n",
      "c\n",
      "i\n",
      "l\n"
     ]
    }
   ],
   "source": [
    "for i in 'datacouncil':\n",
    "    if i == 'o':\n",
    "        continue\n",
    "    print(i)"
   ]
  },
  {
   "cell_type": "code",
   "execution_count": 14,
   "id": "14e8e5e2",
   "metadata": {},
   "outputs": [
    {
     "name": "stdout",
     "output_type": "stream",
     "text": [
      "d\n",
      "t\n",
      "c\n",
      "o\n",
      "n\n",
      "c\n",
      "i\n",
      "l\n"
     ]
    }
   ],
   "source": [
    "for i in'datacouncil':\n",
    "    if i == 'a':\n",
    "        continue\n",
    "    elif i== 'u':\n",
    "        continue\n",
    "        \n",
    "    print(i)"
   ]
  },
  {
   "cell_type": "markdown",
   "id": "514c3868",
   "metadata": {},
   "source": [
    "# pass"
   ]
  },
  {
   "cell_type": "markdown",
   "id": "c286beec",
   "metadata": {},
   "source": [
    "the pass ststemente is null operation are a no operstion . it is often used as a placeholder when you need statement for syantiitical reason but don't  wont  it to do anything .its commonly used you are defining empty classes functions or conditional block."
   ]
  },
  {
   "cell_type": "code",
   "execution_count": 16,
   "id": "3d06fa2a",
   "metadata": {},
   "outputs": [
    {
     "name": "stdout",
     "output_type": "stream",
     "text": [
      "0\n",
      "1\n",
      "3\n",
      "4\n"
     ]
    }
   ],
   "source": [
    "for i in range(5):\n",
    "    if i==2:  # do nothing i==2\n",
    "        pass\n",
    "    else:\n",
    "        print(i)"
   ]
  },
  {
   "cell_type": "code",
   "execution_count": 1,
   "id": "3fe8dc51",
   "metadata": {},
   "outputs": [
    {
     "name": "stdout",
     "output_type": "stream",
     "text": [
      "1\n",
      "3\n",
      "5\n",
      "7\n",
      "9\n",
      "11\n",
      "13\n",
      "15\n",
      "17\n",
      "19\n"
     ]
    }
   ],
   "source": [
    "for i in range(1,21):\n",
    "    if i % 2== 0:\n",
    "        pass\n",
    "    else:\n",
    "        print(i)"
   ]
  },
  {
   "cell_type": "code",
   "execution_count": 2,
   "id": "8c83092e",
   "metadata": {},
   "outputs": [],
   "source": [
    "l=[1,2,3,4,5,6,7,8,9]"
   ]
  },
  {
   "cell_type": "code",
   "execution_count": 3,
   "id": "433e3989",
   "metadata": {},
   "outputs": [
    {
     "name": "stdout",
     "output_type": "stream",
     "text": [
      "odd number is 1\n",
      "odd number is 3\n",
      "odd number is 5\n",
      "odd number is 7\n",
      "odd number is 9\n"
     ]
    }
   ],
   "source": [
    "for i in l:\n",
    "    if i % 2 == 0:\n",
    "        pass\n",
    "    else:\n",
    "        print('odd number is',i)"
   ]
  },
  {
   "cell_type": "code",
   "execution_count": 4,
   "id": "d6df53a2",
   "metadata": {},
   "outputs": [
    {
     "name": "stdout",
     "output_type": "stream",
     "text": [
      "even number is 2\n",
      "even number is 4\n",
      "even number is 6\n",
      "even number is 8\n"
     ]
    }
   ],
   "source": [
    "for i in l:\n",
    "    if i % 2 != 0:\n",
    "        continue\n",
    "    print('even number is',i)    "
   ]
  },
  {
   "cell_type": "code",
   "execution_count": null,
   "id": "1afb756e",
   "metadata": {},
   "outputs": [],
   "source": []
  }
 ],
 "metadata": {
  "kernelspec": {
   "display_name": "Python 3 (ipykernel)",
   "language": "python",
   "name": "python3"
  },
  "language_info": {
   "codemirror_mode": {
    "name": "ipython",
    "version": 3
   },
   "file_extension": ".py",
   "mimetype": "text/x-python",
   "name": "python",
   "nbconvert_exporter": "python",
   "pygments_lexer": "ipython3",
   "version": "3.11.5"
  }
 },
 "nbformat": 4,
 "nbformat_minor": 5
}
