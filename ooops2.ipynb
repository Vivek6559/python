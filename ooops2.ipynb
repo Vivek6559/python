{
 "cells": [
  {
   "cell_type": "code",
   "execution_count": 1,
   "id": "a4b55eda",
   "metadata": {},
   "outputs": [],
   "source": [
    "class dictparcer:\n",
    "    def __init__(self,d):\n",
    "        self.d = d\n",
    "    def mykeys(self):\n",
    "        if type(self.d) == dict:\n",
    "            return self.d.keys()\n",
    "    def myvalues(self):\n",
    "        if type(self.d) == dict:\n",
    "            return self.d.values()"
   ]
  },
  {
   "cell_type": "code",
   "execution_count": 2,
   "id": "3f1c84dd",
   "metadata": {},
   "outputs": [],
   "source": [
    "dic = dictparcer({'Name':'Rohit', 'Gmail':'Ro@gmail.com','Age':29})"
   ]
  },
  {
   "cell_type": "code",
   "execution_count": 3,
   "id": "f7c21f1b",
   "metadata": {},
   "outputs": [
    {
     "data": {
      "text/plain": [
       "{'Name': 'Rohit', 'Gmail': 'Ro@gmail.com', 'Age': 29}"
      ]
     },
     "execution_count": 3,
     "metadata": {},
     "output_type": "execute_result"
    }
   ],
   "source": [
    "dic.d"
   ]
  },
  {
   "cell_type": "code",
   "execution_count": 4,
   "id": "a6266700",
   "metadata": {},
   "outputs": [
    {
     "data": {
      "text/plain": [
       "dict_keys(['Name', 'Gmail', 'Age'])"
      ]
     },
     "execution_count": 4,
     "metadata": {},
     "output_type": "execute_result"
    }
   ],
   "source": [
    "dic.mykeys()"
   ]
  },
  {
   "cell_type": "code",
   "execution_count": 5,
   "id": "59363189",
   "metadata": {},
   "outputs": [
    {
     "data": {
      "text/plain": [
       "dict_values(['Rohit', 'Ro@gmail.com', 29])"
      ]
     },
     "execution_count": 5,
     "metadata": {},
     "output_type": "execute_result"
    }
   ],
   "source": [
    "dic.myvalues()"
   ]
  },
  {
   "cell_type": "markdown",
   "id": "8ec9d176",
   "metadata": {},
   "source": [
    "# Inheritance"
   ]
  },
  {
   "cell_type": "code",
   "execution_count": 6,
   "id": "51cb56c1",
   "metadata": {},
   "outputs": [],
   "source": [
    "class xyz:\n",
    "    def __init__(self,a,b,c):\n",
    "        self.a = a\n",
    "        self.b = b\n",
    "        self.c = c\n",
    "    def test(self):\n",
    "        print('This is my test function in class of xyz')\n",
    "        \n",
    "    def test2(self):\n",
    "        print('This is my test2 function in class of xyz')\n",
    "        \n",
    "class xyz2(xyz):\n",
    "    pass"
   ]
  },
  {
   "cell_type": "code",
   "execution_count": 7,
   "id": "ba15196b",
   "metadata": {},
   "outputs": [],
   "source": [
    "c = xyz2(1,2,3)"
   ]
  },
  {
   "cell_type": "code",
   "execution_count": 8,
   "id": "2f0ad68e",
   "metadata": {},
   "outputs": [
    {
     "name": "stdout",
     "output_type": "stream",
     "text": [
      "This is my test function in class of xyz\n"
     ]
    }
   ],
   "source": [
    "c.test()"
   ]
  },
  {
   "cell_type": "code",
   "execution_count": 9,
   "id": "13fdc31e",
   "metadata": {},
   "outputs": [],
   "source": [
    "class xyz:\n",
    "    def __init__(self,a,b,c):\n",
    "        self.a = a\n",
    "        self.b = b\n",
    "        self.c = c\n",
    "    def test(self):\n",
    "        print('This is my test function in class of xyz')\n",
    "        \n",
    "    def test2(self):\n",
    "        print('This is my test2 function in class of xyz')\n",
    "        \n",
    "class xyz2(xyz):\n",
    "    def test3(self):\n",
    "        print('This is my test3 in the class of xyz2')\n"
   ]
  },
  {
   "cell_type": "code",
   "execution_count": 10,
   "id": "a7d5999d",
   "metadata": {},
   "outputs": [],
   "source": [
    "d = xyz(10,20,30)"
   ]
  },
  {
   "cell_type": "code",
   "execution_count": 11,
   "id": "f1e8cf29",
   "metadata": {},
   "outputs": [
    {
     "name": "stdout",
     "output_type": "stream",
     "text": [
      "This is my test2 function in class of xyz\n"
     ]
    }
   ],
   "source": [
    "d.test2()"
   ]
  },
  {
   "cell_type": "code",
   "execution_count": 12,
   "id": "44e7d634",
   "metadata": {},
   "outputs": [],
   "source": [
    "s = xyz2(1,2,3)"
   ]
  },
  {
   "cell_type": "code",
   "execution_count": 13,
   "id": "28c69265",
   "metadata": {},
   "outputs": [
    {
     "name": "stdout",
     "output_type": "stream",
     "text": [
      "This is my test3 in the class of xyz2\n"
     ]
    }
   ],
   "source": [
    "s.test3()"
   ]
  },
  {
   "cell_type": "markdown",
   "id": "b940b3ca",
   "metadata": {},
   "source": [
    "# Public, protected and private"
   ]
  },
  {
   "cell_type": "code",
   "execution_count": 14,
   "id": "2e9ecfee",
   "metadata": {},
   "outputs": [],
   "source": [
    "class info:\n",
    "    def __init__(self,name,age,surname):\n",
    "        self.name = name\n",
    "        self._age = age\n",
    "        self.__surname = surname"
   ]
  },
  {
   "cell_type": "code",
   "execution_count": 15,
   "id": "5bcd11aa",
   "metadata": {},
   "outputs": [],
   "source": [
    "d = info('Rohit',29,'Sharma')"
   ]
  },
  {
   "cell_type": "code",
   "execution_count": 16,
   "id": "abddb394",
   "metadata": {},
   "outputs": [
    {
     "data": {
      "text/plain": [
       "'Rohit'"
      ]
     },
     "execution_count": 16,
     "metadata": {},
     "output_type": "execute_result"
    }
   ],
   "source": [
    "d.name # public value"
   ]
  },
  {
   "cell_type": "code",
   "execution_count": 17,
   "id": "d917e5e4",
   "metadata": {},
   "outputs": [
    {
     "data": {
      "text/plain": [
       "29"
      ]
     },
     "execution_count": 17,
     "metadata": {},
     "output_type": "execute_result"
    }
   ],
   "source": [
    "d._age # Protectec value"
   ]
  },
  {
   "cell_type": "code",
   "execution_count": 18,
   "id": "cc60d5c3",
   "metadata": {},
   "outputs": [
    {
     "data": {
      "text/plain": [
       "'Sharma'"
      ]
     },
     "execution_count": 18,
     "metadata": {},
     "output_type": "execute_result"
    }
   ],
   "source": [
    "d._info__surname # Private"
   ]
  },
  {
   "cell_type": "code",
   "execution_count": null,
   "id": "8eeb6758",
   "metadata": {},
   "outputs": [],
   "source": []
  }
 ],
 "metadata": {
  "kernelspec": {
   "display_name": "Python 3 (ipykernel)",
   "language": "python",
   "name": "python3"
  },
  "language_info": {
   "codemirror_mode": {
    "name": "ipython",
    "version": 3
   },
   "file_extension": ".py",
   "mimetype": "text/x-python",
   "name": "python",
   "nbconvert_exporter": "python",
   "pygments_lexer": "ipython3",
   "version": "3.11.5"
  }
 },
 "nbformat": 4,
 "nbformat_minor": 5
}
