{
 "cells": [
  {
   "cell_type": "markdown",
   "id": "c6b71995",
   "metadata": {},
   "source": [
    "1. What is python ?\n",
    "ans : Python is an interpreted, object-oriented, high-level programming language with dynamic semantics developed by Guido van Rossum. It was originally released in 1991. used in  data science, data analysis, machine learning, data engineering, web development, software development, and other fields etc."
   ]
  },
  {
   "cell_type": "markdown",
   "id": "49263f85",
   "metadata": {},
   "source": [
    "2. Data Types in python?\n",
    "ans:int(),str(),float(),bool(),complex(),"
   ]
  },
  {
   "cell_type": "markdown",
   "id": "a8d3898e",
   "metadata": {},
   "source": [
    "3. How to comment single line ?\n",
    "ans:useing # this symbol or hastag"
   ]
  },
  {
   "cell_type": "markdown",
   "id": "f5023608",
   "metadata": {},
   "source": [
    "4. Difference between list and tuple ?\n",
    "ans:syntax of list is list[],ans syntax of tuple is a(),\n",
    "list are mutable and tuple are inmutable\n",
    "list has high storage acompare to tuple."
   ]
  },
  {
   "cell_type": "markdown",
   "id": "0d0f1f34",
   "metadata": {},
   "source": [
    "5. What is function in python ?\n",
    "ans:A function is a block of code which only runs when it is called. You can pass data, known as parameters, into a function. A function can return data as a result."
   ]
  },
  {
   "cell_type": "markdown",
   "id": "9b3d194e",
   "metadata": {},
   "source": [
    "6. Data Types in python?\n",
    "ans:int(),str(),float(),bool(),complex(),"
   ]
  },
  {
   "cell_type": "markdown",
   "id": "ba3af319",
   "metadata": {},
   "source": [
    "7. What is local variable and global variables in python ?\n",
    "ans: Global variables are declared outside the functions whereas local variables are declared within the functions.\n",
    "Local variables are created when the function starts its execution and are lost when the function ends"
   ]
  },
  {
   "cell_type": "markdown",
   "id": "3a54e012",
   "metadata": {},
   "source": [
    "8. Write a Python program to:\n",
    "Prompt the user to enter an integer.\n",
    "a=int(input('entre your number'))\n",
    "\n",
    "Prompt the user to enter a floating-point number.\n",
    "a=float(input('entre your float value'))\n",
    "\n",
    "Prompt the user to enter a string.\n",
    "a=input('entre your string value'))\n",
    "\n",
    "Display the type of each input.\n",
    "type(a)"
   ]
  },
  {
   "cell_type": "code",
   "execution_count": 49,
   "id": "4e61a6f5",
   "metadata": {},
   "outputs": [
    {
     "name": "stdout",
     "output_type": "stream",
     "text": [
      "2\n",
      "Divisible by 4\n",
      "6\n",
      "Divisible by 4\n",
      "10\n",
      "Divisible by 4\n",
      "14\n",
      "Divisible by 4\n",
      "18\n",
      "Divisible by 4\n"
     ]
    }
   ],
   "source": [
    "#9. Write a Python program to print all the even numbers from 1 to 20 using a for loop. If a number\n",
    "#is divisible by 4, print \"Divisible by 4\" instead of the number.\n",
    "for i in range(1,21):\n",
    "    if i % 2 ==0:\n",
    "        if i % 4==0:\n",
    "            print(\"Divisible by 4\")\n",
    "        else:\n",
    "            print(i)\n",
    "    \n",
    "        \n",
    "    "
   ]
  },
  {
   "cell_type": "markdown",
   "id": "60e7db23",
   "metadata": {},
   "source": [
    "10. Write a Python program to find the sum of all numbers between 1 and 100 that are divisible by\n",
    "3 Use a while loop."
   ]
  },
  {
   "cell_type": "code",
   "execution_count": 1,
   "id": "fa6a34c4",
   "metadata": {},
   "outputs": [
    {
     "name": "stdout",
     "output_type": "stream",
     "text": [
      "sum of numbers betwwen 1 to 100 that div by 3: 1683\n"
     ]
    }
   ],
   "source": [
    "num = 1\n",
    "sum = 0\n",
    "while num <=100:\n",
    "    if num % 3==0:\n",
    "        sum += num\n",
    "    num += 1\n",
    "print('sum of numbers betwwen 1 to 100 that div by 3:',sum)    \n",
    "        \n",
    "        "
   ]
  },
  {
   "cell_type": "raw",
   "id": "354c5576",
   "metadata": {},
   "source": [
    "11. Write a function in Python that takes two parameters, 'a' and 'b', and returns their sum and\n",
    "product."
   ]
  },
  {
   "cell_type": "code",
   "execution_count": 10,
   "id": "7c75127f",
   "metadata": {},
   "outputs": [],
   "source": [
    "def test(a,b):\n",
    "    return(a+b),(a*b)"
   ]
  },
  {
   "cell_type": "code",
   "execution_count": 11,
   "id": "f1d73fad",
   "metadata": {},
   "outputs": [
    {
     "data": {
      "text/plain": [
       "(5, 6)"
      ]
     },
     "execution_count": 11,
     "metadata": {},
     "output_type": "execute_result"
    }
   ],
   "source": [
    "test(2,3)"
   ]
  },
  {
   "cell_type": "raw",
   "id": "2f6d78eb",
   "metadata": {},
   "source": [
    "12. Write a Python program that initializes a list of numbers and then:\n",
    "Prints the sum of all the numbers in the list.\n",
    "Prints the largest and smallest numbers in the list.\n",
    "Prints the list in reverse order."
   ]
  },
  {
   "cell_type": "code",
   "execution_count": 15,
   "id": "8489a193",
   "metadata": {},
   "outputs": [
    {
     "data": {
      "text/plain": [
       "15"
      ]
     },
     "execution_count": 15,
     "metadata": {},
     "output_type": "execute_result"
    }
   ],
   "source": [
    "a=[1,2,3,4,5]\n",
    "sum(a)\n"
   ]
  },
  {
   "cell_type": "code",
   "execution_count": 18,
   "id": "2ef98a41",
   "metadata": {},
   "outputs": [
    {
     "data": {
      "text/plain": [
       "5"
      ]
     },
     "execution_count": 18,
     "metadata": {},
     "output_type": "execute_result"
    }
   ],
   "source": [
    "max(a)\n",
    "\n"
   ]
  },
  {
   "cell_type": "code",
   "execution_count": 19,
   "id": "34592b5c",
   "metadata": {},
   "outputs": [
    {
     "data": {
      "text/plain": [
       "1"
      ]
     },
     "execution_count": 19,
     "metadata": {},
     "output_type": "execute_result"
    }
   ],
   "source": [
    "min(a)"
   ]
  },
  {
   "cell_type": "code",
   "execution_count": 21,
   "id": "8db9449e",
   "metadata": {},
   "outputs": [],
   "source": [
    "a.reverse()"
   ]
  },
  {
   "cell_type": "code",
   "execution_count": 22,
   "id": "42260913",
   "metadata": {},
   "outputs": [
    {
     "data": {
      "text/plain": [
       "[5, 4, 3, 2, 1]"
      ]
     },
     "execution_count": 22,
     "metadata": {},
     "output_type": "execute_result"
    }
   ],
   "source": [
    "a"
   ]
  },
  {
   "cell_type": "raw",
   "id": "ad958eec",
   "metadata": {},
   "source": [
    "13. Create a dictionary in Python that represents a student's grades in different subjects. The keys\n",
    "should be subject names, and the values should be the corresponding grades. Write a function\n",
    "that calculates and returns the average grade."
   ]
  },
  {
   "cell_type": "code",
   "execution_count": 18,
   "id": "fda3ba02",
   "metadata": {},
   "outputs": [],
   "source": [
    "student_grades={'marathi':'60','hindi':'70','english':'90','math':'99'}"
   ]
  },
  {
   "cell_type": "code",
   "execution_count": 4,
   "id": "cbdca697",
   "metadata": {},
   "outputs": [],
   "source": [
    "def avarage_grade(grades):\n",
    "    total=0\n",
    "    for subject,grade in grades.items():\n",
    "        total+=grade\n",
    "        avg= total%len(grade)\n",
    "        return average_grade\n",
    "    \n",
    "    \n",
    "    "
   ]
  },
  {
   "cell_type": "code",
   "execution_count": null,
   "id": "48072675",
   "metadata": {},
   "outputs": [],
   "source": []
  },
  {
   "cell_type": "code",
   "execution_count": 5,
   "id": "2f009168",
   "metadata": {},
   "outputs": [
    {
     "name": "stdout",
     "output_type": "stream",
     "text": [
      "The average grade is: 85.25\n"
     ]
    }
   ],
   "source": [
    "def calculate_average_grade(grades):\n",
    "    total_grades = 0\n",
    "    num_subjects = len(grades)\n",
    "\n",
    "    for subject, grade in grades.items():\n",
    "        total_grades += grade\n",
    "\n",
    "    average_grade = total_grades / num_subjects\n",
    "    return average_grade\n",
    "\n",
    "# Example student grades\n",
    "student_grades = {\n",
    "    'Math': 85,\n",
    "    'Science': 90,\n",
    "    'English': 78,\n",
    "    'History': 88\n",
    "}\n",
    "\n",
    "# Calculate and print the average grade\n",
    "average_grade = calculate_average_grade(student_grades)\n",
    "print(f\"The average grade is: {average_grade}\")"
   ]
  },
  {
   "cell_type": "code",
   "execution_count": null,
   "id": "5ac9eefd",
   "metadata": {},
   "outputs": [],
   "source": []
  },
  {
   "cell_type": "code",
   "execution_count": null,
   "id": "02474af8",
   "metadata": {},
   "outputs": [],
   "source": []
  },
  {
   "cell_type": "raw",
   "id": "4b4e54eb",
   "metadata": {},
   "source": [
    "14. Write a Python program that takes two sets and prints the union, intersection, and difference of\n",
    "these sets."
   ]
  },
  {
   "cell_type": "code",
   "execution_count": 27,
   "id": "7e46f176",
   "metadata": {},
   "outputs": [],
   "source": [
    "a={1,2,3,4,5}\n",
    "b={3,4,5,6}"
   ]
  },
  {
   "cell_type": "code",
   "execution_count": 28,
   "id": "ab2b58ea",
   "metadata": {},
   "outputs": [
    {
     "data": {
      "text/plain": [
       "{1, 2, 3, 4, 5, 6}"
      ]
     },
     "execution_count": 28,
     "metadata": {},
     "output_type": "execute_result"
    }
   ],
   "source": [
    "a.union(b)"
   ]
  },
  {
   "cell_type": "code",
   "execution_count": 29,
   "id": "bf5e1cec",
   "metadata": {},
   "outputs": [
    {
     "data": {
      "text/plain": [
       "{3, 4, 5}"
      ]
     },
     "execution_count": 29,
     "metadata": {},
     "output_type": "execute_result"
    }
   ],
   "source": [
    "a.intersection(b)"
   ]
  },
  {
   "cell_type": "code",
   "execution_count": 30,
   "id": "adf9b739",
   "metadata": {},
   "outputs": [
    {
     "data": {
      "text/plain": [
       "{1, 2}"
      ]
     },
     "execution_count": 30,
     "metadata": {},
     "output_type": "execute_result"
    }
   ],
   "source": [
    "a.difference(b)"
   ]
  },
  {
   "cell_type": "markdown",
   "id": "6c6937e5",
   "metadata": {},
   "source": [
    "15. Create of Generator function of Generating Cubes."
   ]
  },
  {
   "cell_type": "code",
   "execution_count": 56,
   "id": "bf0c38cf",
   "metadata": {},
   "outputs": [],
   "source": [
    "def gencube(n):\n",
    "    l=[]\n",
    "    for i in range(n):\n",
    "        l.append(i**3)\n",
    "    return l\n",
    "        \n",
    "    "
   ]
  },
  {
   "cell_type": "code",
   "execution_count": 57,
   "id": "afe2dcd0",
   "metadata": {},
   "outputs": [
    {
     "data": {
      "text/plain": [
       "[0, 1, 8, 27, 64]"
      ]
     },
     "execution_count": 57,
     "metadata": {},
     "output_type": "execute_result"
    }
   ],
   "source": [
    "gencube(5)"
   ]
  },
  {
   "cell_type": "raw",
   "id": "5c98e989",
   "metadata": {},
   "source": [
    "16. Int object is iterable?\n",
    "ans: int obj is not iterable\n",
    "17. String object is Iterator?\n",
    "ans: yes string obj is itreable"
   ]
  },
  {
   "cell_type": "raw",
   "id": "0bfa5639",
   "metadata": {},
   "source": [
    "18. From the above names you have to Separate Letters and you have to append that letters in one\n",
    "empty list. Name_list = [“Sachin”,”Rohit”,”Dhoni”,]"
   ]
  },
  {
   "cell_type": "code",
   "execution_count": 40,
   "id": "767bb174",
   "metadata": {},
   "outputs": [
    {
     "name": "stdout",
     "output_type": "stream",
     "text": [
      "S\n",
      "a\n",
      "c\n",
      "h\n",
      "i\n",
      "n\n",
      "R\n",
      "o\n",
      "h\n",
      "i\n",
      "t\n",
      "D\n",
      "h\n",
      "o\n",
      "n\n",
      "i\n"
     ]
    }
   ],
   "source": [
    "Name_list = ['Sachin','Rohit','Dhoni']\n",
    "for i in Name_list:\n",
    "    l=[]\n",
    "    for j in i:\n",
    "        print(j)\n",
    "        l.append(j)\n",
    "        \n",
    "    "
   ]
  },
  {
   "cell_type": "markdown",
   "id": "9ef875af",
   "metadata": {},
   "source": [
    "19. You have to replace/Change value 10.5 with 1000. b = [1,2,['Name',10.5,True],12,3,5]"
   ]
  },
  {
   "cell_type": "code",
   "execution_count": 12,
   "id": "12393f97",
   "metadata": {},
   "outputs": [],
   "source": [
    "b = [1,2,['Name',10.5,True],12,3,5]\n",
    "b[-4][-2]=100    \n",
    "\n",
    "            "
   ]
  },
  {
   "cell_type": "code",
   "execution_count": 13,
   "id": "516a888c",
   "metadata": {},
   "outputs": [
    {
     "data": {
      "text/plain": [
       "[1, 2, ['Name', 100, True], 12, 3, 5]"
      ]
     },
     "execution_count": 13,
     "metadata": {},
     "output_type": "execute_result"
    }
   ],
   "source": [
    "b"
   ]
  },
  {
   "cell_type": "raw",
   "id": "7efb4623",
   "metadata": {},
   "source": [
    "20. You have to take input for course names from PYTHON and JAVA.\n",
    "You have to take one more input for Discount, in which if coupon code is NEW2024 then you\n",
    "have to give discount of 1000, and if coupon code is FEB2024 you have to give discount of 500r.\n",
    "Write code for it."
   ]
  },
  {
   "cell_type": "code",
   "execution_count": 1,
   "id": "66a09489",
   "metadata": {},
   "outputs": [
    {
     "name": "stdout",
     "output_type": "stream",
     "text": [
      "python\n",
      "NEW2024\n",
      "discount is 1000rs\n"
     ]
    }
   ],
   "source": [
    "course=input()\n",
    "couponcode=input()\n",
    "\n",
    "if course == 'python':\n",
    "    if couponcode=='NEW2024':\n",
    "        print('discount is 1000rs')\n",
    "    elif couponcode=='FEB2024':\n",
    "         print('discont is 500rs')\n",
    "            \n",
    "    else:\n",
    "        print('no discount for python')\n",
    "elif course=='java':\n",
    "    if couponcode=='NEW2024':\n",
    "        print('discount is 1000rs')\n",
    "    elif cuoponcode=='FEB2024':\n",
    "        print('discount is 500rs')\n",
    "    else:\n",
    "        print('no discount for java')\n",
    "else:\n",
    "    print('select valid coupon')\n",
    "        \n",
    "    \n",
    "        "
   ]
  },
  {
   "cell_type": "code",
   "execution_count": 3,
   "id": "23b01053",
   "metadata": {},
   "outputs": [
    {
     "name": "stdout",
     "output_type": "stream",
     "text": [
      "python\n",
      "500\n",
      "coupon code is: FEB2024\n"
     ]
    }
   ],
   "source": [
    "course=input()\n",
    "discount=input()\n",
    "if course=='python':\n",
    "    if discount=='1000':\n",
    "        print('coupon code is :','NEW2024')\n",
    "    elif discount=='500':\n",
    "        print('coupon code is:','FEB2024')\n",
    "    else:\n",
    "        print('select valid discount')\n",
    "elif course =='java':\n",
    "    if discount=='1000':\n",
    "        print('coupon code is:','NEW2024')\n",
    "    elif discount=='500':\n",
    "        print('coupon code is:','FEB2024')\n",
    "    else:\n",
    "        print('select valid discount')\n",
    "else:\n",
    "    print('apply valid course')\n",
    "        \n",
    "        "
   ]
  },
  {
   "cell_type": "code",
   "execution_count": null,
   "id": "d6f0da0a",
   "metadata": {},
   "outputs": [],
   "source": []
  }
 ],
 "metadata": {
  "kernelspec": {
   "display_name": "Python 3 (ipykernel)",
   "language": "python",
   "name": "python3"
  },
  "language_info": {
   "codemirror_mode": {
    "name": "ipython",
    "version": 3
   },
   "file_extension": ".py",
   "mimetype": "text/x-python",
   "name": "python",
   "nbconvert_exporter": "python",
   "pygments_lexer": "ipython3",
   "version": "3.11.5"
  }
 },
 "nbformat": 4,
 "nbformat_minor": 5
}
