{
 "cells": [
  {
   "cell_type": "markdown",
   "id": "3f4c7a1e",
   "metadata": {},
   "source": [
    "# dictionary {}"
   ]
  },
  {
   "cell_type": "markdown",
   "id": "ea8b5624",
   "metadata": {},
   "source": [
    " Dictonary is inbuild data type in python. \n",
    "indexing and slicing is not work\n",
    "mutable in nature i.e update and remove key value in dict\n",
    " Dict stores values in key-pair mode."
   ]
  },
  {
   "cell_type": "code",
   "execution_count": 58,
   "id": "79686cf8",
   "metadata": {},
   "outputs": [],
   "source": [
    "dict={}"
   ]
  },
  {
   "cell_type": "code",
   "execution_count": 2,
   "id": "487d604c",
   "metadata": {},
   "outputs": [
    {
     "data": {
      "text/plain": [
       "dict"
      ]
     },
     "execution_count": 2,
     "metadata": {},
     "output_type": "execute_result"
    }
   ],
   "source": [
    "type(dict)"
   ]
  },
  {
   "cell_type": "code",
   "execution_count": 6,
   "id": "097b7a79",
   "metadata": {},
   "outputs": [],
   "source": [
    "name_sirname={'vivek':'mote','vaibhav':'mote'}"
   ]
  },
  {
   "cell_type": "code",
   "execution_count": 9,
   "id": "70dfda9f",
   "metadata": {},
   "outputs": [
    {
     "data": {
      "text/plain": [
       "{'vivek': 'mote', 'vaibhav': 'mote'}"
      ]
     },
     "execution_count": 9,
     "metadata": {},
     "output_type": "execute_result"
    }
   ],
   "source": [
    "name_sirname"
   ]
  },
  {
   "cell_type": "code",
   "execution_count": 9,
   "id": "a696c5d1",
   "metadata": {},
   "outputs": [],
   "source": [
    "a={'name':'vivek','age':'23','height':'5.5'}"
   ]
  },
  {
   "cell_type": "code",
   "execution_count": 10,
   "id": "a5a6d265",
   "metadata": {},
   "outputs": [
    {
     "data": {
      "text/plain": [
       "{'name': 'vivek', 'age': '23', 'height': '5.5'}"
      ]
     },
     "execution_count": 10,
     "metadata": {},
     "output_type": "execute_result"
    }
   ],
   "source": [
    "a"
   ]
  },
  {
   "cell_type": "code",
   "execution_count": 11,
   "id": "88f8aa9d",
   "metadata": {},
   "outputs": [
    {
     "data": {
      "text/plain": [
       "dict"
      ]
     },
     "execution_count": 11,
     "metadata": {},
     "output_type": "execute_result"
    }
   ],
   "source": [
    "type(a)"
   ]
  },
  {
   "cell_type": "code",
   "execution_count": 12,
   "id": "d593fb68",
   "metadata": {},
   "outputs": [],
   "source": [
    "keys={'name','age','grade'}"
   ]
  },
  {
   "cell_type": "code",
   "execution_count": 16,
   "id": "2396827d",
   "metadata": {},
   "outputs": [],
   "source": [
    "values={'vivek','23','a+'}"
   ]
  },
  {
   "cell_type": "code",
   "execution_count": 18,
   "id": "15a99ed7",
   "metadata": {},
   "outputs": [
    {
     "data": {
      "text/plain": [
       "{'grade': 'a+', 'age': '23', 'name': 'vivek'}"
      ]
     },
     "execution_count": 18,
     "metadata": {},
     "output_type": "execute_result"
    }
   ],
   "source": [
    "dict(zip(keys,values)) # zip fun is used to connetct keys and values or converting inti dict"
   ]
  },
  {
   "cell_type": "code",
   "execution_count": 19,
   "id": "62c6ca1d",
   "metadata": {},
   "outputs": [],
   "source": [
    "q=dict(zip(keys,values))"
   ]
  },
  {
   "cell_type": "code",
   "execution_count": 20,
   "id": "3f3e6097",
   "metadata": {},
   "outputs": [
    {
     "data": {
      "text/plain": [
       "{'grade': 'a+', 'age': '23', 'name': 'vivek'}"
      ]
     },
     "execution_count": 20,
     "metadata": {},
     "output_type": "execute_result"
    }
   ],
   "source": [
    "q"
   ]
  },
  {
   "cell_type": "code",
   "execution_count": 21,
   "id": "913feb28",
   "metadata": {},
   "outputs": [
    {
     "data": {
      "text/plain": [
       "'a+'"
      ]
     },
     "execution_count": 21,
     "metadata": {},
     "output_type": "execute_result"
    }
   ],
   "source": [
    "q['grade']"
   ]
  },
  {
   "cell_type": "code",
   "execution_count": 22,
   "id": "62b5374f",
   "metadata": {},
   "outputs": [
    {
     "data": {
      "text/plain": [
       "'23'"
      ]
     },
     "execution_count": 22,
     "metadata": {},
     "output_type": "execute_result"
    }
   ],
   "source": [
    "q['age']"
   ]
  },
  {
   "cell_type": "code",
   "execution_count": 23,
   "id": "28715c48",
   "metadata": {},
   "outputs": [],
   "source": [
    "q['age']=24"
   ]
  },
  {
   "cell_type": "code",
   "execution_count": 24,
   "id": "6bab22fc",
   "metadata": {},
   "outputs": [
    {
     "data": {
      "text/plain": [
       "{'grade': 'a+', 'age': 24, 'name': 'vivek'}"
      ]
     },
     "execution_count": 24,
     "metadata": {},
     "output_type": "execute_result"
    }
   ],
   "source": [
    "q"
   ]
  },
  {
   "cell_type": "code",
   "execution_count": 25,
   "id": "927c8ef4",
   "metadata": {},
   "outputs": [
    {
     "data": {
      "text/plain": [
       "dict_keys(['grade', 'age', 'name'])"
      ]
     },
     "execution_count": 25,
     "metadata": {},
     "output_type": "execute_result"
    }
   ],
   "source": [
    "q.keys()"
   ]
  },
  {
   "cell_type": "code",
   "execution_count": 26,
   "id": "2420919f",
   "metadata": {},
   "outputs": [
    {
     "data": {
      "text/plain": [
       "dict_values(['a+', 24, 'vivek'])"
      ]
     },
     "execution_count": 26,
     "metadata": {},
     "output_type": "execute_result"
    }
   ],
   "source": [
    "q.values()"
   ]
  },
  {
   "cell_type": "code",
   "execution_count": 27,
   "id": "88aa59ac",
   "metadata": {},
   "outputs": [
    {
     "data": {
      "text/plain": [
       "True"
      ]
     },
     "execution_count": 27,
     "metadata": {},
     "output_type": "execute_result"
    }
   ],
   "source": [
    "'grade'in q # in this way the key pair are presnt or not is chacked "
   ]
  },
  {
   "cell_type": "code",
   "execution_count": 28,
   "id": "27f5d66f",
   "metadata": {},
   "outputs": [
    {
     "data": {
      "text/plain": [
       "False"
      ]
     },
     "execution_count": 28,
     "metadata": {},
     "output_type": "execute_result"
    }
   ],
   "source": [
    "'agr'in q"
   ]
  },
  {
   "cell_type": "code",
   "execution_count": 30,
   "id": "0312e4e1",
   "metadata": {},
   "outputs": [
    {
     "data": {
      "text/plain": [
       "False"
      ]
     },
     "execution_count": 30,
     "metadata": {},
     "output_type": "execute_result"
    }
   ],
   "source": [
    "'vivek'in q"
   ]
  },
  {
   "cell_type": "code",
   "execution_count": 34,
   "id": "e99cd528",
   "metadata": {},
   "outputs": [],
   "source": [
    "q['score']='good' #add element in dict"
   ]
  },
  {
   "cell_type": "code",
   "execution_count": 33,
   "id": "07eaed54",
   "metadata": {},
   "outputs": [
    {
     "data": {
      "text/plain": [
       "{'grade': 'a+', 'age': 24, 'name': 'vivek', 'score': 'good'}"
      ]
     },
     "execution_count": 33,
     "metadata": {},
     "output_type": "execute_result"
    }
   ],
   "source": [
    "q"
   ]
  },
  {
   "cell_type": "code",
   "execution_count": 35,
   "id": "7560804a",
   "metadata": {},
   "outputs": [],
   "source": [
    "q['score']='bad'"
   ]
  },
  {
   "cell_type": "code",
   "execution_count": 36,
   "id": "1a781a0b",
   "metadata": {},
   "outputs": [
    {
     "data": {
      "text/plain": [
       "{'grade': 'a+', 'age': 24, 'name': 'vivek', 'score': 'bad'}"
      ]
     },
     "execution_count": 36,
     "metadata": {},
     "output_type": "execute_result"
    }
   ],
   "source": [
    "q"
   ]
  },
  {
   "cell_type": "raw",
   "id": "83fe403d",
   "metadata": {},
   "source": [
    "nested dict {}"
   ]
  },
  {
   "cell_type": "code",
   "execution_count": 37,
   "id": "b3e47c20",
   "metadata": {},
   "outputs": [],
   "source": [
    "b={'person':{'om','vivek','vaibhav','mote'},'address':{'city','gunjegaon','gangakhed','parbhani'}}"
   ]
  },
  {
   "cell_type": "code",
   "execution_count": 38,
   "id": "5590fb89",
   "metadata": {},
   "outputs": [
    {
     "data": {
      "text/plain": [
       "dict"
      ]
     },
     "execution_count": 38,
     "metadata": {},
     "output_type": "execute_result"
    }
   ],
   "source": [
    "type(b)"
   ]
  },
  {
   "cell_type": "code",
   "execution_count": 40,
   "id": "d638e2cd",
   "metadata": {},
   "outputs": [
    {
     "data": {
      "text/plain": [
       "{'mote', 'om', 'vaibhav', 'vivek'}"
      ]
     },
     "execution_count": 40,
     "metadata": {},
     "output_type": "execute_result"
    }
   ],
   "source": [
    "b['person']"
   ]
  },
  {
   "cell_type": "code",
   "execution_count": 41,
   "id": "a523ccbc",
   "metadata": {},
   "outputs": [
    {
     "data": {
      "text/plain": [
       "{'city', 'gangakhed', 'gunjegaon', 'parbhani'}"
      ]
     },
     "execution_count": 41,
     "metadata": {},
     "output_type": "execute_result"
    }
   ],
   "source": [
    "b['address']"
   ]
  },
  {
   "cell_type": "code",
   "execution_count": 55,
   "id": "630e6145",
   "metadata": {},
   "outputs": [],
   "source": [
    "dict={'vivek':'mote','age':'34','height':'5'}"
   ]
  },
  {
   "cell_type": "code",
   "execution_count": 56,
   "id": "b8d1166e",
   "metadata": {},
   "outputs": [
    {
     "data": {
      "text/plain": [
       "'5'"
      ]
     },
     "execution_count": 56,
     "metadata": {},
     "output_type": "execute_result"
    }
   ],
   "source": [
    "dict.pop('height') # pop is uesd delet key pair in dict"
   ]
  },
  {
   "cell_type": "code",
   "execution_count": 51,
   "id": "04cf5446",
   "metadata": {},
   "outputs": [
    {
     "data": {
      "text/plain": [
       "{'vivek': 'mote', 'age': '34'}"
      ]
     },
     "execution_count": 51,
     "metadata": {},
     "output_type": "execute_result"
    }
   ],
   "source": [
    "dict"
   ]
  },
  {
   "cell_type": "markdown",
   "id": "5b7666f9",
   "metadata": {},
   "source": [
    "#my prctice below"
   ]
  },
  {
   "cell_type": "code",
   "execution_count": 23,
   "id": "b9d15be2",
   "metadata": {},
   "outputs": [],
   "source": [
    "# \n",
    "name_sirname={'vivek':'mote','vaibhav':'more'}"
   ]
  },
  {
   "cell_type": "code",
   "execution_count": 24,
   "id": "ac8ca7cc",
   "metadata": {},
   "outputs": [
    {
     "data": {
      "text/plain": [
       "'mote'"
      ]
     },
     "execution_count": 24,
     "metadata": {},
     "output_type": "execute_result"
    }
   ],
   "source": [
    "name_sirname.pop('vivek')"
   ]
  },
  {
   "cell_type": "code",
   "execution_count": 25,
   "id": "526924ce",
   "metadata": {},
   "outputs": [
    {
     "data": {
      "text/plain": [
       "{'vaibhav': 'more'}"
      ]
     },
     "execution_count": 25,
     "metadata": {},
     "output_type": "execute_result"
    }
   ],
   "source": [
    "name_sirname"
   ]
  },
  {
   "cell_type": "code",
   "execution_count": 31,
   "id": "81a2607f",
   "metadata": {},
   "outputs": [],
   "source": [
    "name_sirname['vaibhav']='kadam'"
   ]
  },
  {
   "cell_type": "code",
   "execution_count": 32,
   "id": "958ef69f",
   "metadata": {},
   "outputs": [
    {
     "data": {
      "text/plain": [
       "{'vaibhav': 'kadam'}"
      ]
     },
     "execution_count": 32,
     "metadata": {},
     "output_type": "execute_result"
    }
   ],
   "source": [
    "name_sirname"
   ]
  },
  {
   "cell_type": "code",
   "execution_count": 71,
   "id": "c6880f97",
   "metadata": {},
   "outputs": [],
   "source": [
    "b={'name':'vivek','age':'23','height':'5','blood group':'b+','degree':'engineering'}"
   ]
  },
  {
   "cell_type": "code",
   "execution_count": 72,
   "id": "2da651b7",
   "metadata": {},
   "outputs": [
    {
     "data": {
      "text/plain": [
       "dict"
      ]
     },
     "execution_count": 72,
     "metadata": {},
     "output_type": "execute_result"
    }
   ],
   "source": [
    "type(b)"
   ]
  },
  {
   "cell_type": "code",
   "execution_count": 74,
   "id": "512e856d",
   "metadata": {},
   "outputs": [
    {
     "data": {
      "text/plain": [
       "'5'"
      ]
     },
     "execution_count": 74,
     "metadata": {},
     "output_type": "execute_result"
    }
   ],
   "source": [
    "b.pop('height')"
   ]
  },
  {
   "cell_type": "code",
   "execution_count": 75,
   "id": "98022a0e",
   "metadata": {},
   "outputs": [
    {
     "data": {
      "text/plain": [
       "{'name': 'vivek', 'age': '23', 'blood group': 'b+', 'degree': 'engineering'}"
      ]
     },
     "execution_count": 75,
     "metadata": {},
     "output_type": "execute_result"
    }
   ],
   "source": [
    "b"
   ]
  },
  {
   "cell_type": "code",
   "execution_count": 80,
   "id": "69eb3551",
   "metadata": {},
   "outputs": [],
   "source": [
    "b['age']='22'"
   ]
  },
  {
   "cell_type": "code",
   "execution_count": 81,
   "id": "c75e570b",
   "metadata": {},
   "outputs": [
    {
     "data": {
      "text/plain": [
       "{'name': 'vivek', 'age': '22', 'blood group': 'b+', 'degree': 'engineering'}"
      ]
     },
     "execution_count": 81,
     "metadata": {},
     "output_type": "execute_result"
    }
   ],
   "source": [
    "b"
   ]
  },
  {
   "cell_type": "code",
   "execution_count": 84,
   "id": "3c811231",
   "metadata": {},
   "outputs": [],
   "source": [
    "c=b.copy()"
   ]
  },
  {
   "cell_type": "code",
   "execution_count": 85,
   "id": "7e8171bc",
   "metadata": {},
   "outputs": [
    {
     "data": {
      "text/plain": [
       "{'name': 'vivek', 'age': '22', 'blood group': 'b+', 'degree': 'engineering'}"
      ]
     },
     "execution_count": 85,
     "metadata": {},
     "output_type": "execute_result"
    }
   ],
   "source": [
    "c"
   ]
  },
  {
   "cell_type": "code",
   "execution_count": 87,
   "id": "e468335b",
   "metadata": {},
   "outputs": [],
   "source": [
    "c.clear()"
   ]
  },
  {
   "cell_type": "code",
   "execution_count": 88,
   "id": "7382abca",
   "metadata": {},
   "outputs": [
    {
     "data": {
      "text/plain": [
       "{}"
      ]
     },
     "execution_count": 88,
     "metadata": {},
     "output_type": "execute_result"
    }
   ],
   "source": [
    "c"
   ]
  },
  {
   "cell_type": "code",
   "execution_count": 90,
   "id": "048f2283",
   "metadata": {},
   "outputs": [
    {
     "data": {
      "text/plain": [
       "dict_items([('name', 'vivek'), ('age', '22'), ('blood group', 'b+'), ('degree', 'engineering')])"
      ]
     },
     "execution_count": 90,
     "metadata": {},
     "output_type": "execute_result"
    }
   ],
   "source": [
    "b.items()"
   ]
  },
  {
   "cell_type": "code",
   "execution_count": 92,
   "id": "7e5503be",
   "metadata": {},
   "outputs": [
    {
     "data": {
      "text/plain": [
       "dict_keys(['name', 'age', 'blood group', 'degree'])"
      ]
     },
     "execution_count": 92,
     "metadata": {},
     "output_type": "execute_result"
    }
   ],
   "source": [
    "b.keys()"
   ]
  },
  {
   "cell_type": "code",
   "execution_count": 94,
   "id": "cfc1c7f5",
   "metadata": {},
   "outputs": [
    {
     "data": {
      "text/plain": [
       "'22'"
      ]
     },
     "execution_count": 94,
     "metadata": {},
     "output_type": "execute_result"
    }
   ],
   "source": [
    "b.setdefault('age')"
   ]
  },
  {
   "cell_type": "code",
   "execution_count": 107,
   "id": "8f9c8145",
   "metadata": {},
   "outputs": [],
   "source": [
    "b['age']=27"
   ]
  },
  {
   "cell_type": "code",
   "execution_count": 108,
   "id": "34eaf9b7",
   "metadata": {},
   "outputs": [
    {
     "data": {
      "text/plain": [
       "{'name': 'vivek', 'age': 27, 'blood group': 'b+', 'degree': 'engineering'}"
      ]
     },
     "execution_count": 108,
     "metadata": {},
     "output_type": "execute_result"
    }
   ],
   "source": [
    "b"
   ]
  },
  {
   "cell_type": "code",
   "execution_count": 115,
   "id": "e591f227",
   "metadata": {},
   "outputs": [
    {
     "data": {
      "text/plain": [
       "{'a': None, 'g': None, 'e': None}"
      ]
     },
     "execution_count": 115,
     "metadata": {},
     "output_type": "execute_result"
    }
   ],
   "source": [
    "b.fromkeys('age'\n",
    "          )"
   ]
  },
  {
   "cell_type": "code",
   "execution_count": 118,
   "id": "685250ac",
   "metadata": {},
   "outputs": [
    {
     "data": {
      "text/plain": [
       "'engineering'"
      ]
     },
     "execution_count": 118,
     "metadata": {},
     "output_type": "execute_result"
    }
   ],
   "source": [
    "b['degree']"
   ]
  },
  {
   "cell_type": "code",
   "execution_count": null,
   "id": "57b5d249",
   "metadata": {},
   "outputs": [],
   "source": []
  }
 ],
 "metadata": {
  "kernelspec": {
   "display_name": "Python 3 (ipykernel)",
   "language": "python",
   "name": "python3"
  },
  "language_info": {
   "codemirror_mode": {
    "name": "ipython",
    "version": 3
   },
   "file_extension": ".py",
   "mimetype": "text/x-python",
   "name": "python",
   "nbconvert_exporter": "python",
   "pygments_lexer": "ipython3",
   "version": "3.11.5"
  }
 },
 "nbformat": 4,
 "nbformat_minor": 5
}
