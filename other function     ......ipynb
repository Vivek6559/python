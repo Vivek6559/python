{
 "cells": [
  {
   "cell_type": "code",
   "execution_count": 1,
   "id": "ef596a39",
   "metadata": {},
   "outputs": [],
   "source": [
    "a = 'data council'"
   ]
  },
  {
   "cell_type": "code",
   "execution_count": 2,
   "id": "9877b88d",
   "metadata": {},
   "outputs": [
    {
     "data": {
      "text/plain": [
       "'DATA COUNCIL'"
      ]
     },
     "execution_count": 2,
     "metadata": {},
     "output_type": "execute_result"
    }
   ],
   "source": [
    "a.swapcase()"
   ]
  },
  {
   "cell_type": "code",
   "execution_count": 3,
   "id": "838ad627",
   "metadata": {},
   "outputs": [
    {
     "data": {
      "text/plain": [
       "'Data council'"
      ]
     },
     "execution_count": 3,
     "metadata": {},
     "output_type": "execute_result"
    }
   ],
   "source": [
    "a.capitalize()"
   ]
  },
  {
   "cell_type": "code",
   "execution_count": 4,
   "id": "f07fd140",
   "metadata": {},
   "outputs": [
    {
     "data": {
      "text/plain": [
       "'DATA COUNCIL'"
      ]
     },
     "execution_count": 4,
     "metadata": {},
     "output_type": "execute_result"
    }
   ],
   "source": [
    "a.upper()"
   ]
  },
  {
   "cell_type": "code",
   "execution_count": 5,
   "id": "5c8b2b42",
   "metadata": {},
   "outputs": [
    {
     "data": {
      "text/plain": [
       "'data council'"
      ]
     },
     "execution_count": 5,
     "metadata": {},
     "output_type": "execute_result"
    }
   ],
   "source": [
    "a.lower()"
   ]
  },
  {
   "cell_type": "code",
   "execution_count": 6,
   "id": "3d08bba1",
   "metadata": {},
   "outputs": [],
   "source": [
    "d='dddd'"
   ]
  },
  {
   "cell_type": "code",
   "execution_count": 7,
   "id": "2fba8591",
   "metadata": {},
   "outputs": [
    {
     "data": {
      "text/plain": [
       "'ddata councilddata councilddata councild'"
      ]
     },
     "execution_count": 7,
     "metadata": {},
     "output_type": "execute_result"
    }
   ],
   "source": [
    "a.join(d)"
   ]
  },
  {
   "cell_type": "code",
   "execution_count": 8,
   "id": "3b55941c",
   "metadata": {},
   "outputs": [],
   "source": [
    "b='name'"
   ]
  },
  {
   "cell_type": "code",
   "execution_count": 10,
   "id": "b410e48f",
   "metadata": {},
   "outputs": [],
   "source": [
    "c='DATA'"
   ]
  },
  {
   "cell_type": "code",
   "execution_count": 14,
   "id": "bddb3291",
   "metadata": {},
   "outputs": [
    {
     "data": {
      "text/plain": [
       "'DnameAnameTnameA'"
      ]
     },
     "execution_count": 14,
     "metadata": {},
     "output_type": "execute_result"
    }
   ],
   "source": [
    "b.join(c)"
   ]
  },
  {
   "cell_type": "code",
   "execution_count": 17,
   "id": "1c06dc87",
   "metadata": {},
   "outputs": [
    {
     "data": {
      "text/plain": [
       "'DATA'"
      ]
     },
     "execution_count": 17,
     "metadata": {},
     "output_type": "execute_result"
    }
   ],
   "source": [
    "''.join(c)"
   ]
  },
  {
   "cell_type": "code",
   "execution_count": 18,
   "id": "d84fab0f",
   "metadata": {},
   "outputs": [
    {
     "data": {
      "text/plain": [
       "'name'"
      ]
     },
     "execution_count": 18,
     "metadata": {},
     "output_type": "execute_result"
    }
   ],
   "source": [
    "b.strip()"
   ]
  },
  {
   "cell_type": "code",
   "execution_count": 19,
   "id": "b3af069b",
   "metadata": {},
   "outputs": [
    {
     "data": {
      "text/plain": [
       "'name'"
      ]
     },
     "execution_count": 19,
     "metadata": {},
     "output_type": "execute_result"
    }
   ],
   "source": [
    "b.lstrip()"
   ]
  },
  {
   "cell_type": "code",
   "execution_count": 20,
   "id": "82146d70",
   "metadata": {},
   "outputs": [
    {
     "data": {
      "text/plain": [
       "'nAme'"
      ]
     },
     "execution_count": 20,
     "metadata": {},
     "output_type": "execute_result"
    }
   ],
   "source": [
    "b.replace('a','A')"
   ]
  },
  {
   "cell_type": "code",
   "execution_count": 21,
   "id": "b588b98e",
   "metadata": {},
   "outputs": [],
   "source": [
    "c='data \\t scince'"
   ]
  },
  {
   "cell_type": "code",
   "execution_count": 22,
   "id": "804354de",
   "metadata": {},
   "outputs": [
    {
     "data": {
      "text/plain": [
       "'data \\t scince'"
      ]
     },
     "execution_count": 22,
     "metadata": {},
     "output_type": "execute_result"
    }
   ],
   "source": [
    "c"
   ]
  },
  {
   "cell_type": "code",
   "execution_count": 23,
   "id": "f039837a",
   "metadata": {},
   "outputs": [
    {
     "data": {
      "text/plain": [
       "'data     scince'"
      ]
     },
     "execution_count": 23,
     "metadata": {},
     "output_type": "execute_result"
    }
   ],
   "source": [
    "c.expandtabs()"
   ]
  },
  {
   "cell_type": "code",
   "execution_count": 24,
   "id": "6c8b6579",
   "metadata": {},
   "outputs": [
    {
     "data": {
      "text/plain": [
       "'data \\t scince'"
      ]
     },
     "execution_count": 24,
     "metadata": {},
     "output_type": "execute_result"
    }
   ],
   "source": [
    "c"
   ]
  },
  {
   "cell_type": "code",
   "execution_count": 25,
   "id": "7969ebf8",
   "metadata": {},
   "outputs": [
    {
     "data": {
      "text/plain": [
       "'Data     council'"
      ]
     },
     "execution_count": 25,
     "metadata": {},
     "output_type": "execute_result"
    }
   ],
   "source": [
    "'Data \\t council'.expandtabs()"
   ]
  },
  {
   "cell_type": "code",
   "execution_count": 26,
   "id": "911763ef",
   "metadata": {},
   "outputs": [
    {
     "data": {
      "text/plain": [
       "'name'"
      ]
     },
     "execution_count": 26,
     "metadata": {},
     "output_type": "execute_result"
    }
   ],
   "source": [
    "b"
   ]
  },
  {
   "cell_type": "code",
   "execution_count": 28,
   "id": "882a34e1",
   "metadata": {},
   "outputs": [
    {
     "data": {
      "text/plain": [
       "'Mname'"
      ]
     },
     "execution_count": 28,
     "metadata": {},
     "output_type": "execute_result"
    }
   ],
   "source": [
    "b.center(5,'M')"
   ]
  },
  {
   "cell_type": "code",
   "execution_count": 29,
   "id": "45675ac2",
   "metadata": {},
   "outputs": [],
   "source": [
    "b='name'"
   ]
  },
  {
   "cell_type": "code",
   "execution_count": 30,
   "id": "b547403b",
   "metadata": {},
   "outputs": [
    {
     "data": {
      "text/plain": [
       "'name'"
      ]
     },
     "execution_count": 30,
     "metadata": {},
     "output_type": "execute_result"
    }
   ],
   "source": [
    "b"
   ]
  },
  {
   "cell_type": "code",
   "execution_count": 31,
   "id": "6891efc7",
   "metadata": {},
   "outputs": [
    {
     "data": {
      "text/plain": [
       "'***********name**********'"
      ]
     },
     "execution_count": 31,
     "metadata": {},
     "output_type": "execute_result"
    }
   ],
   "source": [
    "b.center(25,'*')"
   ]
  },
  {
   "cell_type": "code",
   "execution_count": 1,
   "id": "10d48c2c",
   "metadata": {},
   "outputs": [],
   "source": [
    "a='vivek'"
   ]
  },
  {
   "cell_type": "code",
   "execution_count": 2,
   "id": "9a1d4e8b",
   "metadata": {},
   "outputs": [],
   "source": [
    "b='vaibhav'"
   ]
  },
  {
   "cell_type": "code",
   "execution_count": 3,
   "id": "c2fc81ed",
   "metadata": {},
   "outputs": [
    {
     "data": {
      "text/plain": [
       "'vvivekavivekivivekbvivekhvivekavivekv'"
      ]
     },
     "execution_count": 3,
     "metadata": {},
     "output_type": "execute_result"
    }
   ],
   "source": [
    "a.join(b)"
   ]
  },
  {
   "cell_type": "code",
   "execution_count": 9,
   "id": "f986f47d",
   "metadata": {},
   "outputs": [
    {
     "data": {
      "text/plain": [
       "'v.i.v.e.k'"
      ]
     },
     "execution_count": 9,
     "metadata": {},
     "output_type": "execute_result"
    }
   ],
   "source": [
    "'.'.join(a)"
   ]
  },
  {
   "cell_type": "code",
   "execution_count": 15,
   "id": "f7025ccb",
   "metadata": {},
   "outputs": [
    {
     "data": {
      "text/plain": [
       "'aibha'"
      ]
     },
     "execution_count": 15,
     "metadata": {},
     "output_type": "execute_result"
    }
   ],
   "source": [
    "b.strip(a)"
   ]
  },
  {
   "cell_type": "code",
   "execution_count": 14,
   "id": "ac27e000",
   "metadata": {},
   "outputs": [
    {
     "data": {
      "text/plain": [
       "'ek'"
      ]
     },
     "execution_count": 14,
     "metadata": {},
     "output_type": "execute_result"
    }
   ],
   "source": [
    "a.strip(b) #vaibhav \n",
    "           #vivek"
   ]
  },
  {
   "cell_type": "code",
   "execution_count": 16,
   "id": "893401ef",
   "metadata": {},
   "outputs": [
    {
     "data": {
      "text/plain": [
       "'ek'"
      ]
     },
     "execution_count": 16,
     "metadata": {},
     "output_type": "execute_result"
    }
   ],
   "source": [
    "a.lstrip(b)"
   ]
  },
  {
   "cell_type": "code",
   "execution_count": 18,
   "id": "8829930c",
   "metadata": {},
   "outputs": [
    {
     "data": {
      "text/plain": [
       "'aibhav'"
      ]
     },
     "execution_count": 18,
     "metadata": {},
     "output_type": "execute_result"
    }
   ],
   "source": [
    "b.lstrip(a)"
   ]
  },
  {
   "cell_type": "code",
   "execution_count": 19,
   "id": "22cec146",
   "metadata": {},
   "outputs": [],
   "source": [
    "x='vaibhav'"
   ]
  },
  {
   "cell_type": "code",
   "execution_count": 20,
   "id": "ca186637",
   "metadata": {},
   "outputs": [],
   "source": [
    "y='vivek'"
   ]
  },
  {
   "cell_type": "code",
   "execution_count": 21,
   "id": "6a45c954",
   "metadata": {},
   "outputs": [
    {
     "data": {
      "text/plain": [
       "'aibha'"
      ]
     },
     "execution_count": 21,
     "metadata": {},
     "output_type": "execute_result"
    }
   ],
   "source": [
    "x.strip(y)"
   ]
  },
  {
   "cell_type": "code",
   "execution_count": 22,
   "id": "64663f9e",
   "metadata": {},
   "outputs": [
    {
     "data": {
      "text/plain": [
       "'ek'"
      ]
     },
     "execution_count": 22,
     "metadata": {},
     "output_type": "execute_result"
    }
   ],
   "source": [
    "y.strip(x)"
   ]
  },
  {
   "cell_type": "raw",
   "id": "8affdc74",
   "metadata": {},
   "source": [
    "s='datascince'\n",
    "s.expandtabs()"
   ]
  },
  {
   "cell_type": "code",
   "execution_count": 33,
   "id": "0f94ee67",
   "metadata": {},
   "outputs": [
    {
     "data": {
      "text/plain": [
       "'***vivek***'"
      ]
     },
     "execution_count": 33,
     "metadata": {},
     "output_type": "execute_result"
    }
   ],
   "source": [
    "y.center(11,'*')"
   ]
  },
  {
   "cell_type": "code",
   "execution_count": 36,
   "id": "92200439",
   "metadata": {},
   "outputs": [],
   "source": [
    "n='Data  council'"
   ]
  },
  {
   "cell_type": "code",
   "execution_count": 38,
   "id": "ad9b12d9",
   "metadata": {},
   "outputs": [
    {
     "data": {
      "text/plain": [
       "'Data  council'"
      ]
     },
     "execution_count": 38,
     "metadata": {},
     "output_type": "execute_result"
    }
   ],
   "source": [
    "n.expandtabs()"
   ]
  },
  {
   "cell_type": "code",
   "execution_count": 41,
   "id": "4d784009",
   "metadata": {},
   "outputs": [],
   "source": [
    "d = 'vivek \\t vishvanath' "
   ]
  },
  {
   "cell_type": "code",
   "execution_count": 42,
   "id": "31400c2f",
   "metadata": {},
   "outputs": [
    {
     "data": {
      "text/plain": [
       "'vivek    vishvanath'"
      ]
     },
     "execution_count": 42,
     "metadata": {},
     "output_type": "execute_result"
    }
   ],
   "source": [
    "d.expandtabs()"
   ]
  },
  {
   "cell_type": "code",
   "execution_count": 43,
   "id": "04c87519",
   "metadata": {},
   "outputs": [],
   "source": [
    "m='vivek mote'\n",
    "b='vivek kadam'"
   ]
  },
  {
   "cell_type": "code",
   "execution_count": 44,
   "id": "a2f33198",
   "metadata": {},
   "outputs": [
    {
     "data": {
      "text/plain": [
       "'ot'"
      ]
     },
     "execution_count": 44,
     "metadata": {},
     "output_type": "execute_result"
    }
   ],
   "source": [
    "m.strip(b)"
   ]
  },
  {
   "cell_type": "code",
   "execution_count": 45,
   "id": "69c27687",
   "metadata": {},
   "outputs": [
    {
     "data": {
      "text/plain": [
       "'ada'"
      ]
     },
     "execution_count": 45,
     "metadata": {},
     "output_type": "execute_result"
    }
   ],
   "source": [
    "b.strip(m)"
   ]
  },
  {
   "cell_type": "code",
   "execution_count": null,
   "id": "b8e20348",
   "metadata": {},
   "outputs": [],
   "source": []
  }
 ],
 "metadata": {
  "kernelspec": {
   "display_name": "Python 3 (ipykernel)",
   "language": "python",
   "name": "python3"
  },
  "language_info": {
   "codemirror_mode": {
    "name": "ipython",
    "version": 3
   },
   "file_extension": ".py",
   "mimetype": "text/x-python",
   "name": "python",
   "nbconvert_exporter": "python",
   "pygments_lexer": "ipython3",
   "version": "3.11.5"
  }
 },
 "nbformat": 4,
 "nbformat_minor": 5
}
