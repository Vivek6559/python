{
 "cells": [
  {
   "cell_type": "raw",
   "id": "3af9d6db",
   "metadata": {},
   "source": [
    "1. Explain the concept of indentation in Python and why it's important.\n",
    "Ans:Indentation refers to the spaces at the beginning of a code line.the indentation in Python is very important. Python uses indentation to indicate a block of code.\n",
    "The primary purpose of indentation in Python is to define the scope of statements, such as those within loops, conditionals, functions, and classes.\n",
    " Python indentation is necessary to make your code readable and easy to understand. "
   ]
  },
  {
   "cell_type": "raw",
   "id": "43878019",
   "metadata": {},
   "source": [
    "2. How would you swap the values of two variables without using a temporary variable in Python?\n",
    "Ans:using the XOR (^) bitwise operator to swap values without a temporary variable.\n",
    "    it is  represented by the ^ symbol. "
   ]
  },
  {
   "cell_type": "raw",
   "id": "30b2d912",
   "metadata": {},
   "source": [
    "3. What is the difference between Python 2.x and Python 3.x?\n",
    "Ans:Python 2 has more complicated syntax than Python 3.\n",
    "    In Python 2, exceptions are enclosed in notations.\n",
    "    In Python 3, exceptions are enclosed in parentheses.\n",
    "    Python 2 is no longer in use since 2020.\n",
    "    Python 3 is more popular than Python 2 and is still in use in today’s times. \n",
    "    In Python 2, the xrange() function has been defined for iterations.\n",
    "    In Python 3, the new Range() function was introduced to perform iterations."
   ]
  },
  {
   "cell_type": "raw",
   "id": "57c9601c",
   "metadata": {},
   "source": [
    "4. Write a Python code snippet to comment out multiple lines of code?\n",
    "Ans:To write a multiline comment in Python, you simply need to enclose your text within triple quotes."
   ]
  },
  {
   "cell_type": "raw",
   "id": "485436f0",
   "metadata": {},
   "source": [
    "5. Describe a scenario where you would use a list comprehension in Python.\n",
    "Ans:when you want to create a new list based on the values of an existing list."
   ]
  },
  {
   "cell_type": "markdown",
   "id": "d159469b",
   "metadata": {},
   "source": [
    "# Coding Questions"
   ]
  },
  {
   "cell_type": "markdown",
   "id": "3d02b541",
   "metadata": {},
   "source": [
    "6. Write a function that takes a list of integers and returns the sum of all even numbers in the list.\n"
   ]
  },
  {
   "cell_type": "code",
   "execution_count": 15,
   "id": "911714ac",
   "metadata": {},
   "outputs": [
    {
     "name": "stdout",
     "output_type": "stream",
     "text": [
      "sum of even number is 30\n"
     ]
    }
   ],
   "source": [
    "a=[1,2,3,4,5,6,7,8,9,10]\n",
    "sum=0\n",
    "\n",
    "for i in (a):\n",
    "    if i%2==0:\n",
    "        sum+=i\n",
    "print('sum of even number is',sum)\n",
    "    \n",
    "        \n",
    "        "
   ]
  },
  {
   "cell_type": "code",
   "execution_count": 5,
   "id": "bb145d34",
   "metadata": {},
   "outputs": [],
   "source": [
    "a=[22,3,4,6]\n",
    "def sum_of_even_numbers(a):\n",
    "    \n",
    "    return sum(num for num in a if num % 2 == 0)"
   ]
  },
  {
   "cell_type": "code",
   "execution_count": 6,
   "id": "dea6f8e7",
   "metadata": {},
   "outputs": [
    {
     "data": {
      "text/plain": [
       "32"
      ]
     },
     "execution_count": 6,
     "metadata": {},
     "output_type": "execute_result"
    }
   ],
   "source": [
    "sum_of_even_numbers(a)"
   ]
  },
  {
   "cell_type": "code",
   "execution_count": 1,
   "id": "224bb03b",
   "metadata": {},
   "outputs": [],
   "source": [
    "a=[1,2,3,4,5,6,7]\n",
    "def sum_of_even_number(a):\n",
    "    sum=0\n",
    "\n",
    "    for i in (a):\n",
    "        if i%2==0:\n",
    "            sum+=i\n",
    "    print('sum of even number is',sum)\n",
    "    "
   ]
  },
  {
   "cell_type": "code",
   "execution_count": 2,
   "id": "3d5e764d",
   "metadata": {},
   "outputs": [
    {
     "name": "stdout",
     "output_type": "stream",
     "text": [
      "sum of even number is 12\n"
     ]
    }
   ],
   "source": [
    "sum_of_even_number(a)"
   ]
  },
  {
   "cell_type": "raw",
   "id": "888285e7",
   "metadata": {},
   "source": [
    "7. Implement a function to reverse a string in Python."
   ]
  },
  {
   "cell_type": "code",
   "execution_count": 39,
   "id": "7cd4deb5",
   "metadata": {},
   "outputs": [],
   "source": [
    "s='patil'\n",
    "def reverse (s):\n",
    "    return s[::-1]"
   ]
  },
  {
   "cell_type": "code",
   "execution_count": 40,
   "id": "db053699",
   "metadata": {},
   "outputs": [
    {
     "data": {
      "text/plain": [
       "'litap'"
      ]
     },
     "execution_count": 40,
     "metadata": {},
     "output_type": "execute_result"
    }
   ],
   "source": [
    "reverse(s)"
   ]
  },
  {
   "cell_type": "raw",
   "id": "fe76a52b",
   "metadata": {},
   "source": [
    "8. Write a program to check if a given number is prime or not."
   ]
  },
  {
   "cell_type": "code",
   "execution_count": 22,
   "id": "148d0795",
   "metadata": {},
   "outputs": [
    {
     "name": "stdout",
     "output_type": "stream",
     "text": [
      "7\n"
     ]
    }
   ],
   "source": [
    "num=int(input())\n",
    "def prime(num):\n",
    "    \n",
    "    if num > 1:\n",
    "        for i in range(2,int(num/2)+1):\n",
    "            if num%i==0:\n",
    "                print('it is not prime num',num)\n",
    "                break\n",
    "        else:\n",
    "            print('is prime number',num)\n",
    "    else:\n",
    "        print('is not prime num ',num)\n",
    "        "
   ]
  },
  {
   "cell_type": "code",
   "execution_count": 23,
   "id": "3a02f78e",
   "metadata": {},
   "outputs": [
    {
     "name": "stdout",
     "output_type": "stream",
     "text": [
      "is prime number 7\n"
     ]
    }
   ],
   "source": [
    "prime(num)"
   ]
  },
  {
   "cell_type": "code",
   "execution_count": null,
   "id": "f65d71bc",
   "metadata": {},
   "outputs": [],
   "source": []
  },
  {
   "cell_type": "code",
   "execution_count": 51,
   "id": "d1940499",
   "metadata": {},
   "outputs": [],
   "source": [
    "def is_prime(n):\n",
    "    if n <= 1:\n",
    "        return False\n",
    "    for i in range(2, int(n**0.5) + 1):\n",
    "            \n",
    "        if n % i == 0:\n",
    "             return False\n",
    "    return True\n"
   ]
  },
  {
   "cell_type": "code",
   "execution_count": 53,
   "id": "7b65c919",
   "metadata": {},
   "outputs": [
    {
     "data": {
      "text/plain": [
       "False"
      ]
     },
     "execution_count": 53,
     "metadata": {},
     "output_type": "execute_result"
    }
   ],
   "source": [
    "is_prime(4)"
   ]
  },
  {
   "cell_type": "code",
   "execution_count": null,
   "id": "8637726f",
   "metadata": {},
   "outputs": [],
   "source": []
  },
  {
   "cell_type": "raw",
   "id": "dfb77377",
   "metadata": {},
   "source": [
    "9. Create a Python class called 'Rectangle with attributes 'length' and 'width', and methods to calculate its area and perimeter."
   ]
  },
  {
   "cell_type": "code",
   "execution_count": 57,
   "id": "00f6ff8a",
   "metadata": {},
   "outputs": [],
   "source": [
    "class Rectangle:\n",
    "    def __init__ (self,length,width):\n",
    "        self.length=length\n",
    "        self.width=width\n",
    "    def area(self):\n",
    "        return self.length + self.width\n",
    "    def primeter(self):\n",
    "        return 2*(self.length+self.width)\n",
    "    "
   ]
  },
  {
   "cell_type": "code",
   "execution_count": 58,
   "id": "23368426",
   "metadata": {},
   "outputs": [],
   "source": [
    "a=Rectangle(10,5)"
   ]
  },
  {
   "cell_type": "code",
   "execution_count": 59,
   "id": "2d3fad9c",
   "metadata": {},
   "outputs": [
    {
     "data": {
      "text/plain": [
       "30"
      ]
     },
     "execution_count": 59,
     "metadata": {},
     "output_type": "execute_result"
    }
   ],
   "source": [
    "a.primeter()"
   ]
  },
  {
   "cell_type": "code",
   "execution_count": 88,
   "id": "7394700a",
   "metadata": {},
   "outputs": [
    {
     "data": {
      "text/plain": [
       "15"
      ]
     },
     "execution_count": 88,
     "metadata": {},
     "output_type": "execute_result"
    }
   ],
   "source": [
    "a.area()"
   ]
  },
  {
   "cell_type": "raw",
   "id": "9ae29e82",
   "metadata": {},
   "source": [
    "10. Write a function to find the largest element in a list of integers."
   ]
  },
  {
   "cell_type": "code",
   "execution_count": 23,
   "id": "ee1277f9",
   "metadata": {},
   "outputs": [],
   "source": [
    "list=[1,2,3,4,5]\n",
    "def largest_number(list):\n",
    "    return max(list)"
   ]
  },
  {
   "cell_type": "code",
   "execution_count": 24,
   "id": "81d5b24e",
   "metadata": {},
   "outputs": [
    {
     "data": {
      "text/plain": [
       "5"
      ]
     },
     "execution_count": 24,
     "metadata": {},
     "output_type": "execute_result"
    }
   ],
   "source": [
    "largest_number(set(list))"
   ]
  },
  {
   "cell_type": "raw",
   "id": "3f860712",
   "metadata": {},
   "source": [
    "11. Implement a recursive function to calculate the factorial of a given number"
   ]
  },
  {
   "cell_type": "code",
   "execution_count": 26,
   "id": "847589ed",
   "metadata": {},
   "outputs": [],
   "source": [
    "def factorial(n):\n",
    "    if n == 0:\n",
    "        return 1\n",
    "    return n *factorial(n-1)"
   ]
  },
  {
   "cell_type": "code",
   "execution_count": 27,
   "id": "6b2b6ea3",
   "metadata": {},
   "outputs": [
    {
     "data": {
      "text/plain": [
       "120"
      ]
     },
     "execution_count": 27,
     "metadata": {},
     "output_type": "execute_result"
    }
   ],
   "source": [
    "factorial(5)"
   ]
  },
  {
   "cell_type": "raw",
   "id": "15521012",
   "metadata": {},
   "source": [
    "12. Write a Python program to remove duplicate elements from a list."
   ]
  },
  {
   "cell_type": "code",
   "execution_count": 20,
   "id": "793406e6",
   "metadata": {},
   "outputs": [],
   "source": [
    "def remove_duplicates(lst):\n",
    "    return list(set(lst))"
   ]
  },
  {
   "cell_type": "code",
   "execution_count": 21,
   "id": "7c704cf2",
   "metadata": {},
   "outputs": [
    {
     "data": {
      "text/plain": [
       "[1, 2, 3, 4, 5]"
      ]
     },
     "execution_count": 21,
     "metadata": {},
     "output_type": "execute_result"
    }
   ],
   "source": [
    "remove_duplicates(set([1,2,3,4,5,5,4]))"
   ]
  },
  {
   "cell_type": "code",
   "execution_count": null,
   "id": "43201d48",
   "metadata": {},
   "outputs": [],
   "source": []
  },
  {
   "cell_type": "raw",
   "id": "f4f77421",
   "metadata": {},
   "source": [
    "13. Create a function that takes a list of strings and returns a new list with the strings sorted alphabetically.\n"
   ]
  },
  {
   "cell_type": "code",
   "execution_count": 124,
   "id": "a2496667",
   "metadata": {},
   "outputs": [],
   "source": [
    "b=['vivek', 'vaibhav', 'mote']\n",
    "def sort_strings(b):\n",
    "    return sorted(b)"
   ]
  },
  {
   "cell_type": "code",
   "execution_count": 126,
   "id": "e6753316",
   "metadata": {},
   "outputs": [
    {
     "data": {
      "text/plain": [
       "['mote', 'vaibhav', 'vivek']"
      ]
     },
     "execution_count": 126,
     "metadata": {},
     "output_type": "execute_result"
    }
   ],
   "source": [
    "sort_strings(b)"
   ]
  },
  {
   "cell_type": "raw",
   "id": "a3b15bea",
   "metadata": {},
   "source": [
    "14. Write a Python function to check if a given string is a palindrome."
   ]
  },
  {
   "cell_type": "code",
   "execution_count": 6,
   "id": "e3119af0",
   "metadata": {},
   "outputs": [],
   "source": [
    "def palindrome(string):\n",
    "    if string[::-1]==string:\n",
    "        print('it palindrome')\n",
    "    else:\n",
    "        print('it is not palindrome')"
   ]
  },
  {
   "cell_type": "code",
   "execution_count": 7,
   "id": "c11d72a7",
   "metadata": {},
   "outputs": [
    {
     "name": "stdout",
     "output_type": "stream",
     "text": [
      "it is not palindrome\n"
     ]
    }
   ],
   "source": [
    "palindrome('man')"
   ]
  },
  {
   "cell_type": "code",
   "execution_count": 8,
   "id": "cc37ab13",
   "metadata": {},
   "outputs": [
    {
     "name": "stdout",
     "output_type": "stream",
     "text": [
      "it palindrome\n"
     ]
    }
   ],
   "source": [
    "palindrome('mam')"
   ]
  },
  {
   "cell_type": "raw",
   "id": "69aa3dea",
   "metadata": {},
   "source": [
    "15. Implement a function to find the second largest element in a list of integers"
   ]
  },
  {
   "cell_type": "code",
   "execution_count": 11,
   "id": "2215b7fd",
   "metadata": {},
   "outputs": [],
   "source": [
    "def second_largest(lst):\n",
    "    return sorted(set(lst))[-2] if len(set(lst)) > 1 else None"
   ]
  },
  {
   "cell_type": "code",
   "execution_count": 13,
   "id": "0d2a121d",
   "metadata": {},
   "outputs": [
    {
     "data": {
      "text/plain": [
       "3"
      ]
     },
     "execution_count": 13,
     "metadata": {},
     "output_type": "execute_result"
    }
   ],
   "source": [
    "second_largest(set([1,2,3,4]))"
   ]
  },
  {
   "cell_type": "code",
   "execution_count": 14,
   "id": "c977d8e7",
   "metadata": {},
   "outputs": [
    {
     "data": {
      "text/plain": [
       "42"
      ]
     },
     "execution_count": 14,
     "metadata": {},
     "output_type": "execute_result"
    }
   ],
   "source": [
    "second_largest(set([20,40,23,43,42]))"
   ]
  },
  {
   "cell_type": "markdown",
   "id": "56161873",
   "metadata": {},
   "source": [
    "# oral question"
   ]
  },
  {
   "cell_type": "raw",
   "id": "e5e0cd34",
   "metadata": {},
   "source": [
    "16. What is the purpose of the_init_ method in Python classes?\n",
    "Ans:In Python, the __init__ method is a special method, also known as a constructor, that is automatically called when an object is created from a class. Its primary purpose is to initialize the attributes of the object"
   ]
  },
  {
   "cell_type": "raw",
   "id": "3e0afbac",
   "metadata": {},
   "source": [
    "17. Explain the difference between a tuple and a list in Python.\n",
    "Ans:tuples are immutable as opposed to lists which are mutable\n",
    "    Lists consume more memory\n",
    "    Tuple consumes less than the list,\n",
    "    tuple represented by ()\n",
    "    list represented by []."
   ]
  },
  {
   "cell_type": "raw",
   "id": "4b2c7945",
   "metadata": {},
   "source": [
    "18. How do you handle errors in Python using try-except blocks?\n",
    "Ans:The try block lets you test a block of code for errors. The except block lets you handle the error. The else block lets you execute code when there is no error. The finally block lets you execute code, regardless of the result of the try- and except blocks."
   ]
  },
  {
   "cell_type": "raw",
   "id": "3c58dc5f",
   "metadata": {},
   "source": [
    "19. What is the difference between ==' and 'is' operators in Python?\n",
    "Ans:The == operator is used to test the equality of the values of two objects.\n",
    "    The is operator, on the other hand, is used to test whether two variables refer to the same object in memory."
   ]
  },
  {
   "cell_type": "raw",
   "id": "799fe390",
   "metadata": {},
   "source": [
    "20. Describe the purpose of the 'with' statement in Python for file handling.\n",
    "Ans:The with statement in Python is used for resource management and exception handling"
   ]
  },
  {
   "cell_type": "raw",
   "id": "ebe48c1b",
   "metadata": {},
   "source": [
    "21.Explain the concept of scope in Python variables?\n",
    "Ans:Scope of a variable is the region in the code where the variable is available/accessible.\n",
    "A variable declared outside a function (i.e. the main region of the code) is called a global variable and \n",
    "a variable declared inside a function is called a local variable of that function."
   ]
  },
  {
   "cell_type": "raw",
   "id": "bdc3ae78",
   "metadata": {},
   "source": [
    "22. What are the advantages of using Python for web development?\n",
    "Ans:python's simplicity, flexibility, and powerful frameworks make it an excellent choice for web development"
   ]
  },
  {
   "cell_type": "raw",
   "id": "36e237fa",
   "metadata": {},
   "source": [
    "23. How can you iterate over a dictionary in Python?\n",
    "Ans:To iterate through all values of a dictionary in Python using .values(), you can employ a for loop, accessing each value sequentially. This method allows you to process or display each individual value in the dictionary without explicitly referencing the corresponding keys."
   ]
  },
  {
   "cell_type": "raw",
   "id": "c66a9834",
   "metadata": {},
   "source": [
    "24. Describe the use of the 'pass' statement in Python.\n",
    "Ans:The 'pass' statement in Python is a placeholder for future code. It does nothing when executed, but prevents errors in places where empty code is not allowed."
   ]
  },
  {
   "cell_type": "raw",
   "id": "dd94fc2e",
   "metadata": {},
   "source": [
    "25. What is the purpose of the 'zip() function in Python?\n",
    "Ans:it is uesd connect keys &values in dict\n",
    "    zip() function is used to iterate through multiple iterables"
   ]
  },
  {
   "cell_type": "raw",
   "id": "2eb04396",
   "metadata": {},
   "source": [
    "26. Explain the difference between shallow copy and deep copy in Python?\n",
    "Ans:A shallow copy creates a new array, but it does not create new copies of the elements within the array. Instead, it points to the same elements as the original array. A deep copy, on the other hand, creates a completely independent copy of both the array and its data. It does not share any data with the original array."
   ]
  },
  {
   "cell_type": "raw",
   "id": "0f5b6643",
   "metadata": {},
   "source": [
    "27. Describe the use of the 'lambda' function in Python.\n",
    "Ans: you can create a new list containing only those elements from the original list that satisfy the condition mentioned in the lambda function"
   ]
  },
  {
   "cell_type": "raw",
   "id": "79f9d62e",
   "metadata": {},
   "source": [
    "28. How do you handle multiple exceptions in a single except block in Python?\n",
    "Ans: specify the exceptions as a tuple within the except statement."
   ]
  },
  {
   "cell_type": "raw",
   "id": "7e915ed2",
   "metadata": {},
   "source": [
    "29. Explain the purpose of the 'super() function in Python.\n",
    "Ans:The super() function is used to give access to methods and properties of a parent or sibling class. The super() function returns an object that represents the parent class."
   ]
  },
  {
   "cell_type": "raw",
   "id": "940a8297",
   "metadata": {},
   "source": [
    "30. Describe the purpose of the 'args' and '*kwargs' parameters in Python functions.\n",
    "Ans:*args specifies the number of non-keyworded arguments that can be passed and the operations that can be performed on the function in Python. \n",
    "**kwargs is a variable number of keyword arguments that can be passed to a function that can perform dictionary operations."
   ]
  }
 ],
 "metadata": {
  "kernelspec": {
   "display_name": "Python 3 (ipykernel)",
   "language": "python",
   "name": "python3"
  },
  "language_info": {
   "codemirror_mode": {
    "name": "ipython",
    "version": 3
   },
   "file_extension": ".py",
   "mimetype": "text/x-python",
   "name": "python",
   "nbconvert_exporter": "python",
   "pygments_lexer": "ipython3",
   "version": "3.11.5"
  }
 },
 "nbformat": 4,
 "nbformat_minor": 5
}
