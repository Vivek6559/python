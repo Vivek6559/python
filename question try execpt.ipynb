{
 "cells": [
  {
   "cell_type": "markdown",
   "id": "bcb67f32",
   "metadata": {},
   "source": [
    "1. What is the purpose of the try statement in Python?\n",
    "ans:it is code of ablock that allows to take a alternative action to program  in case of error."
   ]
  },
  {
   "cell_type": "raw",
   "id": "9691d72d",
   "metadata": {},
   "source": [
    "2. Explain the role of the except block in exception handling\n",
    "ans:it use to handle error 0f try block"
   ]
  },
  {
   "cell_type": "raw",
   "id": "b36d2e57",
   "metadata": {},
   "source": [
    "3. When is the else block executed in a try-except construct?\n",
    "ans:if the error is not occure then else block is executed"
   ]
  },
  {
   "cell_type": "raw",
   "id": "f72bcd9d",
   "metadata": {},
   "source": [
    "4. Describe the function of the finally block in Python.\n",
    "ans:finally block will be executed no matter if the try block raises an error or not."
   ]
  },
  {
   "cell_type": "raw",
   "id": "21b3ef81",
   "metadata": {},
   "source": [
    "5. How do you handle specific types of exceptions in Python?"
   ]
  },
  {
   "cell_type": "raw",
   "id": "c8f9d1ab",
   "metadata": {},
   "source": [
    "6. Can you have multiple except blocks in a single try\n",
    "statement? If so, how?\n",
    "ans:yes.\n",
    "try:\n",
    "    x=int(input('entre your int number'))\n",
    "    result=10/x\n",
    "    print('result:',result)\n",
    "except ZeroDivisionError:\n",
    "    print('cannot divide by zreo')\n",
    "except ValueError:\n",
    "    print('please entre int data input ')\n",
    "    \n",
    "else:\n",
    "    print('no exception occured')\n"
   ]
  },
  {
   "cell_type": "raw",
   "id": "1508bc33",
   "metadata": {},
   "source": [
    "7. What happens if an exception occurs in the else block?\n",
    "ans:no eror in try block"
   ]
  },
  {
   "cell_type": "raw",
   "id": "de804bcb",
   "metadata": {},
   "source": [
    "8. Is it mandatory to have an except block along with a try\n",
    "block?\n",
    "ans:yes, it is mandatory"
   ]
  },
  {
   "cell_type": "raw",
   "id": "a665fe45",
   "metadata": {},
   "source": [
    "9. Can you give an example of resource cleanup using the\n",
    "finally block?\n",
    "ans:\n"
   ]
  },
  {
   "cell_type": "raw",
   "id": "2586dee1",
   "metadata": {},
   "source": [
    "10. Explain the sequence of execution in a try-exceptelse-finally construct.\n",
    "ans:t"
   ]
  },
  {
   "cell_type": "code",
   "execution_count": 3,
   "id": "275ca650",
   "metadata": {},
   "outputs": [
    {
     "name": "stdout",
     "output_type": "stream",
     "text": [
      "j is not defined\n",
      "code is excuted\n"
     ]
    }
   ],
   "source": [
    "try:\n",
    "    for i in range(10):\n",
    "        print(j)\n",
    "except:\n",
    "    print('j is not defined')\n",
    "else:\n",
    "    print(' j is defined')\n",
    "    \n",
    "finally:\n",
    "    print('code is excuted')\n",
    "    "
   ]
  },
  {
   "cell_type": "raw",
   "id": "36eed9cf",
   "metadata": {},
   "source": [
    "11. What is the purpose of the try statement in Python?\n",
    "ans:"
   ]
  },
  {
   "cell_type": "code",
   "execution_count": 31,
   "id": "64458594",
   "metadata": {},
   "outputs": [
    {
     "ename": "ZeroDivisionError",
     "evalue": "division by zero",
     "output_type": "error",
     "traceback": [
      "\u001b[1;31m---------------------------------------------------------------------------\u001b[0m",
      "\u001b[1;31mZeroDivisionError\u001b[0m                         Traceback (most recent call last)",
      "Cell \u001b[1;32mIn[31], line 2\u001b[0m\n\u001b[0;32m      1\u001b[0m \u001b[38;5;28;01mfor\u001b[39;00m i \u001b[38;5;129;01min\u001b[39;00m \u001b[38;5;28mrange\u001b[39m(\u001b[38;5;241m2\u001b[39m):\n\u001b[1;32m----> 2\u001b[0m     \u001b[38;5;28mprint\u001b[39m(i\u001b[38;5;241m/\u001b[39m\u001b[38;5;241m0\u001b[39m)\n",
      "\u001b[1;31mZeroDivisionError\u001b[0m: division by zero"
     ]
    }
   ],
   "source": [
    "for i in range(2):\n",
    "    print(i/0)\n",
    "        \n",
    "        "
   ]
  },
  {
   "cell_type": "code",
   "execution_count": 32,
   "id": "4524d291",
   "metadata": {},
   "outputs": [
    {
     "name": "stdout",
     "output_type": "stream",
     "text": [
      "zero division error\n"
     ]
    }
   ],
   "source": [
    "try:\n",
    "    for i in range(2):\n",
    "        \n",
    "        print(i/0)\n",
    "except:\n",
    "    print('zero division error')\n",
    "else:\n",
    "    print('no zero division error')\n",
    "    "
   ]
  },
  {
   "cell_type": "raw",
   "id": "13a2ad92",
   "metadata": {},
   "source": [
    "12. Explain the role of the except block in exception\n",
    "handling.\n"
   ]
  },
  {
   "cell_type": "code",
   "execution_count": 30,
   "id": "efe95517",
   "metadata": {},
   "outputs": [
    {
     "name": "stdout",
     "output_type": "stream",
     "text": [
      "zero division error\n"
     ]
    }
   ],
   "source": [
    "\n",
    "#for i in range(2):\n",
    "    #print(i/0)\n",
    "try:\n",
    "    for i in range(2):\n",
    "        \n",
    "        print(i/0)\n",
    "except:\n",
    "    print('zero division error')\n",
    "else:\n",
    "    print('no zero division error')\n",
    "    "
   ]
  },
  {
   "cell_type": "raw",
   "id": "b2b729ef",
   "metadata": {},
   "source": [
    "13. When is the else block executed in a try-except\n",
    "construct?\n"
   ]
  },
  {
   "cell_type": "code",
   "execution_count": 1,
   "id": "9fd7b0b6",
   "metadata": {},
   "outputs": [
    {
     "name": "stdout",
     "output_type": "stream",
     "text": [
      "*\n",
      "*\n",
      "no error in try block\n"
     ]
    }
   ],
   "source": [
    "try:\n",
    "    for i in range(2):\n",
    "        print('*')\n",
    "except:\n",
    "    print('no exception in the block')\n",
    "else:\n",
    "    print('no error in try block')\n",
    "    "
   ]
  },
  {
   "cell_type": "raw",
   "id": "63a93518",
   "metadata": {},
   "source": [
    "14. Describe the function of the finally block in Python."
   ]
  },
  {
   "cell_type": "code",
   "execution_count": 2,
   "id": "c2702d7e",
   "metadata": {},
   "outputs": [
    {
     "name": "stdout",
     "output_type": "stream",
     "text": [
      "*\n",
      "*\n",
      "no error in try block\n",
      "the task is complated!!\n"
     ]
    }
   ],
   "source": [
    "try:\n",
    "    for i in range(2):\n",
    "        print('*')\n",
    "except:\n",
    "    print('no exception in block')\n",
    "else:\n",
    "    print('no error in try block')\n",
    "finally:\n",
    "    print('the task is complated!!')\n",
    "    "
   ]
  },
  {
   "cell_type": "raw",
   "id": "06a7c105",
   "metadata": {},
   "source": [
    " 15. How do you handle specific types of exceptions in \n",
    "Python?"
   ]
  },
  {
   "cell_type": "code",
   "execution_count": 16,
   "id": "76412ad4",
   "metadata": {},
   "outputs": [
    {
     "name": "stdout",
     "output_type": "stream",
     "text": [
      "4\n",
      "no error in tryblock\n"
     ]
    }
   ],
   "source": [
    "try:\n",
    "    even_num=[2,4,6,8]\n",
    "    print(even_num[1])\n",
    "except ZeroDivisionError:\n",
    "    print('does not divide by zero')\n",
    "except IndexError:\n",
    "    print('this index is not in given list')\n",
    "else:\n",
    "    print('no error in tryblock')"
   ]
  },
  {
   "cell_type": "code",
   "execution_count": 6,
   "id": "52fed637",
   "metadata": {},
   "outputs": [
    {
     "name": "stdout",
     "output_type": "stream",
     "text": [
      "entre a number: 3\n",
      "not an even number\n"
     ]
    }
   ],
   "source": [
    "try:\n",
    "    a=int(input('entre a number: '))\n",
    "    assert a % 2 ==0\n",
    "except:\n",
    "    print('not an even number')\n",
    "else:\n",
    "    reciprocal = 1/a\n",
    "    print(reciprocal)\n",
    "    "
   ]
  },
  {
   "cell_type": "raw",
   "id": "9c68f894",
   "metadata": {},
   "source": [
    "17. What happens if an exception occurs in the else \n",
    "block?"
   ]
  },
  {
   "cell_type": "code",
   "execution_count": 8,
   "id": "c0b6d9b7",
   "metadata": {},
   "outputs": [
    {
     "name": "stdout",
     "output_type": "stream",
     "text": [
      "Result: 5.0\n"
     ]
    }
   ],
   "source": [
    "try:\n",
    "    result = 10 / 2\n",
    "except ZeroDivisionError:\n",
    "    print(\"Division by zero is not allowed.\")\n",
    "else:\n",
    "    print(\"Result:\", result)"
   ]
  },
  {
   "cell_type": "raw",
   "id": "19365a08",
   "metadata": {},
   "source": [
    "18. Is it mandatory to have an except block along with a \n",
    "try block?"
   ]
  },
  {
   "cell_type": "code",
   "execution_count": 45,
   "id": "940aac1a",
   "metadata": {},
   "outputs": [
    {
     "name": "stdout",
     "output_type": "stream",
     "text": [
      " file.txt is not found \n"
     ]
    }
   ],
   "source": [
    "try:\n",
    "    f = open('file','r')\n",
    "    f.write('my name is vivek')\n",
    "    f.close()\n",
    "    f.read()         \n",
    "except:\n",
    "    print(' file.txt is not found ')\n",
    "finally:\n",
    "    f.close()\n"
   ]
  },
  {
   "cell_type": "code",
   "execution_count": 47,
   "id": "01938f99",
   "metadata": {},
   "outputs": [],
   "source": [
    "try:\n",
    "    f = open(\"file.txt\", \"r\")\n",
    "    # work on the file\n",
    "except IOError as e:\n",
    "    print(e)\n",
    "finally:\n",
    "    f.close()"
   ]
  },
  {
   "cell_type": "code",
   "execution_count": null,
   "id": "f61ae4fc",
   "metadata": {},
   "outputs": [],
   "source": []
  }
 ],
 "metadata": {
  "kernelspec": {
   "display_name": "Python 3 (ipykernel)",
   "language": "python",
   "name": "python3"
  },
  "language_info": {
   "codemirror_mode": {
    "name": "ipython",
    "version": 3
   },
   "file_extension": ".py",
   "mimetype": "text/x-python",
   "name": "python",
   "nbconvert_exporter": "python",
   "pygments_lexer": "ipython3",
   "version": "3.11.5"
  }
 },
 "nbformat": 4,
 "nbformat_minor": 5
}
