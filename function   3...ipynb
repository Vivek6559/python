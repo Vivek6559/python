{
 "cells": [
  {
   "cell_type": "markdown",
   "id": "598492d4",
   "metadata": {},
   "source": [
    "# kwargs"
   ]
  },
  {
   "cell_type": "code",
   "execution_count": 1,
   "id": "c92d45a4",
   "metadata": {},
   "outputs": [],
   "source": [
    "def test(**kwargs):\n",
    "    return kwargs"
   ]
  },
  {
   "cell_type": "code",
   "execution_count": 2,
   "id": "1641cffa",
   "metadata": {},
   "outputs": [
    {
     "data": {
      "text/plain": [
       "{'a': 5}"
      ]
     },
     "execution_count": 2,
     "metadata": {},
     "output_type": "execute_result"
    }
   ],
   "source": [
    "test(a=5)"
   ]
  },
  {
   "cell_type": "code",
   "execution_count": 3,
   "id": "f8e20e65",
   "metadata": {},
   "outputs": [
    {
     "data": {
      "text/plain": [
       "{'name': 'vivek', 'age': 5}"
      ]
     },
     "execution_count": 3,
     "metadata": {},
     "output_type": "execute_result"
    }
   ],
   "source": [
    "test(name='vivek',age=5)"
   ]
  },
  {
   "cell_type": "code",
   "execution_count": 4,
   "id": "148a68b9",
   "metadata": {},
   "outputs": [],
   "source": [
    "def test2(a,**kwargs):\n",
    "    return a,kwargs"
   ]
  },
  {
   "cell_type": "code",
   "execution_count": 5,
   "id": "13d89225",
   "metadata": {},
   "outputs": [
    {
     "data": {
      "text/plain": [
       "(30, {'l': 34, 'o': 4, 'u': 9})"
      ]
     },
     "execution_count": 5,
     "metadata": {},
     "output_type": "execute_result"
    }
   ],
   "source": [
    "test2(30,l=34,o=4,u=9)"
   ]
  },
  {
   "cell_type": "code",
   "execution_count": 6,
   "id": "60a9c4e8",
   "metadata": {},
   "outputs": [],
   "source": [
    "def test3(*args,**kwargs):\n",
    "    return args,kwargs"
   ]
  },
  {
   "cell_type": "code",
   "execution_count": 7,
   "id": "9e546529",
   "metadata": {},
   "outputs": [
    {
     "data": {
      "text/plain": [
       "((1, 2, 3, 4, 5), {'p': 3, 'h': 4, 't': 9})"
      ]
     },
     "execution_count": 7,
     "metadata": {},
     "output_type": "execute_result"
    }
   ],
   "source": [
    "test3(1,2,3,4,5,p=3,h=4,t=9)"
   ]
  },
  {
   "cell_type": "code",
   "execution_count": 8,
   "id": "910e700b",
   "metadata": {},
   "outputs": [],
   "source": [
    "def test4(a,*args,**kwargs):\n",
    "    return a,args,kwargs"
   ]
  },
  {
   "cell_type": "code",
   "execution_count": 9,
   "id": "05f48a5d",
   "metadata": {},
   "outputs": [
    {
     "data": {
      "text/plain": [
       "(10, (11, 23, 34), {'p': 3, 'e': 4, 'w': 9})"
      ]
     },
     "execution_count": 9,
     "metadata": {},
     "output_type": "execute_result"
    }
   ],
   "source": [
    "test4(10,11,23,34,p=3,e=4,w=9)"
   ]
  },
  {
   "cell_type": "code",
   "execution_count": 10,
   "id": "6d03e2f5",
   "metadata": {},
   "outputs": [
    {
     "ename": "SyntaxError",
     "evalue": "arguments cannot follow var-keyword argument (3516135294.py, line 1)",
     "output_type": "error",
     "traceback": [
      "\u001b[1;36m  Cell \u001b[1;32mIn[10], line 1\u001b[1;36m\u001b[0m\n\u001b[1;33m    def test5(**kwargs,*args):\u001b[0m\n\u001b[1;37m                       ^\u001b[0m\n\u001b[1;31mSyntaxError\u001b[0m\u001b[1;31m:\u001b[0m arguments cannot follow var-keyword argument\n"
     ]
    }
   ],
   "source": [
    "def test5(**kwargs,*args):\n",
    "    return kwargs args"
   ]
  },
  {
   "cell_type": "code",
   "execution_count": 11,
   "id": "226fe4f2",
   "metadata": {},
   "outputs": [
    {
     "ename": "SyntaxError",
     "evalue": "arguments cannot follow var-keyword argument (1867254990.py, line 1)",
     "output_type": "error",
     "traceback": [
      "\u001b[1;36m  Cell \u001b[1;32mIn[11], line 1\u001b[1;36m\u001b[0m\n\u001b[1;33m    def test6(**kwargs,a,b):\u001b[0m\n\u001b[1;37m                       ^\u001b[0m\n\u001b[1;31mSyntaxError\u001b[0m\u001b[1;31m:\u001b[0m arguments cannot follow var-keyword argument\n"
     ]
    }
   ],
   "source": [
    "def test6(**kwargs,a,b):\n",
    "    return kwargs,a,b"
   ]
  },
  {
   "cell_type": "code",
   "execution_count": 22,
   "id": "31c3fd3e",
   "metadata": {},
   "outputs": [],
   "source": [
    "def test7(*vivek):\n",
    "    return vivek"
   ]
  },
  {
   "cell_type": "code",
   "execution_count": 25,
   "id": "28d68806",
   "metadata": {},
   "outputs": [
    {
     "data": {
      "text/plain": [
       "(1, 2, 3)"
      ]
     },
     "execution_count": 25,
     "metadata": {},
     "output_type": "execute_result"
    }
   ],
   "source": [
    "test7(1,2,3)"
   ]
  },
  {
   "cell_type": "code",
   "execution_count": 28,
   "id": "85bdccdb",
   "metadata": {},
   "outputs": [],
   "source": [
    "def test8(**kwargs):\n",
    "    return kwargs.keys()"
   ]
  },
  {
   "cell_type": "code",
   "execution_count": 29,
   "id": "d1a86917",
   "metadata": {},
   "outputs": [
    {
     "data": {
      "text/plain": [
       "dict_keys(['a', 'g'])"
      ]
     },
     "execution_count": 29,
     "metadata": {},
     "output_type": "execute_result"
    }
   ],
   "source": [
    "test8(a=7,g=6)"
   ]
  },
  {
   "cell_type": "code",
   "execution_count": null,
   "id": "b5e633e0",
   "metadata": {},
   "outputs": [],
   "source": []
  }
 ],
 "metadata": {
  "kernelspec": {
   "display_name": "Python 3 (ipykernel)",
   "language": "python",
   "name": "python3"
  },
  "language_info": {
   "codemirror_mode": {
    "name": "ipython",
    "version": 3
   },
   "file_extension": ".py",
   "mimetype": "text/x-python",
   "name": "python",
   "nbconvert_exporter": "python",
   "pygments_lexer": "ipython3",
   "version": "3.11.5"
  }
 },
 "nbformat": 4,
 "nbformat_minor": 5
}
