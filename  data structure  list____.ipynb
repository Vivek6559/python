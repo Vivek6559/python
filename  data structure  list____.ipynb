{
 "cells": [
  {
   "cell_type": "code",
   "execution_count": 2,
   "id": "2dc3b55e",
   "metadata": {},
   "outputs": [
    {
     "name": "stdout",
     "output_type": "stream",
     "text": [
      "entre your birth date11\n",
      "entre your birth monthmay\n",
      "entre your birth year2000\n",
      "your birth date is  11 may 2000\n"
     ]
    }
   ],
   "source": [
    "x=input('entre your birth date')\n",
    "y=input('entre your birth month')\n",
    "z=input('entre your birth year')\n",
    "\n",
    "print('your birth date is ',x,y,z)"
   ]
  },
  {
   "cell_type": "markdown",
   "id": "60508fa1",
   "metadata": {},
   "source": [
    "# Data structue"
   ]
  },
  {
   "cell_type": "markdown",
   "id": "bcc03646",
   "metadata": {},
   "source": [
    "# list[]"
   ]
  },
  {
   "cell_type": "code",
   "execution_count": 3,
   "id": "9c24d1a3",
   "metadata": {},
   "outputs": [],
   "source": [
    "a=[]"
   ]
  },
  {
   "cell_type": "code",
   "execution_count": 4,
   "id": "c7c90cc5",
   "metadata": {},
   "outputs": [
    {
     "data": {
      "text/plain": [
       "list"
      ]
     },
     "execution_count": 4,
     "metadata": {},
     "output_type": "execute_result"
    }
   ],
   "source": [
    "type(a)"
   ]
  },
  {
   "cell_type": "code",
   "execution_count": 6,
   "id": "5209f513",
   "metadata": {},
   "outputs": [],
   "source": [
    "a=[1,3,4,'vivek','vaibhav','vidhya', 20.2,2+3j]"
   ]
  },
  {
   "cell_type": "code",
   "execution_count": 8,
   "id": "f116b617",
   "metadata": {},
   "outputs": [
    {
     "name": "stdout",
     "output_type": "stream",
     "text": [
      "[1, 3, 4, 'vivek', 'vaibhav', 'vidhya', 20.2, (2+3j)]\n"
     ]
    }
   ],
   "source": [
    "print(a)"
   ]
  },
  {
   "cell_type": "code",
   "execution_count": 9,
   "id": "336871cf",
   "metadata": {},
   "outputs": [
    {
     "name": "stdout",
     "output_type": "stream",
     "text": [
      "[1, 3, 4, 'vivek', 'vaibhav', 'vidhya', 20.2, (2+3j), 10]\n"
     ]
    }
   ],
   "source": [
    "a.append(10)  # append function work add element at last of the list\n",
    "print(a)"
   ]
  },
  {
   "cell_type": "code",
   "execution_count": 11,
   "id": "e68156cb",
   "metadata": {},
   "outputs": [
    {
     "name": "stdout",
     "output_type": "stream",
     "text": [
      "[1, 4, 'vivek', 'vaibhav', 'vidhya', 20.2, (2+3j), 10]\n"
     ]
    }
   ],
   "source": [
    "a.remove(3)\n",
    "print(a)"
   ]
  },
  {
   "cell_type": "code",
   "execution_count": 17,
   "id": "31a89f3b",
   "metadata": {},
   "outputs": [
    {
     "name": "stdout",
     "output_type": "stream",
     "text": [
      "[1, 4, 'vivek', 20.2, (2+3j)]\n"
     ]
    }
   ],
   "source": [
    "a.pop(3)  #pop fun work as remove element in list\n",
    "print(a)"
   ]
  },
  {
   "cell_type": "code",
   "execution_count": 29,
   "id": "2c82aa39",
   "metadata": {},
   "outputs": [
    {
     "name": "stdout",
     "output_type": "stream",
     "text": [
      "[1, 4, 'vivek', 20.2, (2+3j), 2, 2, 4, 2, 4]\n"
     ]
    }
   ],
   "source": [
    "a.extend([2,4]) # extend fun work as add element at last osf list\n",
    "print(a)"
   ]
  },
  {
   "cell_type": "code",
   "execution_count": 57,
   "id": "b4e39558",
   "metadata": {},
   "outputs": [
    {
     "name": "stdout",
     "output_type": "stream",
     "text": [
      "[(2+3j)]\n"
     ]
    }
   ],
   "source": [
    "print(a[4:5])#  indexing is work in [] "
   ]
  },
  {
   "cell_type": "code",
   "execution_count": 56,
   "id": "24d629e8",
   "metadata": {},
   "outputs": [
    {
     "name": "stdout",
     "output_type": "stream",
     "text": [
      "[1, 4, 'vivek', 20.2, (2+3j), 2, 2, 4]\n"
     ]
    }
   ],
   "source": [
    "print(a[0:8])"
   ]
  },
  {
   "cell_type": "code",
   "execution_count": 49,
   "id": "530ac42b",
   "metadata": {},
   "outputs": [
    {
     "name": "stdout",
     "output_type": "stream",
     "text": [
      "1\n"
     ]
    }
   ],
   "source": [
    "print(a.count(1)) # count fun is used as how many element are present in list tis work in ("
   ]
  },
  {
   "cell_type": "code",
   "execution_count": 51,
   "id": "387fa0f2",
   "metadata": {},
   "outputs": [
    {
     "name": "stdout",
     "output_type": "stream",
     "text": [
      "7\n"
     ]
    }
   ],
   "source": [
    "print(a.index(4,4))"
   ]
  },
  {
   "cell_type": "code",
   "execution_count": 53,
   "id": "793f4d4b",
   "metadata": {},
   "outputs": [
    {
     "data": {
      "text/plain": [
       "2"
      ]
     },
     "execution_count": 53,
     "metadata": {},
     "output_type": "execute_result"
    }
   ],
   "source": [
    "a.index(\"vivek\") # index fun work find index of element"
   ]
  },
  {
   "cell_type": "code",
   "execution_count": 3,
   "id": "751c59a5",
   "metadata": {},
   "outputs": [],
   "source": [
    "a=[1,3,4,'vivek','vaibhav','vidhya', 20.2,2+3j]"
   ]
  },
  {
   "cell_type": "code",
   "execution_count": 4,
   "id": "28df5df7",
   "metadata": {},
   "outputs": [
    {
     "data": {
      "text/plain": [
       "list"
      ]
     },
     "execution_count": 4,
     "metadata": {},
     "output_type": "execute_result"
    }
   ],
   "source": [
    "type(a)"
   ]
  },
  {
   "cell_type": "code",
   "execution_count": 8,
   "id": "6c9d1674",
   "metadata": {},
   "outputs": [
    {
     "data": {
      "text/plain": [
       "6"
      ]
     },
     "execution_count": 8,
     "metadata": {},
     "output_type": "execute_result"
    }
   ],
   "source": [
    "a.index(20.2)"
   ]
  },
  {
   "cell_type": "code",
   "execution_count": 10,
   "id": "7e2d8cc3",
   "metadata": {},
   "outputs": [],
   "source": [
    "a.append(2)"
   ]
  },
  {
   "cell_type": "code",
   "execution_count": 11,
   "id": "91d86264",
   "metadata": {},
   "outputs": [
    {
     "name": "stdout",
     "output_type": "stream",
     "text": [
      "[1, 3, 4, 'vivek', 'vaibhav', 'vidhya', 20.2, (2+3j), 2]\n"
     ]
    }
   ],
   "source": [
    "print(a)"
   ]
  },
  {
   "cell_type": "code",
   "execution_count": 17,
   "id": "b6c86bd9",
   "metadata": {},
   "outputs": [],
   "source": [
    "a.extend([2])"
   ]
  },
  {
   "cell_type": "code",
   "execution_count": 15,
   "id": "1812dc79",
   "metadata": {},
   "outputs": [
    {
     "name": "stdout",
     "output_type": "stream",
     "text": [
      "[1, 3, 4, 'vivek', 'vaibhav', 'vidhya', 20.2, (2+3j), 2, 'v', 'i', 'v', 'e', 'k']\n"
     ]
    }
   ],
   "source": [
    "print(a)"
   ]
  },
  {
   "cell_type": "code",
   "execution_count": 18,
   "id": "05deee36",
   "metadata": {},
   "outputs": [
    {
     "name": "stdout",
     "output_type": "stream",
     "text": [
      "[1, 3, 4, 'vivek', 'vaibhav', 'vidhya', 20.2, (2+3j), 2, 'v', 'i', 'v', 'e', 'k', 2]\n"
     ]
    }
   ],
   "source": [
    "print(a)"
   ]
  },
  {
   "cell_type": "code",
   "execution_count": 19,
   "id": "e6231e4f",
   "metadata": {},
   "outputs": [
    {
     "data": {
      "text/plain": [
       "8"
      ]
     },
     "execution_count": 19,
     "metadata": {},
     "output_type": "execute_result"
    }
   ],
   "source": [
    "a.index(2)"
   ]
  },
  {
   "cell_type": "code",
   "execution_count": 28,
   "id": "01a72112",
   "metadata": {},
   "outputs": [
    {
     "data": {
      "text/plain": [
       "3"
      ]
     },
     "execution_count": 28,
     "metadata": {},
     "output_type": "execute_result"
    }
   ],
   "source": [
    "a.index('vivek')"
   ]
  },
  {
   "cell_type": "code",
   "execution_count": 29,
   "id": "1c606ac7",
   "metadata": {},
   "outputs": [
    {
     "data": {
      "text/plain": [
       "2"
      ]
     },
     "execution_count": 29,
     "metadata": {},
     "output_type": "execute_result"
    }
   ],
   "source": [
    "a.count(2)"
   ]
  },
  {
   "cell_type": "code",
   "execution_count": 30,
   "id": "0c64eb3d",
   "metadata": {},
   "outputs": [],
   "source": [
    "a.remove(\"vivek\")"
   ]
  },
  {
   "cell_type": "code",
   "execution_count": 31,
   "id": "a3889eb3",
   "metadata": {},
   "outputs": [
    {
     "name": "stdout",
     "output_type": "stream",
     "text": [
      "[1, 3, 4, 'vaibhav', 'vidhya', 20.2, (2+3j), 2, 'v', 'i', 'v', 'e', 'k', 2]\n"
     ]
    }
   ],
   "source": [
    "print(a)"
   ]
  },
  {
   "cell_type": "code",
   "execution_count": 32,
   "id": "c5ac26b2",
   "metadata": {},
   "outputs": [
    {
     "data": {
      "text/plain": [
       "2"
      ]
     },
     "execution_count": 32,
     "metadata": {},
     "output_type": "execute_result"
    }
   ],
   "source": [
    "a.pop()"
   ]
  },
  {
   "cell_type": "code",
   "execution_count": 33,
   "id": "8d1582dd",
   "metadata": {},
   "outputs": [
    {
     "name": "stdout",
     "output_type": "stream",
     "text": [
      "[1, 3, 4, 'vaibhav', 'vidhya', 20.2, (2+3j), 2, 'v', 'i', 'v', 'e', 'k']\n"
     ]
    }
   ],
   "source": [
    "print(a)"
   ]
  },
  {
   "cell_type": "code",
   "execution_count": 41,
   "id": "1bf619f9",
   "metadata": {},
   "outputs": [
    {
     "data": {
      "text/plain": [
       "'i'"
      ]
     },
     "execution_count": 41,
     "metadata": {},
     "output_type": "execute_result"
    }
   ],
   "source": [
    "a.pop(8)"
   ]
  },
  {
   "cell_type": "code",
   "execution_count": 43,
   "id": "3965232a",
   "metadata": {},
   "outputs": [],
   "source": [
    "b=[1,2,3,4,5,'vivek','vaibhav',40.6,28+7j,'mote',True,False]"
   ]
  },
  {
   "cell_type": "code",
   "execution_count": 47,
   "id": "16b26636",
   "metadata": {},
   "outputs": [
    {
     "data": {
      "text/plain": [
       "4"
      ]
     },
     "execution_count": 47,
     "metadata": {},
     "output_type": "execute_result"
    }
   ],
   "source": [
    "b.index(5)"
   ]
  },
  {
   "cell_type": "code",
   "execution_count": 48,
   "id": "04959e32",
   "metadata": {},
   "outputs": [
    {
     "data": {
      "text/plain": [
       "11"
      ]
     },
     "execution_count": 48,
     "metadata": {},
     "output_type": "execute_result"
    }
   ],
   "source": [
    "b.index(False)"
   ]
  },
  {
   "cell_type": "code",
   "execution_count": 69,
   "id": "a91ff875",
   "metadata": {},
   "outputs": [],
   "source": [
    "b.clear()"
   ]
  },
  {
   "cell_type": "code",
   "execution_count": 70,
   "id": "6e4f1a67",
   "metadata": {},
   "outputs": [
    {
     "name": "stdout",
     "output_type": "stream",
     "text": [
      "[]\n"
     ]
    }
   ],
   "source": [
    "print(b)"
   ]
  },
  {
   "cell_type": "code",
   "execution_count": 72,
   "id": "273ad67d",
   "metadata": {},
   "outputs": [],
   "source": [
    "c=[2,3]"
   ]
  },
  {
   "cell_type": "code",
   "execution_count": 75,
   "id": "96f91c3e",
   "metadata": {},
   "outputs": [],
   "source": [
    "c=b.copy()"
   ]
  },
  {
   "cell_type": "code",
   "execution_count": 76,
   "id": "b8557ac8",
   "metadata": {},
   "outputs": [
    {
     "name": "stdout",
     "output_type": "stream",
     "text": [
      "[]\n"
     ]
    }
   ],
   "source": [
    "print(c)"
   ]
  },
  {
   "cell_type": "code",
   "execution_count": 77,
   "id": "742e1dc7",
   "metadata": {},
   "outputs": [],
   "source": [
    "d=[4 , 5]"
   ]
  },
  {
   "cell_type": "code",
   "execution_count": 78,
   "id": "7b472f44",
   "metadata": {},
   "outputs": [],
   "source": [
    "e=d.copy()"
   ]
  },
  {
   "cell_type": "code",
   "execution_count": 79,
   "id": "8d2cae4c",
   "metadata": {},
   "outputs": [
    {
     "name": "stdout",
     "output_type": "stream",
     "text": [
      "[4, 5]\n"
     ]
    }
   ],
   "source": [
    "print(e)"
   ]
  },
  {
   "cell_type": "code",
   "execution_count": 81,
   "id": "1b191f71",
   "metadata": {},
   "outputs": [],
   "source": [
    "d.sort()"
   ]
  },
  {
   "cell_type": "code",
   "execution_count": 82,
   "id": "e0efa656",
   "metadata": {},
   "outputs": [
    {
     "name": "stdout",
     "output_type": "stream",
     "text": [
      "[4, 5]\n"
     ]
    }
   ],
   "source": [
    "print(d)"
   ]
  },
  {
   "cell_type": "code",
   "execution_count": 83,
   "id": "bd722ab6",
   "metadata": {},
   "outputs": [],
   "source": [
    "h=[4,2,6,8,8,90.9]"
   ]
  },
  {
   "cell_type": "code",
   "execution_count": 91,
   "id": "b24b85c0",
   "metadata": {},
   "outputs": [],
   "source": [
    "h.sort() # sort fun work as element are in order (asending order .....)"
   ]
  },
  {
   "cell_type": "code",
   "execution_count": 85,
   "id": "b446efc1",
   "metadata": {},
   "outputs": [
    {
     "name": "stdout",
     "output_type": "stream",
     "text": [
      "[2, 4, 6, 8, 8, 90.9]\n"
     ]
    }
   ],
   "source": [
    "print(h)"
   ]
  },
  {
   "cell_type": "code",
   "execution_count": 87,
   "id": "0ce44733",
   "metadata": {},
   "outputs": [],
   "source": [
    "h.sort()"
   ]
  },
  {
   "cell_type": "code",
   "execution_count": 88,
   "id": "8da5fc3f",
   "metadata": {},
   "outputs": [
    {
     "name": "stdout",
     "output_type": "stream",
     "text": [
      "[2, 4, 6, 8, 8, 90.9]\n"
     ]
    }
   ],
   "source": [
    "print(h)"
   ]
  },
  {
   "cell_type": "code",
   "execution_count": 92,
   "id": "168d18ee",
   "metadata": {},
   "outputs": [],
   "source": [
    "h.reverse()# reverse fun work as element are oreder in desending oreder ..."
   ]
  },
  {
   "cell_type": "code",
   "execution_count": 90,
   "id": "a140b8da",
   "metadata": {},
   "outputs": [
    {
     "data": {
      "text/plain": [
       "[90.9, 8, 8, 6, 4, 2]"
      ]
     },
     "execution_count": 90,
     "metadata": {},
     "output_type": "execute_result"
    }
   ],
   "source": [
    "h"
   ]
  },
  {
   "cell_type": "code",
   "execution_count": 108,
   "id": "98766d6c",
   "metadata": {},
   "outputs": [],
   "source": [
    "k=[5,5,8,9,'vievk',309]"
   ]
  },
  {
   "cell_type": "code",
   "execution_count": 109,
   "id": "360911ee",
   "metadata": {},
   "outputs": [],
   "source": [
    "k.remove(9)"
   ]
  },
  {
   "cell_type": "code",
   "execution_count": 110,
   "id": "1e8e7076",
   "metadata": {},
   "outputs": [
    {
     "data": {
      "text/plain": [
       "[5, 5, 8, 'vievk', 309]"
      ]
     },
     "execution_count": 110,
     "metadata": {},
     "output_type": "execute_result"
    }
   ],
   "source": [
    "k"
   ]
  },
  {
   "cell_type": "code",
   "execution_count": 112,
   "id": "3286fdbd",
   "metadata": {},
   "outputs": [],
   "source": [
    "k.remove('vievk')"
   ]
  },
  {
   "cell_type": "code",
   "execution_count": 113,
   "id": "83bea807",
   "metadata": {},
   "outputs": [
    {
     "data": {
      "text/plain": [
       "[5, 5, 8, 309]"
      ]
     },
     "execution_count": 113,
     "metadata": {},
     "output_type": "execute_result"
    }
   ],
   "source": [
    "k"
   ]
  },
  {
   "cell_type": "code",
   "execution_count": 115,
   "id": "3c32473f",
   "metadata": {},
   "outputs": [],
   "source": [
    "k.append(77)"
   ]
  },
  {
   "cell_type": "code",
   "execution_count": 116,
   "id": "b52994ef",
   "metadata": {},
   "outputs": [
    {
     "data": {
      "text/plain": [
       "[5, 5, 8, 309, 77]"
      ]
     },
     "execution_count": 116,
     "metadata": {},
     "output_type": "execute_result"
    }
   ],
   "source": [
    "k"
   ]
  },
  {
   "cell_type": "code",
   "execution_count": 117,
   "id": "b2a4c5cb",
   "metadata": {},
   "outputs": [
    {
     "data": {
      "text/plain": [
       "77"
      ]
     },
     "execution_count": 117,
     "metadata": {},
     "output_type": "execute_result"
    }
   ],
   "source": [
    "k.pop()"
   ]
  },
  {
   "cell_type": "code",
   "execution_count": 118,
   "id": "65cf812e",
   "metadata": {},
   "outputs": [
    {
     "data": {
      "text/plain": [
       "[5, 5, 8, 309]"
      ]
     },
     "execution_count": 118,
     "metadata": {},
     "output_type": "execute_result"
    }
   ],
   "source": [
    "k"
   ]
  },
  {
   "cell_type": "code",
   "execution_count": 122,
   "id": "60b34889",
   "metadata": {},
   "outputs": [],
   "source": [
    "k.sort()"
   ]
  },
  {
   "cell_type": "code",
   "execution_count": 120,
   "id": "5ab72936",
   "metadata": {},
   "outputs": [
    {
     "data": {
      "text/plain": [
       "[5, 5, 8, 309]"
      ]
     },
     "execution_count": 120,
     "metadata": {},
     "output_type": "execute_result"
    }
   ],
   "source": [
    "k"
   ]
  },
  {
   "cell_type": "code",
   "execution_count": 124,
   "id": "376ae6d6",
   "metadata": {},
   "outputs": [],
   "source": [
    "a={1,2,3,4,5,6,'vivek',20+2j,False}"
   ]
  },
  {
   "cell_type": "code",
   "execution_count": 126,
   "id": "59087c2e",
   "metadata": {},
   "outputs": [
    {
     "data": {
      "text/plain": [
       "set"
      ]
     },
     "execution_count": 126,
     "metadata": {},
     "output_type": "execute_result"
    }
   ],
   "source": [
    "type(a)"
   ]
  },
  {
   "cell_type": "code",
   "execution_count": 128,
   "id": "77d00fad",
   "metadata": {},
   "outputs": [],
   "source": [
    "a.add(7)"
   ]
  },
  {
   "cell_type": "code",
   "execution_count": 129,
   "id": "8dc5a271",
   "metadata": {},
   "outputs": [
    {
     "data": {
      "text/plain": [
       "{(20+2j), 1, 2, 3, 4, 5, 6, 7, False, 'vivek'}"
      ]
     },
     "execution_count": 129,
     "metadata": {},
     "output_type": "execute_result"
    }
   ],
   "source": [
    "a"
   ]
  },
  {
   "cell_type": "code",
   "execution_count": null,
   "id": "b1231e4b",
   "metadata": {},
   "outputs": [],
   "source": [
    "a."
   ]
  },
  {
   "cell_type": "code",
   "execution_count": 4,
   "id": "937ad1df",
   "metadata": {},
   "outputs": [],
   "source": [
    "h=[1,2,3,4,5,6,'vivek',67.9]"
   ]
  },
  {
   "cell_type": "code",
   "execution_count": 6,
   "id": "63dae573",
   "metadata": {},
   "outputs": [
    {
     "data": {
      "text/plain": [
       "8"
      ]
     },
     "execution_count": 6,
     "metadata": {},
     "output_type": "execute_result"
    }
   ],
   "source": [
    "len(h)"
   ]
  },
  {
   "cell_type": "code",
   "execution_count": 11,
   "id": "aabb0815",
   "metadata": {},
   "outputs": [],
   "source": [
    "f=['vivek','vaibhav'] #list is unpacked "
   ]
  },
  {
   "cell_type": "code",
   "execution_count": 8,
   "id": "f3665f99",
   "metadata": {},
   "outputs": [],
   "source": [
    "n1,n2=f"
   ]
  },
  {
   "cell_type": "code",
   "execution_count": 10,
   "id": "b4fef4e0",
   "metadata": {},
   "outputs": [
    {
     "name": "stdout",
     "output_type": "stream",
     "text": [
      "vivek\n",
      "vaibhav\n"
     ]
    }
   ],
   "source": [
    "print(n1)\n",
    "print(n2)"
   ]
  },
  {
   "cell_type": "code",
   "execution_count": null,
   "id": "972797fc",
   "metadata": {},
   "outputs": [],
   "source": []
  }
 ],
 "metadata": {
  "kernelspec": {
   "display_name": "Python 3 (ipykernel)",
   "language": "python",
   "name": "python3"
  },
  "language_info": {
   "codemirror_mode": {
    "name": "ipython",
    "version": 3
   },
   "file_extension": ".py",
   "mimetype": "text/x-python",
   "name": "python",
   "nbconvert_exporter": "python",
   "pygments_lexer": "ipython3",
   "version": "3.11.5"
  }
 },
 "nbformat": 4,
 "nbformat_minor": 5
}
