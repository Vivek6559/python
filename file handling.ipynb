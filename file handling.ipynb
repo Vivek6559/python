{
 "cells": [
  {
   "cell_type": "code",
   "execution_count": 1,
   "id": "70d72086",
   "metadata": {},
   "outputs": [
    {
     "name": "stdout",
     "output_type": "stream",
     "text": [
      " Volume in drive C has no label.\n",
      " Volume Serial Number is 82D9-AA04\n",
      "\n",
      " Directory of C:\\Users\\LENOVO\\Documents\\advanced python\n",
      "\n",
      "02/02/2024  11:27 AM    <DIR>          .\n",
      "02/02/2024  11:27 AM    <DIR>          ..\n",
      "02/02/2024  11:27 AM    <DIR>          .ipynb_checkpoints\n",
      "02/02/2024  11:27 AM               589 file handling.ipynb\n",
      "               1 File(s)            589 bytes\n",
      "               3 Dir(s)  195,781,193,728 bytes free\n"
     ]
    }
   ],
   "source": [
    "%ls"
   ]
  },
  {
   "cell_type": "code",
   "execution_count": 3,
   "id": "46dc034a",
   "metadata": {},
   "outputs": [],
   "source": [
    "f=open('text1','w')"
   ]
  },
  {
   "cell_type": "code",
   "execution_count": 4,
   "id": "68a50002",
   "metadata": {},
   "outputs": [
    {
     "data": {
      "text/plain": [
       "38"
      ]
     },
     "execution_count": 4,
     "metadata": {},
     "output_type": "execute_result"
    }
   ],
   "source": [
    "f.write('this is my first python advanced class')"
   ]
  },
  {
   "cell_type": "code",
   "execution_count": 5,
   "id": "eb05d80a",
   "metadata": {},
   "outputs": [],
   "source": [
    "f.close()"
   ]
  },
  {
   "cell_type": "code",
   "execution_count": 7,
   "id": "fd3e3fdb",
   "metadata": {},
   "outputs": [],
   "source": [
    "f=open('text1','r')"
   ]
  },
  {
   "cell_type": "code",
   "execution_count": 8,
   "id": "4845be52",
   "metadata": {},
   "outputs": [
    {
     "data": {
      "text/plain": [
       "'this is my first python advanced class'"
      ]
     },
     "execution_count": 8,
     "metadata": {},
     "output_type": "execute_result"
    }
   ],
   "source": [
    "f.read()"
   ]
  },
  {
   "cell_type": "code",
   "execution_count": 9,
   "id": "932f55be",
   "metadata": {},
   "outputs": [
    {
     "data": {
      "text/plain": [
       "''"
      ]
     },
     "execution_count": 9,
     "metadata": {},
     "output_type": "execute_result"
    }
   ],
   "source": [
    "f.read()"
   ]
  },
  {
   "cell_type": "code",
   "execution_count": 10,
   "id": "2db438ab",
   "metadata": {},
   "outputs": [
    {
     "data": {
      "text/plain": [
       "0"
      ]
     },
     "execution_count": 10,
     "metadata": {},
     "output_type": "execute_result"
    }
   ],
   "source": [
    "f.seek(0)"
   ]
  },
  {
   "cell_type": "code",
   "execution_count": 11,
   "id": "73075b95",
   "metadata": {},
   "outputs": [
    {
     "data": {
      "text/plain": [
       "'this is my first python advanced class'"
      ]
     },
     "execution_count": 11,
     "metadata": {},
     "output_type": "execute_result"
    }
   ],
   "source": [
    "f.read()"
   ]
  },
  {
   "cell_type": "code",
   "execution_count": 12,
   "id": "4798bb72",
   "metadata": {},
   "outputs": [
    {
     "data": {
      "text/plain": [
       "4"
      ]
     },
     "execution_count": 12,
     "metadata": {},
     "output_type": "execute_result"
    }
   ],
   "source": [
    "f.seek(4)"
   ]
  },
  {
   "cell_type": "code",
   "execution_count": 13,
   "id": "943d5436",
   "metadata": {},
   "outputs": [
    {
     "data": {
      "text/plain": [
       "' is my first python advanced class'"
      ]
     },
     "execution_count": 13,
     "metadata": {},
     "output_type": "execute_result"
    }
   ],
   "source": [
    "f.read()"
   ]
  },
  {
   "cell_type": "code",
   "execution_count": 14,
   "id": "3599bfc3",
   "metadata": {},
   "outputs": [],
   "source": [
    "f.close()"
   ]
  },
  {
   "cell_type": "code",
   "execution_count": 15,
   "id": "702d8af6",
   "metadata": {},
   "outputs": [
    {
     "name": "stdout",
     "output_type": "stream",
     "text": [
      " Volume in drive C has no label.\n",
      " Volume Serial Number is 82D9-AA04\n",
      "\n",
      " Directory of C:\\Users\\LENOVO\\Documents\\advanced python\n",
      "\n",
      "02/02/2024  11:43 AM    <DIR>          .\n",
      "02/02/2024  11:43 AM    <DIR>          ..\n",
      "02/02/2024  11:27 AM    <DIR>          .ipynb_checkpoints\n",
      "02/02/2024  11:43 AM             2,578 file handling.ipynb\n",
      "02/02/2024  11:42 AM                38 text1\n",
      "               2 File(s)          2,616 bytes\n",
      "               3 Dir(s)  195,780,841,472 bytes free\n"
     ]
    }
   ],
   "source": [
    "%ls"
   ]
  },
  {
   "cell_type": "code",
   "execution_count": 16,
   "id": "ab0571e4",
   "metadata": {},
   "outputs": [],
   "source": [
    "g=open('text2','w')"
   ]
  },
  {
   "cell_type": "code",
   "execution_count": 17,
   "id": "e758e97e",
   "metadata": {},
   "outputs": [
    {
     "data": {
      "text/plain": [
       "22"
      ]
     },
     "execution_count": 17,
     "metadata": {},
     "output_type": "execute_result"
    }
   ],
   "source": [
    "g.write('we created text file 2')"
   ]
  },
  {
   "cell_type": "code",
   "execution_count": 18,
   "id": "8c7abfa1",
   "metadata": {},
   "outputs": [],
   "source": [
    "f.close()"
   ]
  },
  {
   "cell_type": "code",
   "execution_count": 19,
   "id": "9069802b",
   "metadata": {},
   "outputs": [],
   "source": [
    "g= open('text2','r+')"
   ]
  },
  {
   "cell_type": "code",
   "execution_count": 20,
   "id": "682d18e4",
   "metadata": {},
   "outputs": [
    {
     "data": {
      "text/plain": [
       "'we created text file 2'"
      ]
     },
     "execution_count": 20,
     "metadata": {},
     "output_type": "execute_result"
    }
   ],
   "source": [
    "g.read()"
   ]
  },
  {
   "cell_type": "code",
   "execution_count": 21,
   "id": "080dcb97",
   "metadata": {},
   "outputs": [
    {
     "data": {
      "text/plain": [
       "27"
      ]
     },
     "execution_count": 21,
     "metadata": {},
     "output_type": "execute_result"
    }
   ],
   "source": [
    "g.write('this is my second sentence.')"
   ]
  },
  {
   "cell_type": "code",
   "execution_count": 22,
   "id": "e8f7476e",
   "metadata": {},
   "outputs": [
    {
     "data": {
      "text/plain": [
       "''"
      ]
     },
     "execution_count": 22,
     "metadata": {},
     "output_type": "execute_result"
    }
   ],
   "source": [
    "g.read()"
   ]
  },
  {
   "cell_type": "code",
   "execution_count": 23,
   "id": "5595b5a9",
   "metadata": {},
   "outputs": [
    {
     "data": {
      "text/plain": [
       "0"
      ]
     },
     "execution_count": 23,
     "metadata": {},
     "output_type": "execute_result"
    }
   ],
   "source": [
    "g.seek(0)"
   ]
  },
  {
   "cell_type": "code",
   "execution_count": 24,
   "id": "9583dec7",
   "metadata": {},
   "outputs": [
    {
     "data": {
      "text/plain": [
       "'we created text file 2this is my second sentence.'"
      ]
     },
     "execution_count": 24,
     "metadata": {},
     "output_type": "execute_result"
    }
   ],
   "source": [
    "g.read()"
   ]
  },
  {
   "cell_type": "code",
   "execution_count": 25,
   "id": "d77fded5",
   "metadata": {},
   "outputs": [
    {
     "data": {
      "text/plain": [
       "0"
      ]
     },
     "execution_count": 25,
     "metadata": {},
     "output_type": "execute_result"
    }
   ],
   "source": [
    "g.seek(0)"
   ]
  },
  {
   "cell_type": "code",
   "execution_count": 26,
   "id": "810cbc9a",
   "metadata": {},
   "outputs": [
    {
     "data": {
      "text/plain": [
       "25"
      ]
     },
     "execution_count": 26,
     "metadata": {},
     "output_type": "execute_result"
    }
   ],
   "source": [
    "g.write('this is my third sentence')"
   ]
  },
  {
   "cell_type": "code",
   "execution_count": 27,
   "id": "10527ad4",
   "metadata": {},
   "outputs": [
    {
     "data": {
      "text/plain": [
       "'s is my second sentence.'"
      ]
     },
     "execution_count": 27,
     "metadata": {},
     "output_type": "execute_result"
    }
   ],
   "source": [
    "g.read()"
   ]
  },
  {
   "cell_type": "code",
   "execution_count": 28,
   "id": "9ef20bd5",
   "metadata": {},
   "outputs": [
    {
     "data": {
      "text/plain": [
       "0"
      ]
     },
     "execution_count": 28,
     "metadata": {},
     "output_type": "execute_result"
    }
   ],
   "source": [
    "g.seek(0)"
   ]
  },
  {
   "cell_type": "code",
   "execution_count": 29,
   "id": "36bcbcca",
   "metadata": {},
   "outputs": [
    {
     "data": {
      "text/plain": [
       "'this is my third sentences is my second sentence.'"
      ]
     },
     "execution_count": 29,
     "metadata": {},
     "output_type": "execute_result"
    }
   ],
   "source": [
    "g.read()"
   ]
  },
  {
   "cell_type": "code",
   "execution_count": 30,
   "id": "ba951d11",
   "metadata": {},
   "outputs": [],
   "source": [
    "g.close()"
   ]
  },
  {
   "cell_type": "code",
   "execution_count": 31,
   "id": "5d52efb5",
   "metadata": {},
   "outputs": [],
   "source": [
    "b=open('text3','w')"
   ]
  },
  {
   "cell_type": "code",
   "execution_count": 32,
   "id": "57c73abc",
   "metadata": {},
   "outputs": [
    {
     "data": {
      "text/plain": [
       "16"
      ]
     },
     "execution_count": 32,
     "metadata": {},
     "output_type": "execute_result"
    }
   ],
   "source": [
    "b.write('my name is vivek')"
   ]
  },
  {
   "cell_type": "code",
   "execution_count": 34,
   "id": "1ca37b52",
   "metadata": {},
   "outputs": [],
   "source": [
    "b.close()"
   ]
  },
  {
   "cell_type": "code",
   "execution_count": 39,
   "id": "f6a758b0",
   "metadata": {},
   "outputs": [],
   "source": [
    "b=open('text3','r+')"
   ]
  },
  {
   "cell_type": "code",
   "execution_count": 40,
   "id": "391f36cf",
   "metadata": {},
   "outputs": [
    {
     "data": {
      "text/plain": [
       "'my name is vivek'"
      ]
     },
     "execution_count": 40,
     "metadata": {},
     "output_type": "execute_result"
    }
   ],
   "source": [
    "b.read()"
   ]
  },
  {
   "cell_type": "code",
   "execution_count": 41,
   "id": "9cc524bf",
   "metadata": {},
   "outputs": [
    {
     "data": {
      "text/plain": [
       "18"
      ]
     },
     "execution_count": 41,
     "metadata": {},
     "output_type": "execute_result"
    }
   ],
   "source": [
    "b.write('my sirname is mote')"
   ]
  },
  {
   "cell_type": "code",
   "execution_count": 44,
   "id": "8e4cbd7e",
   "metadata": {},
   "outputs": [],
   "source": [
    "b.close()"
   ]
  },
  {
   "cell_type": "code",
   "execution_count": 45,
   "id": "b858f9a6",
   "metadata": {},
   "outputs": [],
   "source": [
    "b=open('text3','r')"
   ]
  },
  {
   "cell_type": "code",
   "execution_count": 46,
   "id": "222dd137",
   "metadata": {},
   "outputs": [
    {
     "data": {
      "text/plain": [
       "'my name is vivekmy sirname is mote'"
      ]
     },
     "execution_count": 46,
     "metadata": {},
     "output_type": "execute_result"
    }
   ],
   "source": [
    "b.read()"
   ]
  },
  {
   "cell_type": "code",
   "execution_count": 47,
   "id": "51c78a55",
   "metadata": {},
   "outputs": [
    {
     "data": {
      "text/plain": [
       "0"
      ]
     },
     "execution_count": 47,
     "metadata": {},
     "output_type": "execute_result"
    }
   ],
   "source": [
    "b.seek(0)"
   ]
  },
  {
   "cell_type": "code",
   "execution_count": 55,
   "id": "804264af",
   "metadata": {},
   "outputs": [],
   "source": [
    "b=open('text3','r+')"
   ]
  },
  {
   "cell_type": "code",
   "execution_count": 56,
   "id": "9b642b17",
   "metadata": {},
   "outputs": [
    {
     "data": {
      "text/plain": [
       "23"
      ]
     },
     "execution_count": 56,
     "metadata": {},
     "output_type": "execute_result"
    }
   ],
   "source": [
    "b.write('my village is gunjegaon')"
   ]
  },
  {
   "cell_type": "code",
   "execution_count": 57,
   "id": "d1f1a13e",
   "metadata": {},
   "outputs": [
    {
     "data": {
      "text/plain": [
       "''"
      ]
     },
     "execution_count": 57,
     "metadata": {},
     "output_type": "execute_result"
    }
   ],
   "source": [
    "b.read()"
   ]
  },
  {
   "cell_type": "code",
   "execution_count": 58,
   "id": "1ff9278f",
   "metadata": {},
   "outputs": [
    {
     "data": {
      "text/plain": [
       "0"
      ]
     },
     "execution_count": 58,
     "metadata": {},
     "output_type": "execute_result"
    }
   ],
   "source": [
    "b.seek(0)"
   ]
  },
  {
   "cell_type": "code",
   "execution_count": 60,
   "id": "5fb0ac66",
   "metadata": {},
   "outputs": [
    {
     "data": {
      "text/plain": [
       "''"
      ]
     },
     "execution_count": 60,
     "metadata": {},
     "output_type": "execute_result"
    }
   ],
   "source": [
    "b.read()"
   ]
  },
  {
   "cell_type": "code",
   "execution_count": null,
   "id": "108ec244",
   "metadata": {},
   "outputs": [],
   "source": []
  },
  {
   "cell_type": "code",
   "execution_count": null,
   "id": "b3a64af2",
   "metadata": {},
   "outputs": [],
   "source": []
  }
 ],
 "metadata": {
  "kernelspec": {
   "display_name": "Python 3 (ipykernel)",
   "language": "python",
   "name": "python3"
  },
  "language_info": {
   "codemirror_mode": {
    "name": "ipython",
    "version": 3
   },
   "file_extension": ".py",
   "mimetype": "text/x-python",
   "name": "python",
   "nbconvert_exporter": "python",
   "pygments_lexer": "ipython3",
   "version": "3.11.5"
  }
 },
 "nbformat": 4,
 "nbformat_minor": 5
}
