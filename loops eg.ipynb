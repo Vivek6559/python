{
 "cells": [
  {
   "cell_type": "code",
   "execution_count": 1,
   "id": "03726fbf",
   "metadata": {},
   "outputs": [],
   "source": [
    "j=['data','scince','analysis']"
   ]
  },
  {
   "cell_type": "code",
   "execution_count": 2,
   "id": "55b98c1e",
   "metadata": {},
   "outputs": [
    {
     "name": "stdout",
     "output_type": "stream",
     "text": [
      "data\n",
      "scince\n",
      "analysis\n"
     ]
    }
   ],
   "source": [
    "for i in j:\n",
    "    print(i)"
   ]
  },
  {
   "cell_type": "code",
   "execution_count": 4,
   "id": "f686fd6c",
   "metadata": {},
   "outputs": [
    {
     "name": "stdout",
     "output_type": "stream",
     "text": [
      "d\n",
      "a\n",
      "t\n",
      "a\n",
      "s\n",
      "c\n",
      "i\n",
      "n\n",
      "c\n",
      "e\n",
      "a\n",
      "n\n",
      "a\n",
      "l\n",
      "y\n",
      "s\n",
      "i\n",
      "s\n"
     ]
    }
   ],
   "source": [
    "for i in j:\n",
    "    for d in i:\n",
    "        print(d)"
   ]
  },
  {
   "cell_type": "code",
   "execution_count": 5,
   "id": "6a673325",
   "metadata": {},
   "outputs": [],
   "source": [
    "g=[1,1.5,10+3j, True,'data','scince',10,15,13,12,3.6]"
   ]
  },
  {
   "cell_type": "code",
   "execution_count": 7,
   "id": "45925226",
   "metadata": {},
   "outputs": [
    {
     "name": "stdout",
     "output_type": "stream",
     "text": [
      "data\n",
      "scince\n",
      "analysis\n"
     ]
    }
   ],
   "source": [
    "for i in j:\n",
    "    if type(i)== str:\n",
    "        print(i)"
   ]
  },
  {
   "cell_type": "code",
   "execution_count": 8,
   "id": "07b1c536",
   "metadata": {},
   "outputs": [],
   "source": [
    "l=[2,45,7,'vivek,6=7j',[54,34,34]]"
   ]
  },
  {
   "cell_type": "code",
   "execution_count": 13,
   "id": "9cc849d1",
   "metadata": {},
   "outputs": [
    {
     "name": "stdout",
     "output_type": "stream",
     "text": [
      "2\n",
      "45\n",
      "7\n",
      "54\n",
      "34\n",
      "34\n"
     ]
    }
   ],
   "source": [
    "for i in l:\n",
    "    if type(i)== int:\n",
    "        print(i)\n",
    "    elif type(i)== list:\n",
    "         for num in i:\n",
    "                print(num)\n",
    "        "
   ]
  },
  {
   "cell_type": "code",
   "execution_count": 15,
   "id": "61264a72",
   "metadata": {},
   "outputs": [],
   "source": [
    "a=[2,45,78,'vivek',6+5j,'new',[54,34,23,'data']]"
   ]
  },
  {
   "cell_type": "code",
   "execution_count": 16,
   "id": "ae8aa6fe",
   "metadata": {},
   "outputs": [],
   "source": [
    "k=[]"
   ]
  },
  {
   "cell_type": "code",
   "execution_count": 29,
   "id": "c85f24c5",
   "metadata": {},
   "outputs": [
    {
     "name": "stdout",
     "output_type": "stream",
     "text": [
      "vivek\n",
      "new\n",
      "data\n"
     ]
    }
   ],
   "source": [
    "for i in a:\n",
    "    if type(i)== str:\n",
    "        print(i)\n",
    "        k.append(i)\n",
    "    elif type(i)==list:\n",
    "        for num in i:\n",
    "            if type(num)== str:\n",
    "                print(num)\n",
    "                k.append(num)"
   ]
  },
  {
   "cell_type": "code",
   "execution_count": 30,
   "id": "77206764",
   "metadata": {},
   "outputs": [
    {
     "data": {
      "text/plain": [
       "['vivek', 'new', 'data']"
      ]
     },
     "execution_count": 30,
     "metadata": {},
     "output_type": "execute_result"
    }
   ],
   "source": [
    "k"
   ]
  },
  {
   "cell_type": "code",
   "execution_count": 9,
   "id": "6f1e60b1",
   "metadata": {},
   "outputs": [],
   "source": [
    "names=['vivek','rajat','mohit','rutuja','vaishnavi']"
   ]
  },
  {
   "cell_type": "code",
   "execution_count": 10,
   "id": "ec3a178e",
   "metadata": {},
   "outputs": [],
   "source": [
    "letters=[]"
   ]
  },
  {
   "cell_type": "code",
   "execution_count": 24,
   "id": "5638adba",
   "metadata": {},
   "outputs": [
    {
     "name": "stdout",
     "output_type": "stream",
     "text": [
      "v\n",
      "i\n",
      "v\n",
      "e\n",
      "k\n",
      "r\n",
      "a\n",
      "j\n",
      "a\n",
      "t\n",
      "m\n",
      "o\n",
      "h\n",
      "i\n",
      "t\n",
      "r\n",
      "u\n",
      "t\n",
      "u\n",
      "j\n",
      "a\n",
      "v\n",
      "a\n",
      "i\n",
      "s\n",
      "h\n",
      "n\n",
      "a\n",
      "v\n",
      "i\n"
     ]
    }
   ],
   "source": [
    "letters=[]\n",
    "for i in names:\n",
    "    for words in i:\n",
    "        print(words)\n",
    "        letters.append(words)\n",
    "\n",
    "        \n",
    "                       \n"
   ]
  },
  {
   "cell_type": "code",
   "execution_count": 13,
   "id": "963e9245",
   "metadata": {},
   "outputs": [],
   "source": [
    "#star pattern"
   ]
  },
  {
   "cell_type": "code",
   "execution_count": 14,
   "id": "26809a85",
   "metadata": {},
   "outputs": [
    {
     "name": "stdout",
     "output_type": "stream",
     "text": [
      "*\n",
      "**\n",
      "***\n",
      "****\n",
      "*****\n"
     ]
    }
   ],
   "source": [
    "for i in range(5):\n",
    "    print('*'*(i+1))"
   ]
  },
  {
   "cell_type": "code",
   "execution_count": 15,
   "id": "15e99fc8",
   "metadata": {},
   "outputs": [
    {
     "name": "stdout",
     "output_type": "stream",
     "text": [
      "0\n",
      "1\n",
      "2\n",
      "3\n",
      "4\n"
     ]
    }
   ],
   "source": [
    "for i in range(5):print(i)"
   ]
  },
  {
   "cell_type": "code",
   "execution_count": 25,
   "id": "57a583aa",
   "metadata": {},
   "outputs": [
    {
     "name": "stdout",
     "output_type": "stream",
     "text": [
      "*****\n",
      "****\n",
      "***\n",
      "**\n",
      "*\n"
     ]
    }
   ],
   "source": [
    "for i in range(5,0,-1): #it is uesd to print reverse order\n",
    "    print('*'*i)"
   ]
  },
  {
   "cell_type": "code",
   "execution_count": 18,
   "id": "96ba4be1",
   "metadata": {},
   "outputs": [
    {
     "name": "stdout",
     "output_type": "stream",
     "text": [
      "5\n",
      "4\n",
      "3\n",
      "2\n",
      "1\n"
     ]
    }
   ],
   "source": [
    "for i in range(5,0,-1):\n",
    "    print(i)"
   ]
  },
  {
   "cell_type": "code",
   "execution_count": 19,
   "id": "57024e9b",
   "metadata": {},
   "outputs": [],
   "source": [
    "#while true"
   ]
  },
  {
   "cell_type": "code",
   "execution_count": 20,
   "id": "21cf4ae7",
   "metadata": {},
   "outputs": [
    {
     "name": "stdout",
     "output_type": "stream",
     "text": [
      "entre the exit to endno\n",
      "write proper exit button, you written: no\n",
      "entre the exit to endyes\n",
      "write proper exit button, you written: yes\n",
      "entre the exit to endEXIT\n",
      "exited the loop\n"
     ]
    }
   ],
   "source": [
    "while True:\n",
    "    user_input =input('entre the exit to end')\n",
    "    if user_input.lower()== 'exit':\n",
    "        print('exited the loop')\n",
    "        break\n",
    "    else:\n",
    "        print('write proper exit button, you written:',user_input)"
   ]
  },
  {
   "cell_type": "code",
   "execution_count": 29,
   "id": "cfc055f6",
   "metadata": {},
   "outputs": [
    {
     "name": "stdout",
     "output_type": "stream",
     "text": [
      "entre the exit to endexit\n",
      "exited the loop\n"
     ]
    }
   ],
   "source": [
    "while True:\n",
    "    user_input=input('entre the exit to end')\n",
    "    if user_input.lower()=='exit':\n",
    "        print('exited the loop')\n",
    "        break\n",
    "    else:\n",
    "        print('write proper exit button, you written:',user_input)"
   ]
  },
  {
   "cell_type": "code",
   "execution_count": 28,
   "id": "a3bdaa18",
   "metadata": {},
   "outputs": [
    {
     "name": "stdout",
     "output_type": "stream",
     "text": [
      "1.bhel\n",
      "2.panipuri\n",
      "3.pav bhaji\n",
      "4.exit\n",
      "entre your choice1\n",
      "your order of bhel is completed\n",
      "1.bhel\n",
      "2.panipuri\n",
      "3.pav bhaji\n",
      "4.exit\n",
      "entre your choice3\n",
      "your order of pav bhaji is completed\n",
      "1.bhel\n",
      "2.panipuri\n",
      "3.pav bhaji\n",
      "4.exit\n",
      "entre your choice4\n",
      "exiting the order\n"
     ]
    }
   ],
   "source": [
    "while True:\n",
    "    print('1.bhel')\n",
    "    print('2.panipuri')\n",
    "    print('3.pav bhaji')\n",
    "    print('4.exit')\n",
    "    \n",
    "    choice= input('entre your choice')\n",
    "    \n",
    "    if choice == '1' :\n",
    "        print('your order of bhel is completed')\n",
    "    elif choice =='2':\n",
    "        print('your order of pani pui is completed')\n",
    "    elif choice =='3':\n",
    "        print('your order of pav bhaji is completed')\n",
    "    elif choice=='4':\n",
    "        print('exiting the order')\n",
    "        break\n",
    "    else:\n",
    "        print('please slect avalid menue,try again')"
   ]
  },
  {
   "cell_type": "code",
   "execution_count": null,
   "id": "90521b63",
   "metadata": {},
   "outputs": [],
   "source": []
  }
 ],
 "metadata": {
  "kernelspec": {
   "display_name": "Python 3 (ipykernel)",
   "language": "python",
   "name": "python3"
  },
  "language_info": {
   "codemirror_mode": {
    "name": "ipython",
    "version": 3
   },
   "file_extension": ".py",
   "mimetype": "text/x-python",
   "name": "python",
   "nbconvert_exporter": "python",
   "pygments_lexer": "ipython3",
   "version": "3.11.5"
  }
 },
 "nbformat": 4,
 "nbformat_minor": 5
}
