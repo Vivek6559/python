{
 "cells": [
  {
   "cell_type": "code",
   "execution_count": 36,
   "id": "88cc4efb",
   "metadata": {},
   "outputs": [
    {
     "name": "stdout",
     "output_type": "stream",
     "text": [
      "entre a first number3\n",
      "+,-,*,/,%,**:+\n",
      " entre a second number5\n",
      "8\n"
     ]
    }
   ],
   "source": [
    "first=int(input('entre a first number'))\n",
    "oprator=input('+,-,*,/,%,**:', )\n",
    "second=int(input(' entre a second number'))\n",
    "#first=int(input())\n",
    "#second=int(input())\n",
    "if oprator == '+':\n",
    "    print(first + second)\n",
    "elif oprator =='-':\n",
    "    print(first - second)\n",
    "elif oprator =='*':\n",
    "    print(first * second)\n",
    "elif oprator =='%':\n",
    "    print(first % second)\n",
    "elif oprator =='/':\n",
    "    print(first / second)\n",
    "elif oprator=='**':\n",
    "    print(first**second)\n",
    "else:\n",
    "    print('selcet valid oprator')"
   ]
  }
 ],
 "metadata": {
  "kernelspec": {
   "display_name": "Python 3 (ipykernel)",
   "language": "python",
   "name": "python3"
  },
  "language_info": {
   "codemirror_mode": {
    "name": "ipython",
    "version": 3
   },
   "file_extension": ".py",
   "mimetype": "text/x-python",
   "name": "python",
   "nbconvert_exporter": "python",
   "pygments_lexer": "ipython3",
   "version": "3.11.5"
  }
 },
 "nbformat": 4,
 "nbformat_minor": 5
}
