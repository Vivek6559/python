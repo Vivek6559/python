{
 "cells": [
  {
   "cell_type": "code",
   "execution_count": 30,
   "id": "7af8b6db",
   "metadata": {},
   "outputs": [],
   "source": [
    "import logging "
   ]
  },
  {
   "cell_type": "code",
   "execution_count": 31,
   "id": "361f8f51",
   "metadata": {},
   "outputs": [],
   "source": [
    "logging.basicConfig(filename = 'logtest3.log',Level = logging.debug, format = '%(asctime)s %(levelname)s %(message)s')"
   ]
  },
  {
   "cell_type": "code",
   "execution_count": 32,
   "id": "66126cb3",
   "metadata": {},
   "outputs": [],
   "source": [
    "def divbyzeero(a,b):\n",
    "    logging.info('This is start of my code and i am trying to enter % and %',a,b)\n",
    "    try:\n",
    "        div = a/b\n",
    "        logging.info('Excuted succ')\n",
    "    except Exception as e:\n",
    "        logging.error('Error has happened')\n",
    "        logging.exception('Exception occured' + str(e))"
   ]
  },
  {
   "cell_type": "code",
   "execution_count": 33,
   "id": "93778881",
   "metadata": {},
   "outputs": [],
   "source": [
    "divbyzeero(4,0)"
   ]
  },
  {
   "cell_type": "code",
   "execution_count": 34,
   "id": "686c3c43",
   "metadata": {},
   "outputs": [],
   "source": [
    "divbyzeero(4,8)"
   ]
  },
  {
   "cell_type": "code",
   "execution_count": 35,
   "id": "0819b548",
   "metadata": {},
   "outputs": [],
   "source": [
    "def addi(a,b):\n",
    "    logging.info('This is start of my code and i am trying to enter % and %',a,b)\n",
    "    try:\n",
    "        add = a+b\n",
    "        logging.info('Excuted succ')\n",
    "    except Exception as e:\n",
    "        logging.error('Error has happened')\n",
    "        logging.exception('Exception occured' + str(e))"
   ]
  },
  {
   "cell_type": "code",
   "execution_count": 36,
   "id": "d17426f8",
   "metadata": {},
   "outputs": [],
   "source": [
    "addi(1,'d')"
   ]
  },
  {
   "cell_type": "code",
   "execution_count": 37,
   "id": "829d9e36",
   "metadata": {},
   "outputs": [
    {
     "data": {
      "text/plain": [
       "<function logging.shutdown(handlerList=[<weakref at 0x000002A9104C0B80; to 'StreamHandler' at 0x000002A9154BC150>, <weakref at 0x000002A9154D80E0; to 'StreamHandler' at 0x000002A9125303D0>, <weakref at 0x000002A9154DB420; to 'FileHandler' at 0x000002A9154D3BD0>])>"
      ]
     },
     "execution_count": 37,
     "metadata": {},
     "output_type": "execute_result"
    }
   ],
   "source": [
    "logging.shutdown"
   ]
  },
  {
   "cell_type": "code",
   "execution_count": null,
   "id": "8cd5ab76",
   "metadata": {},
   "outputs": [],
   "source": []
  }
 ],
 "metadata": {
  "kernelspec": {
   "display_name": "Python 3 (ipykernel)",
   "language": "python",
   "name": "python3"
  },
  "language_info": {
   "codemirror_mode": {
    "name": "ipython",
    "version": 3
   },
   "file_extension": ".py",
   "mimetype": "text/x-python",
   "name": "python",
   "nbconvert_exporter": "python",
   "pygments_lexer": "ipython3",
   "version": "3.11.5"
  }
 },
 "nbformat": 4,
 "nbformat_minor": 5
}
