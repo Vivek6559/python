{
 "cells": [
  {
   "cell_type": "code",
   "execution_count": 3,
   "id": "6a26a525",
   "metadata": {},
   "outputs": [
    {
     "name": "stdout",
     "output_type": "stream",
     "text": [
      "python\n",
      "gfgfg\n",
      "this topic is not avilable in python\n"
     ]
    }
   ],
   "source": [
    "course=input()\n",
    "topic=input()\n",
    "\n",
    "if course =='python':\n",
    "    if topic=='data scince':\n",
    "        print('yes data scince is avilable in python course')\n",
    "        \n",
    "    elif topic =='data analyst':\n",
    "        print('yes data analyst is avilable in python course')\n",
    "    \n",
    "    else:\n",
    "        print('this topic is not avilable in python')\n",
    "elif course == 'java':\n",
    "    if topic=='front end':\n",
    "        \n",
    "        print('yes front end is avilable in java course')\n",
    "    elif topic =='back end':\n",
    "    \n",
    "        print('yes back end is avilable in java course')\n",
    "else:\n",
    "     print('please select valid course')"
   ]
  },
  {
   "cell_type": "code",
   "execution_count": 6,
   "id": "3b32f907",
   "metadata": {},
   "outputs": [
    {
     "name": "stdout",
     "output_type": "stream",
     "text": [
      "python\n",
      "eww\n",
      "no discount for python\n"
     ]
    }
   ],
   "source": [
    "course=input()\n",
    "couponcode=input()\n",
    "\n",
    "if course == 'python':\n",
    "    if couponcode=='NEW2024':\n",
    "        print('discount is 1000rs')\n",
    "    elif couponcode=='FEB2024':\n",
    "         print('discont is 500rs')\n",
    "            \n",
    "    else:\n",
    "        print('no discount for python')\n",
    "elif course=='java':\n",
    "    if couponcode=='NEW2024':\n",
    "        print('discount is 1000rs')\n",
    "    elif cuoponcode=='FEB2024':\n",
    "        print('discount is 500rs')\n",
    "    else:\n",
    "        print('no discount for java')\n",
    "else:\n",
    "    print('select valid coupon')\n",
    "        \n",
    "    \n",
    "        "
   ]
  },
  {
   "cell_type": "code",
   "execution_count": null,
   "id": "29761b37",
   "metadata": {},
   "outputs": [],
   "source": []
  }
 ],
 "metadata": {
  "kernelspec": {
   "display_name": "Python 3 (ipykernel)",
   "language": "python",
   "name": "python3"
  },
  "language_info": {
   "codemirror_mode": {
    "name": "ipython",
    "version": 3
   },
   "file_extension": ".py",
   "mimetype": "text/x-python",
   "name": "python",
   "nbconvert_exporter": "python",
   "pygments_lexer": "ipython3",
   "version": "3.11.5"
  }
 },
 "nbformat": 4,
 "nbformat_minor": 5
}
