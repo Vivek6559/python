{
 "cells": [
  {
   "cell_type": "code",
   "execution_count": 1,
   "id": "e51cd933",
   "metadata": {},
   "outputs": [],
   "source": [
    "def numbers(a):\n",
    "    print(a)"
   ]
  },
  {
   "cell_type": "code",
   "execution_count": 2,
   "id": "24b367ef",
   "metadata": {},
   "outputs": [
    {
     "name": "stdout",
     "output_type": "stream",
     "text": [
      "10\n"
     ]
    }
   ],
   "source": [
    "numbers(10)"
   ]
  },
  {
   "cell_type": "code",
   "execution_count": 3,
   "id": "29430f4c",
   "metadata": {},
   "outputs": [
    {
     "name": "stdout",
     "output_type": "stream",
     "text": [
      "data\n"
     ]
    }
   ],
   "source": [
    "numbers('data')"
   ]
  },
  {
   "cell_type": "code",
   "execution_count": 4,
   "id": "34df2679",
   "metadata": {},
   "outputs": [
    {
     "ename": "TypeError",
     "evalue": "numbers() takes 1 positional argument but 2 were given",
     "output_type": "error",
     "traceback": [
      "\u001b[1;31m---------------------------------------------------------------------------\u001b[0m",
      "\u001b[1;31mTypeError\u001b[0m                                 Traceback (most recent call last)",
      "Cell \u001b[1;32mIn[4], line 1\u001b[0m\n\u001b[1;32m----> 1\u001b[0m numbers(\u001b[38;5;241m19\u001b[39m,\u001b[38;5;241m2\u001b[39m)\n",
      "\u001b[1;31mTypeError\u001b[0m: numbers() takes 1 positional argument but 2 were given"
     ]
    }
   ],
   "source": [
    "numbers(19,2)"
   ]
  },
  {
   "cell_type": "code",
   "execution_count": 5,
   "id": "75f8fa8e",
   "metadata": {},
   "outputs": [],
   "source": [
    "def test1(a):\n",
    "    return a"
   ]
  },
  {
   "cell_type": "code",
   "execution_count": 6,
   "id": "92bb132b",
   "metadata": {},
   "outputs": [
    {
     "data": {
      "text/plain": [
       "23"
      ]
     },
     "execution_count": 6,
     "metadata": {},
     "output_type": "execute_result"
    }
   ],
   "source": [
    "test1(23)"
   ]
  },
  {
   "cell_type": "code",
   "execution_count": 8,
   "id": "c2fd8329",
   "metadata": {},
   "outputs": [
    {
     "data": {
      "text/plain": [
       "[1, 2, 3, 4, 5]"
      ]
     },
     "execution_count": 8,
     "metadata": {},
     "output_type": "execute_result"
    }
   ],
   "source": [
    "test1([1,2,3,4,5])"
   ]
  },
  {
   "cell_type": "code",
   "execution_count": 10,
   "id": "7c352e5a",
   "metadata": {},
   "outputs": [],
   "source": [
    "b=[1,2,3,'data']"
   ]
  },
  {
   "cell_type": "code",
   "execution_count": 11,
   "id": "04b518a8",
   "metadata": {},
   "outputs": [
    {
     "data": {
      "text/plain": [
       "[1, 2, 3, 'data']"
      ]
     },
     "execution_count": 11,
     "metadata": {},
     "output_type": "execute_result"
    }
   ],
   "source": [
    "test1(b)"
   ]
  },
  {
   "cell_type": "code",
   "execution_count": 12,
   "id": "c149b231",
   "metadata": {},
   "outputs": [],
   "source": [
    "def test2(a):\n",
    "    for i in a:\n",
    "        print(i)"
   ]
  },
  {
   "cell_type": "code",
   "execution_count": 13,
   "id": "492c70c5",
   "metadata": {},
   "outputs": [
    {
     "name": "stdout",
     "output_type": "stream",
     "text": [
      "1\n",
      "2\n",
      "3\n",
      "data\n"
     ]
    }
   ],
   "source": [
    "test2(b)"
   ]
  },
  {
   "cell_type": "code",
   "execution_count": 16,
   "id": "44408d15",
   "metadata": {},
   "outputs": [],
   "source": [
    "def test3(a):\n",
    "    for i in a:\n",
    "        return i"
   ]
  },
  {
   "cell_type": "code",
   "execution_count": 18,
   "id": "71f5e18c",
   "metadata": {},
   "outputs": [
    {
     "data": {
      "text/plain": [
       "1"
      ]
     },
     "execution_count": 18,
     "metadata": {},
     "output_type": "execute_result"
    }
   ],
   "source": [
    "test3(b)"
   ]
  },
  {
   "cell_type": "code",
   "execution_count": 19,
   "id": "3d51e763",
   "metadata": {},
   "outputs": [
    {
     "data": {
      "text/plain": [
       "int"
      ]
     },
     "execution_count": 19,
     "metadata": {},
     "output_type": "execute_result"
    }
   ],
   "source": [
    "type(test3(b))"
   ]
  },
  {
   "cell_type": "code",
   "execution_count": 20,
   "id": "75b8977b",
   "metadata": {},
   "outputs": [
    {
     "name": "stdout",
     "output_type": "stream",
     "text": [
      "1\n"
     ]
    },
    {
     "data": {
      "text/plain": [
       "NoneType"
      ]
     },
     "execution_count": 20,
     "metadata": {},
     "output_type": "execute_result"
    }
   ],
   "source": [
    "type(numbers(1))"
   ]
  },
  {
   "cell_type": "code",
   "execution_count": 22,
   "id": "b48e3a84",
   "metadata": {},
   "outputs": [],
   "source": [
    "def test4(a):\n",
    "    print(a)"
   ]
  },
  {
   "cell_type": "code",
   "execution_count": 23,
   "id": "c1eec36c",
   "metadata": {},
   "outputs": [
    {
     "name": "stdout",
     "output_type": "stream",
     "text": [
      "4\n"
     ]
    }
   ],
   "source": [
    "test4(4)"
   ]
  },
  {
   "cell_type": "code",
   "execution_count": 24,
   "id": "bf0385e1",
   "metadata": {},
   "outputs": [
    {
     "name": "stdout",
     "output_type": "stream",
     "text": [
      "1\n"
     ]
    },
    {
     "data": {
      "text/plain": [
       "NoneType"
      ]
     },
     "execution_count": 24,
     "metadata": {},
     "output_type": "execute_result"
    }
   ],
   "source": [
    "type(test4(1))"
   ]
  },
  {
   "cell_type": "code",
   "execution_count": 25,
   "id": "a28fd1f2",
   "metadata": {},
   "outputs": [],
   "source": [
    "def test5(a):\n",
    "    return a"
   ]
  },
  {
   "cell_type": "code",
   "execution_count": 26,
   "id": "39e53f4b",
   "metadata": {},
   "outputs": [
    {
     "data": {
      "text/plain": [
       "2"
      ]
     },
     "execution_count": 26,
     "metadata": {},
     "output_type": "execute_result"
    }
   ],
   "source": [
    "test5(2)"
   ]
  },
  {
   "cell_type": "code",
   "execution_count": 27,
   "id": "1bedd13f",
   "metadata": {},
   "outputs": [
    {
     "data": {
      "text/plain": [
       "int"
      ]
     },
     "execution_count": 27,
     "metadata": {},
     "output_type": "execute_result"
    }
   ],
   "source": [
    "type(test5(2))"
   ]
  },
  {
   "cell_type": "code",
   "execution_count": 31,
   "id": "e563dc6e",
   "metadata": {},
   "outputs": [],
   "source": [
    "def test6(a,b):\n",
    "    return a,b"
   ]
  },
  {
   "cell_type": "code",
   "execution_count": 32,
   "id": "9924a11e",
   "metadata": {},
   "outputs": [
    {
     "data": {
      "text/plain": [
       "(14, 45)"
      ]
     },
     "execution_count": 32,
     "metadata": {},
     "output_type": "execute_result"
    }
   ],
   "source": [
    "test6(14,45)"
   ]
  },
  {
   "cell_type": "code",
   "execution_count": 33,
   "id": "4d2e5500",
   "metadata": {},
   "outputs": [],
   "source": [
    "def test7(a,b):\n",
    "    return a*b\n",
    "\n",
    "    "
   ]
  },
  {
   "cell_type": "code",
   "execution_count": 34,
   "id": "c614c60c",
   "metadata": {},
   "outputs": [
    {
     "data": {
      "text/plain": [
       "75"
      ]
     },
     "execution_count": 34,
     "metadata": {},
     "output_type": "execute_result"
    }
   ],
   "source": [
    "test7(15,5)"
   ]
  },
  {
   "cell_type": "code",
   "execution_count": 35,
   "id": "13aa4657",
   "metadata": {},
   "outputs": [],
   "source": [
    "def test8(a):\n",
    "    return a**2"
   ]
  },
  {
   "cell_type": "code",
   "execution_count": 36,
   "id": "ba4d4679",
   "metadata": {},
   "outputs": [
    {
     "data": {
      "text/plain": [
       "9"
      ]
     },
     "execution_count": 36,
     "metadata": {},
     "output_type": "execute_result"
    }
   ],
   "source": [
    "test8(3)"
   ]
  },
  {
   "cell_type": "code",
   "execution_count": 39,
   "id": "96c9a8a1",
   "metadata": {},
   "outputs": [],
   "source": [
    "def test9(a,x,y):\n",
    "    return a/x * y"
   ]
  },
  {
   "cell_type": "code",
   "execution_count": 40,
   "id": "2f201001",
   "metadata": {},
   "outputs": [
    {
     "data": {
      "text/plain": [
       "4.0"
      ]
     },
     "execution_count": 40,
     "metadata": {},
     "output_type": "execute_result"
    }
   ],
   "source": [
    "test9(10,5,2)"
   ]
  },
  {
   "cell_type": "code",
   "execution_count": 1,
   "id": "7c272465",
   "metadata": {},
   "outputs": [
    {
     "ename": "SyntaxError",
     "evalue": "invalid syntax (2301533802.py, line 1)",
     "output_type": "error",
     "traceback": [
      "\u001b[1;36m  Cell \u001b[1;32mIn[1], line 1\u001b[1;36m\u001b[0m\n\u001b[1;33m    you have to create function for\u001b[0m\n\u001b[1;37m        ^\u001b[0m\n\u001b[1;31mSyntaxError\u001b[0m\u001b[1;31m:\u001b[0m invalid syntax\n"
     ]
    }
   ],
   "source": [
    "you have to create function for \n"
   ]
  },
  {
   "cell_type": "code",
   "execution_count": 2,
   "id": "be2ce2b9",
   "metadata": {},
   "outputs": [],
   "source": [
    "def vivek(a,b):\n",
    "    print(a*b)\n",
    "    print(a/b)\n",
    "    print(a+b)\n",
    "    "
   ]
  },
  {
   "cell_type": "code",
   "execution_count": 5,
   "id": "e757201b",
   "metadata": {},
   "outputs": [
    {
     "name": "stdout",
     "output_type": "stream",
     "text": [
      "50\n",
      "2.0\n",
      "15\n"
     ]
    }
   ],
   "source": [
    "vivek(10,5)"
   ]
  },
  {
   "cell_type": "code",
   "execution_count": 7,
   "id": "73ccef56",
   "metadata": {},
   "outputs": [
    {
     "name": "stdout",
     "output_type": "stream",
     "text": [
      "no\n",
      "no\n"
     ]
    }
   ],
   "source": [
    "vivek=(10,5)\n",
    "for i in vivek:\n",
    "    if i/2==0:\n",
    "        print('yes')\n",
    "    else:\n",
    "        print('no')"
   ]
  },
  {
   "cell_type": "code",
   "execution_count": 12,
   "id": "8e4f097a",
   "metadata": {},
   "outputs": [],
   "source": [
    "def v(q,w):\n",
    "    if q%w==0:\n",
    "        print('yes')\n",
    "    else:\n",
    "        print('no')"
   ]
  },
  {
   "cell_type": "code",
   "execution_count": 13,
   "id": "1b21731c",
   "metadata": {},
   "outputs": [
    {
     "name": "stdout",
     "output_type": "stream",
     "text": [
      "yes\n"
     ]
    }
   ],
   "source": [
    "v(10,5)"
   ]
  },
  {
   "cell_type": "code",
   "execution_count": 19,
   "id": "74648150",
   "metadata": {},
   "outputs": [],
   "source": [
    "def test0(a):\n",
    "    return(a**2)"
   ]
  },
  {
   "cell_type": "code",
   "execution_count": 23,
   "id": "f72d7af1",
   "metadata": {},
   "outputs": [
    {
     "data": {
      "text/plain": [
       "16"
      ]
     },
     "execution_count": 23,
     "metadata": {},
     "output_type": "execute_result"
    }
   ],
   "source": [
    "test0(4)"
   ]
  },
  {
   "cell_type": "code",
   "execution_count": null,
   "id": "c627313a",
   "metadata": {},
   "outputs": [],
   "source": []
  }
 ],
 "metadata": {
  "kernelspec": {
   "display_name": "Python 3 (ipykernel)",
   "language": "python",
   "name": "python3"
  },
  "language_info": {
   "codemirror_mode": {
    "name": "ipython",
    "version": 3
   },
   "file_extension": ".py",
   "mimetype": "text/x-python",
   "name": "python",
   "nbconvert_exporter": "python",
   "pygments_lexer": "ipython3",
   "version": "3.11.5"
  }
 },
 "nbformat": 4,
 "nbformat_minor": 5
}
