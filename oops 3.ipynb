{
 "cells": [
  {
   "cell_type": "code",
   "execution_count": 1,
   "id": "26e337e2",
   "metadata": {},
   "outputs": [],
   "source": [
    "class xyz:\n",
    "    def __init__(self,a,b,c):\n",
    "        self.a = a # public\n",
    "        self._b = b #Protected\n",
    "        self.__c = c # Private\n",
    "        \n",
    "class xyz2(xyz):\n",
    "    pass\n",
    "        \n",
    "        "
   ]
  },
  {
   "cell_type": "code",
   "execution_count": 2,
   "id": "03f9cbcf",
   "metadata": {},
   "outputs": [],
   "source": [
    "x = xyz2(1,2,3)"
   ]
  },
  {
   "cell_type": "code",
   "execution_count": 3,
   "id": "5b0f393f",
   "metadata": {},
   "outputs": [
    {
     "data": {
      "text/plain": [
       "1"
      ]
     },
     "execution_count": 3,
     "metadata": {},
     "output_type": "execute_result"
    }
   ],
   "source": [
    "x.a"
   ]
  },
  {
   "cell_type": "code",
   "execution_count": 4,
   "id": "1c7bd19b",
   "metadata": {},
   "outputs": [
    {
     "data": {
      "text/plain": [
       "2"
      ]
     },
     "execution_count": 4,
     "metadata": {},
     "output_type": "execute_result"
    }
   ],
   "source": [
    "x._b"
   ]
  },
  {
   "cell_type": "code",
   "execution_count": 5,
   "id": "82ebd93b",
   "metadata": {},
   "outputs": [
    {
     "data": {
      "text/plain": [
       "3"
      ]
     },
     "execution_count": 5,
     "metadata": {},
     "output_type": "execute_result"
    }
   ],
   "source": [
    "x._xyz__c"
   ]
  },
  {
   "cell_type": "code",
   "execution_count": null,
   "id": "2b0d1ec9",
   "metadata": {},
   "outputs": [],
   "source": []
  },
  {
   "cell_type": "markdown",
   "id": "8cc63124",
   "metadata": {},
   "source": [
    "# polymorohism"
   ]
  },
  {
   "cell_type": "code",
   "execution_count": 6,
   "id": "e6e7ec10",
   "metadata": {},
   "outputs": [],
   "source": [
    "# Method Overriding"
   ]
  },
  {
   "cell_type": "code",
   "execution_count": 7,
   "id": "a15decba",
   "metadata": {},
   "outputs": [],
   "source": [
    "class Animal:\n",
    "    def make_sound(self):\n",
    "        print('Animal makes sound')\n",
    "class Dog(Animal):\n",
    "    def make_sound(self):\n",
    "        print('Dog Barks')\n",
    "         \n",
    "class Cat(Animal):\n",
    "    def make_sound(self):\n",
    "        print('Cat mewos')"
   ]
  },
  {
   "cell_type": "code",
   "execution_count": 8,
   "id": "0a640ac9",
   "metadata": {},
   "outputs": [],
   "source": [
    "dog = Dog()"
   ]
  },
  {
   "cell_type": "code",
   "execution_count": 9,
   "id": "7b9de105",
   "metadata": {},
   "outputs": [
    {
     "name": "stdout",
     "output_type": "stream",
     "text": [
      "Dog Barks\n"
     ]
    }
   ],
   "source": [
    "dog.make_sound()"
   ]
  },
  {
   "cell_type": "code",
   "execution_count": 10,
   "id": "fa69b6d8",
   "metadata": {},
   "outputs": [],
   "source": [
    "cat = Cat()"
   ]
  },
  {
   "cell_type": "code",
   "execution_count": 11,
   "id": "742ed888",
   "metadata": {},
   "outputs": [
    {
     "name": "stdout",
     "output_type": "stream",
     "text": [
      "Cat mewos\n"
     ]
    }
   ],
   "source": [
    "cat.make_sound()"
   ]
  },
  {
   "cell_type": "code",
   "execution_count": 12,
   "id": "06e7e635",
   "metadata": {},
   "outputs": [],
   "source": [
    "elephent = Animal()"
   ]
  },
  {
   "cell_type": "code",
   "execution_count": 13,
   "id": "e3aa9103",
   "metadata": {},
   "outputs": [
    {
     "name": "stdout",
     "output_type": "stream",
     "text": [
      "Animal makes sound\n"
     ]
    }
   ],
   "source": [
    "elephent.make_sound()"
   ]
  },
  {
   "cell_type": "code",
   "execution_count": 14,
   "id": "7fd9e163",
   "metadata": {},
   "outputs": [],
   "source": [
    "class Shape:\n",
    "    def area(self):\n",
    "        pass\n",
    "class Rectangle(Shape):\n",
    "    def __init__(self,width, height):\n",
    "        self.width = width\n",
    "        self.height= height\n",
    "        \n",
    "    def area(self):\n",
    "        return self.width * self.height\n",
    "    \n",
    "class Circle(Shape):\n",
    "    def __init__(self,redius):\n",
    "        self.redius = redius\n",
    "        \n",
    "    def area(self):\n",
    "        return 3.14 * self.redius ** 2\n",
    "    "
   ]
  },
  {
   "cell_type": "code",
   "execution_count": 15,
   "id": "98e505fa",
   "metadata": {},
   "outputs": [],
   "source": [
    "rect = Rectangle(5,4)"
   ]
  },
  {
   "cell_type": "code",
   "execution_count": 16,
   "id": "46c9c361",
   "metadata": {},
   "outputs": [
    {
     "data": {
      "text/plain": [
       "20"
      ]
     },
     "execution_count": 16,
     "metadata": {},
     "output_type": "execute_result"
    }
   ],
   "source": [
    "rect.area()"
   ]
  },
  {
   "cell_type": "code",
   "execution_count": 17,
   "id": "295b7973",
   "metadata": {},
   "outputs": [
    {
     "data": {
      "text/plain": [
       "4"
      ]
     },
     "execution_count": 17,
     "metadata": {},
     "output_type": "execute_result"
    }
   ],
   "source": [
    "rect.height"
   ]
  },
  {
   "cell_type": "code",
   "execution_count": 18,
   "id": "c7a4db33",
   "metadata": {},
   "outputs": [
    {
     "data": {
      "text/plain": [
       "5"
      ]
     },
     "execution_count": 18,
     "metadata": {},
     "output_type": "execute_result"
    }
   ],
   "source": [
    "rect.width"
   ]
  },
  {
   "cell_type": "code",
   "execution_count": 19,
   "id": "b67c541f",
   "metadata": {},
   "outputs": [],
   "source": [
    "circle = Circle(10)"
   ]
  },
  {
   "cell_type": "code",
   "execution_count": 20,
   "id": "8a9641b0",
   "metadata": {},
   "outputs": [
    {
     "data": {
      "text/plain": [
       "314.0"
      ]
     },
     "execution_count": 20,
     "metadata": {},
     "output_type": "execute_result"
    }
   ],
   "source": [
    "circle.area()"
   ]
  },
  {
   "cell_type": "code",
   "execution_count": 21,
   "id": "6c1f7f16",
   "metadata": {},
   "outputs": [
    {
     "data": {
      "text/plain": [
       "10"
      ]
     },
     "execution_count": 21,
     "metadata": {},
     "output_type": "execute_result"
    }
   ],
   "source": [
    "circle.redius"
   ]
  },
  {
   "cell_type": "code",
   "execution_count": 22,
   "id": "6dcad865",
   "metadata": {},
   "outputs": [],
   "source": [
    "class Social_Media:\n",
    "    def share_stories(self):\n",
    "        print('Share a story')\n",
    "    def upload_pic(self):\n",
    "        print(\"This will help me to upload picture\")\n",
    "class facebook(Social_Media):\n",
    "    def share_stories(self):\n",
    "        print('This will help me to share story on Facebook')\n",
    "class Instagram(Social_Media):\n",
    "    def share_stories(self):\n",
    "        print('This will help me to share story on Instagram')"
   ]
  },
  {
   "cell_type": "code",
   "execution_count": 23,
   "id": "eba3fd5a",
   "metadata": {},
   "outputs": [],
   "source": [
    "f = facebook()"
   ]
  },
  {
   "cell_type": "code",
   "execution_count": 24,
   "id": "b3c4aa47",
   "metadata": {},
   "outputs": [
    {
     "name": "stdout",
     "output_type": "stream",
     "text": [
      "This will help me to upload picture\n"
     ]
    }
   ],
   "source": [
    "f.upload_pic()"
   ]
  },
  {
   "cell_type": "code",
   "execution_count": 25,
   "id": "060e938a",
   "metadata": {},
   "outputs": [
    {
     "name": "stdout",
     "output_type": "stream",
     "text": [
      "This will help me to share story on Facebook\n"
     ]
    }
   ],
   "source": [
    "f.share_stories()"
   ]
  },
  {
   "cell_type": "code",
   "execution_count": 26,
   "id": "2392bea5",
   "metadata": {},
   "outputs": [],
   "source": [
    "i = Instagram()"
   ]
  },
  {
   "cell_type": "code",
   "execution_count": 27,
   "id": "e135510b",
   "metadata": {},
   "outputs": [
    {
     "name": "stdout",
     "output_type": "stream",
     "text": [
      "This will help me to upload picture\n"
     ]
    }
   ],
   "source": [
    "i.upload_pic()"
   ]
  },
  {
   "cell_type": "code",
   "execution_count": 28,
   "id": "e8462647",
   "metadata": {},
   "outputs": [
    {
     "name": "stdout",
     "output_type": "stream",
     "text": [
      "This will help me to share story on Instagram\n"
     ]
    }
   ],
   "source": [
    "i.share_stories()"
   ]
  },
  {
   "cell_type": "code",
   "execution_count": null,
   "id": "2d666dcb",
   "metadata": {},
   "outputs": [],
   "source": []
  }
 ],
 "metadata": {
  "kernelspec": {
   "display_name": "Python 3 (ipykernel)",
   "language": "python",
   "name": "python3"
  },
  "language_info": {
   "codemirror_mode": {
    "name": "ipython",
    "version": 3
   },
   "file_extension": ".py",
   "mimetype": "text/x-python",
   "name": "python",
   "nbconvert_exporter": "python",
   "pygments_lexer": "ipython3",
   "version": "3.11.5"
  }
 },
 "nbformat": 4,
 "nbformat_minor": 5
}
