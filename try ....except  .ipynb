{
 "cells": [
  {
   "cell_type": "code",
   "execution_count": 1,
   "id": "d32019e3",
   "metadata": {},
   "outputs": [],
   "source": [
    "a=8\n"
   ]
  },
  {
   "cell_type": "code",
   "execution_count": 2,
   "id": "c708e1fc",
   "metadata": {},
   "outputs": [
    {
     "name": "stdout",
     "output_type": "stream",
     "text": [
      "80\n"
     ]
    }
   ],
   "source": [
    "print(a*10)"
   ]
  },
  {
   "cell_type": "code",
   "execution_count": 3,
   "id": "7b41e5da",
   "metadata": {},
   "outputs": [],
   "source": [
    "a=a+5"
   ]
  },
  {
   "cell_type": "code",
   "execution_count": 4,
   "id": "cf92367f",
   "metadata": {},
   "outputs": [
    {
     "name": "stdout",
     "output_type": "stream",
     "text": [
      "code is now in a = a + 'data'\n"
     ]
    }
   ],
   "source": [
    "try:\n",
    "    a=a+'data'\n",
    "except:\n",
    "    print(\"code is now in a = a + 'data'\")"
   ]
  },
  {
   "cell_type": "code",
   "execution_count": 5,
   "id": "9153dd77",
   "metadata": {},
   "outputs": [
    {
     "name": "stdout",
     "output_type": "stream",
     "text": [
      "my project is complated\n"
     ]
    }
   ],
   "source": [
    "print('my project is complated')"
   ]
  },
  {
   "cell_type": "code",
   "execution_count": 9,
   "id": "2e5b667b",
   "metadata": {},
   "outputs": [
    {
     "name": "stdout",
     "output_type": "stream",
     "text": [
      "entre your int number3\n",
      "result: 3.3333333333333335\n"
     ]
    }
   ],
   "source": [
    "try:\n",
    "    x=int(input('entre your int number'))\n",
    "    result=10/x\n",
    "    print('result:',result)\n",
    "except ZeroDivisionError:\n",
    "    print('cannot divide by zreo')\n",
    "except ValueError:\n",
    "    print('please entre int data input ')"
   ]
  },
  {
   "cell_type": "code",
   "execution_count": 10,
   "id": "c1c1c689",
   "metadata": {},
   "outputs": [
    {
     "name": "stdout",
     "output_type": "stream",
     "text": [
      "entre your int numberjewhkhd\n",
      "please entre int data input \n",
      "execution of code is completed\n"
     ]
    }
   ],
   "source": [
    "try:\n",
    "    x=int(input('entre your int number'))\n",
    "    result=10/x\n",
    "    print('result:',result)\n",
    "except ZeroDivisionError:\n",
    "    print('cannot divide by zreo')\n",
    "except ValueError:\n",
    "    print('please entre int data input ')\n",
    "    \n",
    "else:\n",
    "    print('no exception occured')\n",
    "    \n",
    "finally:\n",
    "    # code that be executed that no matter\n",
    "    print('execution of code is completed')\n",
    "    "
   ]
  },
  {
   "cell_type": "code",
   "execution_count": 1,
   "id": "2f0ee3dd",
   "metadata": {},
   "outputs": [
    {
     "name": "stdout",
     "output_type": "stream",
     "text": [
      "file is not found at the location ,except blog is excuted\n",
      "i am at karave nager\n"
     ]
    }
   ],
   "source": [
    "try:\n",
    "    f=open('file1','r')\n",
    "    f.read()\n",
    "except FileNotFoundError:\n",
    "    print('file is not found at the location ,except blog is excuted')\n",
    "else:\n",
    "    print('try blog is excuted')\n",
    "finally:\n",
    "    print('i am at karave nager')"
   ]
  },
  {
   "cell_type": "code",
   "execution_count": 2,
   "id": "5ff485e2",
   "metadata": {},
   "outputs": [
    {
     "name": "stdout",
     "output_type": "stream",
     "text": [
      "try blog is excuted\n",
      "i am at karave nager\n"
     ]
    }
   ],
   "source": [
    "try:\n",
    "    f=open('file1','w')\n",
    "    f.write('we are testing try except blog')\n",
    "    f.close\n",
    "except FileNotFoundError:\n",
    "    print('file is not found at the location ,except blog is excuted')\n",
    "else:\n",
    "    print('try blog is excuted')\n",
    "finally:\n",
    "    print('i am at karave nager')"
   ]
  },
  {
   "cell_type": "code",
   "execution_count": 3,
   "id": "c1663474",
   "metadata": {},
   "outputs": [],
   "source": [
    "l=[12,14,121,232,34]"
   ]
  },
  {
   "cell_type": "code",
   "execution_count": 5,
   "id": "fd90cccf",
   "metadata": {},
   "outputs": [
    {
     "name": "stdout",
     "output_type": "stream",
     "text": [
      "0\n",
      "1\n",
      "2\n",
      "3\n",
      "4\n"
     ]
    }
   ],
   "source": [
    "for i in range(len(l)):\n",
    "    print(i)\n"
   ]
  },
  {
   "cell_type": "code",
   "execution_count": 8,
   "id": "72661444",
   "metadata": {},
   "outputs": [
    {
     "name": "stdout",
     "output_type": "stream",
     "text": [
      "error in for i in range\n"
     ]
    }
   ],
   "source": [
    "try:\n",
    "    for i in range(len(h)):\n",
    "        \n",
    "        print(i)  \n",
    "except:\n",
    "\n",
    "    print('error in for i in range')\n",
    "    "
   ]
  },
  {
   "cell_type": "code",
   "execution_count": 9,
   "id": "c73c42a8",
   "metadata": {},
   "outputs": [
    {
     "ename": "TypeError",
     "evalue": "can only concatenate list (not \"int\") to list",
     "output_type": "error",
     "traceback": [
      "\u001b[1;31m---------------------------------------------------------------------------\u001b[0m",
      "\u001b[1;31mTypeError\u001b[0m                                 Traceback (most recent call last)",
      "Cell \u001b[1;32mIn[9], line 1\u001b[0m\n\u001b[1;32m----> 1\u001b[0m \u001b[38;5;28;01mfor\u001b[39;00m i \u001b[38;5;129;01min\u001b[39;00m (l\u001b[38;5;241m+\u001b[39m\u001b[38;5;241m1\u001b[39m):\n\u001b[0;32m      2\u001b[0m     \u001b[38;5;28mprint\u001b[39m(i)\n",
      "\u001b[1;31mTypeError\u001b[0m: can only concatenate list (not \"int\") to list"
     ]
    }
   ],
   "source": [
    "for i in (l+1):\n",
    "    print(i)"
   ]
  },
  {
   "cell_type": "code",
   "execution_count": 10,
   "id": "5ac070cb",
   "metadata": {},
   "outputs": [
    {
     "name": "stdout",
     "output_type": "stream",
     "text": [
      "error in for loop of karave nager\n"
     ]
    }
   ],
   "source": [
    "try:\n",
    "    for i in len(l+1):\n",
    "        print(i)\n",
    "except:\n",
    "    print('error in for loop of karave nager')"
   ]
  },
  {
   "cell_type": "code",
   "execution_count": null,
   "id": "6ec0ec13",
   "metadata": {},
   "outputs": [],
   "source": []
  }
 ],
 "metadata": {
  "kernelspec": {
   "display_name": "Python 3 (ipykernel)",
   "language": "python",
   "name": "python3"
  },
  "language_info": {
   "codemirror_mode": {
    "name": "ipython",
    "version": 3
   },
   "file_extension": ".py",
   "mimetype": "text/x-python",
   "name": "python",
   "nbconvert_exporter": "python",
   "pygments_lexer": "ipython3",
   "version": "3.11.5"
  }
 },
 "nbformat": 4,
 "nbformat_minor": 5
}
