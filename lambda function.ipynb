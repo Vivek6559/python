{
 "cells": [
  {
   "cell_type": "code",
   "execution_count": 1,
   "id": "809096ec",
   "metadata": {},
   "outputs": [],
   "source": [
    "# lambda function"
   ]
  },
  {
   "cell_type": "code",
   "execution_count": 2,
   "id": "2b710aaa",
   "metadata": {},
   "outputs": [],
   "source": [
    "b=lambda a:a *2"
   ]
  },
  {
   "cell_type": "code",
   "execution_count": 3,
   "id": "d90e2f91",
   "metadata": {},
   "outputs": [
    {
     "data": {
      "text/plain": [
       "20"
      ]
     },
     "execution_count": 3,
     "metadata": {},
     "output_type": "execute_result"
    }
   ],
   "source": [
    "b(10)"
   ]
  },
  {
   "cell_type": "code",
   "execution_count": 4,
   "id": "a53f3cad",
   "metadata": {},
   "outputs": [],
   "source": [
    "v=lambda a,b :a*b"
   ]
  },
  {
   "cell_type": "code",
   "execution_count": 5,
   "id": "e5def00d",
   "metadata": {},
   "outputs": [
    {
     "data": {
      "text/plain": [
       "30"
      ]
     },
     "execution_count": 5,
     "metadata": {},
     "output_type": "execute_result"
    }
   ],
   "source": [
    "v(10,3)"
   ]
  },
  {
   "cell_type": "code",
   "execution_count": 6,
   "id": "b46c60da",
   "metadata": {},
   "outputs": [],
   "source": [
    "h=lambda *args:args"
   ]
  },
  {
   "cell_type": "code",
   "execution_count": 7,
   "id": "ce7436bc",
   "metadata": {},
   "outputs": [
    {
     "data": {
      "text/plain": [
       "(1, 2, 3, 4, 5)"
      ]
     },
     "execution_count": 7,
     "metadata": {},
     "output_type": "execute_result"
    }
   ],
   "source": [
    "h(1,2,3,4,5)"
   ]
  },
  {
   "cell_type": "code",
   "execution_count": 8,
   "id": "ccd7a2a0",
   "metadata": {},
   "outputs": [],
   "source": [
    "x=lambda a,b:(a+b,a*b)"
   ]
  },
  {
   "cell_type": "code",
   "execution_count": 9,
   "id": "317eed06",
   "metadata": {},
   "outputs": [
    {
     "data": {
      "text/plain": [
       "(15, 50)"
      ]
     },
     "execution_count": 9,
     "metadata": {},
     "output_type": "execute_result"
    }
   ],
   "source": [
    "x(10,5)"
   ]
  },
  {
   "cell_type": "code",
   "execution_count": 4,
   "id": "e2dafac7",
   "metadata": {},
   "outputs": [],
   "source": [
    "c=lambda a,b:(a**b,a+b,a/b,a-b,a*b,a,)"
   ]
  },
  {
   "cell_type": "code",
   "execution_count": 7,
   "id": "6cff1cc6",
   "metadata": {},
   "outputs": [
    {
     "data": {
      "text/plain": [
       "(10000, 14, 2.5, 6, 40)"
      ]
     },
     "execution_count": 7,
     "metadata": {},
     "output_type": "execute_result"
    }
   ],
   "source": [
    "c(10,4)"
   ]
  },
  {
   "cell_type": "code",
   "execution_count": 5,
   "id": "5186ebb5",
   "metadata": {},
   "outputs": [],
   "source": [
    "b=lambda s,d:(s/d,s**d,s-d,s+d)"
   ]
  },
  {
   "cell_type": "code",
   "execution_count": 9,
   "id": "3460473b",
   "metadata": {},
   "outputs": [
    {
     "data": {
      "text/plain": [
       "(5.0, 10000000000000000000000000000000000000000, 80, 120)"
      ]
     },
     "execution_count": 9,
     "metadata": {},
     "output_type": "execute_result"
    }
   ],
   "source": [
    "b(100,20)"
   ]
  },
  {
   "cell_type": "code",
   "execution_count": 10,
   "id": "1c86da02",
   "metadata": {},
   "outputs": [],
   "source": [
    "r=lambda t,v,h:(t*v/h)"
   ]
  },
  {
   "cell_type": "code",
   "execution_count": 12,
   "id": "fe815fca",
   "metadata": {},
   "outputs": [
    {
     "data": {
      "text/plain": [
       "6.0"
      ]
     },
     "execution_count": 12,
     "metadata": {},
     "output_type": "execute_result"
    }
   ],
   "source": [
    "r(8,3,4)"
   ]
  },
  {
   "cell_type": "code",
   "execution_count": null,
   "id": "87696a27",
   "metadata": {},
   "outputs": [],
   "source": []
  }
 ],
 "metadata": {
  "kernelspec": {
   "display_name": "Python 3 (ipykernel)",
   "language": "python",
   "name": "python3"
  },
  "language_info": {
   "codemirror_mode": {
    "name": "ipython",
    "version": 3
   },
   "file_extension": ".py",
   "mimetype": "text/x-python",
   "name": "python",
   "nbconvert_exporter": "python",
   "pygments_lexer": "ipython3",
   "version": "3.11.5"
  }
 },
 "nbformat": 4,
 "nbformat_minor": 5
}
