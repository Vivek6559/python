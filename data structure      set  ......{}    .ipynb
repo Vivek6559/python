{
 "cells": [
  {
   "cell_type": "markdown",
   "id": "fc6495b2",
   "metadata": {},
   "source": [
    "# set {}"
   ]
  },
  {
   "cell_type": "code",
   "execution_count": 1,
   "id": "afc9eb53",
   "metadata": {},
   "outputs": [],
   "source": [
    "#set starts form{}\n",
    "# duplicate is not allowed in set"
   ]
  },
  {
   "cell_type": "code",
   "execution_count": 10,
   "id": "2c5e1dc4",
   "metadata": {},
   "outputs": [],
   "source": [
    "a={1,2,3,4,5,6,'vivek',20+3j,2.3,False}"
   ]
  },
  {
   "cell_type": "code",
   "execution_count": 9,
   "id": "7cffc0d9",
   "metadata": {},
   "outputs": [
    {
     "data": {
      "text/plain": [
       "set"
      ]
     },
     "execution_count": 9,
     "metadata": {},
     "output_type": "execute_result"
    }
   ],
   "source": [
    "type(a)"
   ]
  },
  {
   "cell_type": "code",
   "execution_count": 15,
   "id": "b443da4c",
   "metadata": {},
   "outputs": [],
   "source": [
    "a.add(7)"
   ]
  },
  {
   "cell_type": "code",
   "execution_count": 16,
   "id": "61b7aa2d",
   "metadata": {},
   "outputs": [
    {
     "name": "stdout",
     "output_type": "stream",
     "text": [
      "{False, 1, 2, 3, 4, 5, 6, 2.3, 7, 'vivek', (20+3j)}\n"
     ]
    }
   ],
   "source": [
    "print(a)"
   ]
  },
  {
   "cell_type": "code",
   "execution_count": 19,
   "id": "c6e37c84",
   "metadata": {},
   "outputs": [],
   "source": [
    "a.clear()"
   ]
  },
  {
   "cell_type": "code",
   "execution_count": 20,
   "id": "620b8e53",
   "metadata": {},
   "outputs": [
    {
     "data": {
      "text/plain": [
       "set()"
      ]
     },
     "execution_count": 20,
     "metadata": {},
     "output_type": "execute_result"
    }
   ],
   "source": [
    "a"
   ]
  },
  {
   "cell_type": "code",
   "execution_count": 22,
   "id": "065b8a6c",
   "metadata": {},
   "outputs": [],
   "source": [
    "b={1,2,3,4,5,'time',88.8,}"
   ]
  },
  {
   "cell_type": "code",
   "execution_count": 27,
   "id": "aa10e9fc",
   "metadata": {},
   "outputs": [],
   "source": [
    "b.discard(5)      # discard fun is uesd to delete element in set"
   ]
  },
  {
   "cell_type": "markdown",
   "id": "db431b42",
   "metadata": {},
   "source": [
    "b"
   ]
  },
  {
   "cell_type": "code",
   "execution_count": 26,
   "id": "27b0027d",
   "metadata": {},
   "outputs": [
    {
     "data": {
      "text/plain": [
       "{1, 2, 3, 4, 88.8, 'time'}"
      ]
     },
     "execution_count": 26,
     "metadata": {},
     "output_type": "execute_result"
    }
   ],
   "source": [
    "b"
   ]
  },
  {
   "cell_type": "code",
   "execution_count": 31,
   "id": "bc91c6b8",
   "metadata": {},
   "outputs": [],
   "source": [
    "b.update([6])# update[] fun usedto update element in set "
   ]
  },
  {
   "cell_type": "code",
   "execution_count": 30,
   "id": "5f5dc4d3",
   "metadata": {},
   "outputs": [
    {
     "data": {
      "text/plain": [
       "{1, 2, 3, 4, 6, 88.8, 'time'}"
      ]
     },
     "execution_count": 30,
     "metadata": {},
     "output_type": "execute_result"
    }
   ],
   "source": [
    "b"
   ]
  },
  {
   "cell_type": "code",
   "execution_count": 33,
   "id": "6a03e9b3",
   "metadata": {},
   "outputs": [
    {
     "data": {
      "text/plain": [
       "1"
      ]
     },
     "execution_count": 33,
     "metadata": {},
     "output_type": "execute_result"
    }
   ],
   "source": [
    "b.pop()"
   ]
  },
  {
   "cell_type": "code",
   "execution_count": 34,
   "id": "7d812041",
   "metadata": {},
   "outputs": [
    {
     "data": {
      "text/plain": [
       "{2, 3, 4, 6, 88.8, 'time'}"
      ]
     },
     "execution_count": 34,
     "metadata": {},
     "output_type": "execute_result"
    }
   ],
   "source": [
    "b"
   ]
  },
  {
   "cell_type": "code",
   "execution_count": 35,
   "id": "1dd8a170",
   "metadata": {},
   "outputs": [],
   "source": [
    "b.remove('time')"
   ]
  },
  {
   "cell_type": "code",
   "execution_count": 36,
   "id": "3e2f4415",
   "metadata": {},
   "outputs": [
    {
     "name": "stdout",
     "output_type": "stream",
     "text": [
      "{2, 3, 4, 6, 88.8}\n"
     ]
    }
   ],
   "source": [
    "print(b)"
   ]
  },
  {
   "cell_type": "code",
   "execution_count": 6,
   "id": "6446153d",
   "metadata": {},
   "outputs": [],
   "source": [
    "x={1,2,3,4,5}"
   ]
  },
  {
   "cell_type": "code",
   "execution_count": 7,
   "id": "61f63154",
   "metadata": {},
   "outputs": [],
   "source": [
    "y={2,4,3,5,6,7}"
   ]
  },
  {
   "cell_type": "code",
   "execution_count": 9,
   "id": "11da2bdb",
   "metadata": {},
   "outputs": [
    {
     "data": {
      "text/plain": [
       "{6, 7}"
      ]
     },
     "execution_count": 9,
     "metadata": {},
     "output_type": "execute_result"
    }
   ],
   "source": [
    "y.difference(x) # differencr fun used to compare diff in two set"
   ]
  },
  {
   "cell_type": "code",
   "execution_count": 48,
   "id": "005f963b",
   "metadata": {},
   "outputs": [
    {
     "data": {
      "text/plain": [
       "{1, 2, 3, 4, 5, 6, 7}"
      ]
     },
     "execution_count": 48,
     "metadata": {},
     "output_type": "execute_result"
    }
   ],
   "source": [
    "y.union(x) # uniom fun used to discard same element in set"
   ]
  },
  {
   "cell_type": "code",
   "execution_count": 49,
   "id": "51642cee",
   "metadata": {},
   "outputs": [
    {
     "data": {
      "text/plain": [
       "{2, 3, 4, 5}"
      ]
     },
     "execution_count": 49,
     "metadata": {},
     "output_type": "execute_result"
    }
   ],
   "source": [
    "x.intersection(y) # intersection fun used to find  same element in two set  "
   ]
  },
  {
   "cell_type": "code",
   "execution_count": 1,
   "id": "57e20ab0",
   "metadata": {},
   "outputs": [],
   "source": [
    "m={1,2,3,4,5}"
   ]
  },
  {
   "cell_type": "code",
   "execution_count": 2,
   "id": "7f8774f7",
   "metadata": {},
   "outputs": [],
   "source": [
    "n={1,2,3,4,5,6}"
   ]
  },
  {
   "cell_type": "code",
   "execution_count": 4,
   "id": "c9c6a599",
   "metadata": {},
   "outputs": [
    {
     "data": {
      "text/plain": [
       "{6}"
      ]
     },
     "execution_count": 4,
     "metadata": {},
     "output_type": "execute_result"
    }
   ],
   "source": [
    "n.difference(m)"
   ]
  },
  {
   "cell_type": "code",
   "execution_count": null,
   "id": "910ba6d6",
   "metadata": {},
   "outputs": [],
   "source": []
  }
 ],
 "metadata": {
  "kernelspec": {
   "display_name": "Python 3 (ipykernel)",
   "language": "python",
   "name": "python3"
  },
  "language_info": {
   "codemirror_mode": {
    "name": "ipython",
    "version": 3
   },
   "file_extension": ".py",
   "mimetype": "text/x-python",
   "name": "python",
   "nbconvert_exporter": "python",
   "pygments_lexer": "ipython3",
   "version": "3.11.5"
  }
 },
 "nbformat": 4,
 "nbformat_minor": 5
}
