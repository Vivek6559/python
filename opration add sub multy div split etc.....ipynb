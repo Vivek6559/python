{
 "cells": [
  {
   "cell_type": "code",
   "execution_count": 1,
   "id": "eaa8788d",
   "metadata": {},
   "outputs": [],
   "source": [
    "x=int()\n",
    "y=int()\n",
    "\n",
    "\n",
    "x=4\n",
    "y=5"
   ]
  },
  {
   "cell_type": "code",
   "execution_count": 2,
   "id": "903d6535",
   "metadata": {},
   "outputs": [
    {
     "data": {
      "text/plain": [
       "9"
      ]
     },
     "execution_count": 2,
     "metadata": {},
     "output_type": "execute_result"
    }
   ],
   "source": [
    "x+y"
   ]
  },
  {
   "cell_type": "code",
   "execution_count": 3,
   "id": "5be37735",
   "metadata": {},
   "outputs": [
    {
     "data": {
      "text/plain": [
       "20"
      ]
     },
     "execution_count": 3,
     "metadata": {},
     "output_type": "execute_result"
    }
   ],
   "source": [
    "x*y\n"
   ]
  },
  {
   "cell_type": "code",
   "execution_count": 4,
   "id": "9e845072",
   "metadata": {},
   "outputs": [
    {
     "data": {
      "text/plain": [
       "0.8"
      ]
     },
     "execution_count": 4,
     "metadata": {},
     "output_type": "execute_result"
    }
   ],
   "source": [
    "x/y"
   ]
  },
  {
   "cell_type": "code",
   "execution_count": 10,
   "id": "ebbde538",
   "metadata": {},
   "outputs": [
    {
     "name": "stdout",
     "output_type": "stream",
     "text": [
      "enter your age23\n",
      "23 is my age\n"
     ]
    }
   ],
   "source": [
    "a=int(input('enter your age'))\n",
    "print(a,'is my age')"
   ]
  },
  {
   "cell_type": "code",
   "execution_count": 11,
   "id": "3317b7d8",
   "metadata": {},
   "outputs": [],
   "source": [
    "x='vivek is my name'\n",
    "\n"
   ]
  },
  {
   "cell_type": "code",
   "execution_count": 12,
   "id": "7d235437",
   "metadata": {},
   "outputs": [
    {
     "data": {
      "text/plain": [
       "'vivek is my name'"
      ]
     },
     "execution_count": 12,
     "metadata": {},
     "output_type": "execute_result"
    }
   ],
   "source": [
    "x"
   ]
  },
  {
   "cell_type": "code",
   "execution_count": 13,
   "id": "d519faa8",
   "metadata": {},
   "outputs": [
    {
     "data": {
      "text/plain": [
       "'v'"
      ]
     },
     "execution_count": 13,
     "metadata": {},
     "output_type": "execute_result"
    }
   ],
   "source": [
    "x[2]"
   ]
  },
  {
   "cell_type": "code",
   "execution_count": 14,
   "id": "64462a04",
   "metadata": {},
   "outputs": [
    {
     "data": {
      "text/plain": [
       "'vive'"
      ]
     },
     "execution_count": 14,
     "metadata": {},
     "output_type": "execute_result"
    }
   ],
   "source": [
    "x[0:4]"
   ]
  },
  {
   "cell_type": "code",
   "execution_count": 15,
   "id": "4fd6a6b1",
   "metadata": {},
   "outputs": [
    {
     "data": {
      "text/plain": [
       "'vivek is my name'"
      ]
     },
     "execution_count": 15,
     "metadata": {},
     "output_type": "execute_result"
    }
   ],
   "source": [
    "x[:]"
   ]
  },
  {
   "cell_type": "code",
   "execution_count": 20,
   "id": "80c79127",
   "metadata": {},
   "outputs": [
    {
     "data": {
      "text/plain": [
       "'i'"
      ]
     },
     "execution_count": 20,
     "metadata": {},
     "output_type": "execute_result"
    }
   ],
   "source": [
    "x[1:2]"
   ]
  },
  {
   "cell_type": "code",
   "execution_count": 21,
   "id": "82726226",
   "metadata": {},
   "outputs": [
    {
     "data": {
      "text/plain": [
       "'ema'"
      ]
     },
     "execution_count": 21,
     "metadata": {},
     "output_type": "execute_result"
    }
   ],
   "source": [
    "x[-1:-4:-1]"
   ]
  },
  {
   "cell_type": "code",
   "execution_count": 22,
   "id": "a8b67848",
   "metadata": {},
   "outputs": [
    {
     "data": {
      "text/plain": [
       "'eman ym si keviv'"
      ]
     },
     "execution_count": 22,
     "metadata": {},
     "output_type": "execute_result"
    }
   ],
   "source": [
    "x[::-1]"
   ]
  },
  {
   "cell_type": "code",
   "execution_count": 23,
   "id": "ee14fb67",
   "metadata": {},
   "outputs": [],
   "source": [
    "f='gitlab'"
   ]
  },
  {
   "cell_type": "code",
   "execution_count": 24,
   "id": "45ab55b1",
   "metadata": {},
   "outputs": [
    {
     "data": {
      "text/plain": [
       "'gitlab'"
      ]
     },
     "execution_count": 24,
     "metadata": {},
     "output_type": "execute_result"
    }
   ],
   "source": [
    "f"
   ]
  },
  {
   "cell_type": "code",
   "execution_count": 26,
   "id": "45396181",
   "metadata": {},
   "outputs": [
    {
     "data": {
      "text/plain": [
       "'baltig'"
      ]
     },
     "execution_count": 26,
     "metadata": {},
     "output_type": "execute_result"
    }
   ],
   "source": [
    "f[::-1]"
   ]
  },
  {
   "cell_type": "code",
   "execution_count": 27,
   "id": "af13a658",
   "metadata": {},
   "outputs": [
    {
     "data": {
      "text/plain": [
       "'gitlab'"
      ]
     },
     "execution_count": 27,
     "metadata": {},
     "output_type": "execute_result"
    }
   ],
   "source": [
    "f"
   ]
  },
  {
   "cell_type": "code",
   "execution_count": 29,
   "id": "72f53a4b",
   "metadata": {},
   "outputs": [
    {
     "data": {
      "text/plain": [
       "1"
      ]
     },
     "execution_count": 29,
     "metadata": {},
     "output_type": "execute_result"
    }
   ],
   "source": [
    "f.count('t')"
   ]
  },
  {
   "cell_type": "code",
   "execution_count": 31,
   "id": "0ee76aa0",
   "metadata": {},
   "outputs": [],
   "source": [
    "g=\"pool\""
   ]
  },
  {
   "cell_type": "code",
   "execution_count": 32,
   "id": "abac5d09",
   "metadata": {},
   "outputs": [
    {
     "data": {
      "text/plain": [
       "2"
      ]
     },
     "execution_count": 32,
     "metadata": {},
     "output_type": "execute_result"
    }
   ],
   "source": [
    "g.count('o')"
   ]
  },
  {
   "cell_type": "code",
   "execution_count": 33,
   "id": "81ff527b",
   "metadata": {},
   "outputs": [
    {
     "data": {
      "text/plain": [
       "['p', '', 'l']"
      ]
     },
     "execution_count": 33,
     "metadata": {},
     "output_type": "execute_result"
    }
   ],
   "source": [
    "g.split('o')"
   ]
  },
  {
   "cell_type": "code",
   "execution_count": 35,
   "id": "161843b9",
   "metadata": {},
   "outputs": [],
   "source": [
    "j='your name'"
   ]
  },
  {
   "cell_type": "code",
   "execution_count": 36,
   "id": "15151ae9",
   "metadata": {},
   "outputs": [
    {
     "data": {
      "text/plain": [
       "'your name'"
      ]
     },
     "execution_count": 36,
     "metadata": {},
     "output_type": "execute_result"
    }
   ],
   "source": [
    "j"
   ]
  },
  {
   "cell_type": "code",
   "execution_count": 37,
   "id": "7f0d092e",
   "metadata": {},
   "outputs": [
    {
     "data": {
      "text/plain": [
       "['your', 'name']"
      ]
     },
     "execution_count": 37,
     "metadata": {},
     "output_type": "execute_result"
    }
   ],
   "source": [
    "j.split()"
   ]
  },
  {
   "cell_type": "code",
   "execution_count": 38,
   "id": "6ce2b8c8",
   "metadata": {},
   "outputs": [],
   "source": [
    "k=j.split()"
   ]
  },
  {
   "cell_type": "code",
   "execution_count": 39,
   "id": "0cb381c1",
   "metadata": {},
   "outputs": [
    {
     "data": {
      "text/plain": [
       "['your', 'name']"
      ]
     },
     "execution_count": 39,
     "metadata": {},
     "output_type": "execute_result"
    }
   ],
   "source": [
    "k"
   ]
  },
  {
   "cell_type": "code",
   "execution_count": 40,
   "id": "16746b5c",
   "metadata": {},
   "outputs": [
    {
     "data": {
      "text/plain": [
       "['y', 'ur name']"
      ]
     },
     "execution_count": 40,
     "metadata": {},
     "output_type": "execute_result"
    }
   ],
   "source": [
    "j.split('o')"
   ]
  },
  {
   "cell_type": "code",
   "execution_count": 41,
   "id": "8353df96",
   "metadata": {},
   "outputs": [],
   "source": [
    "l='datascience'"
   ]
  },
  {
   "cell_type": "code",
   "execution_count": 42,
   "id": "788e81d8",
   "metadata": {},
   "outputs": [
    {
     "data": {
      "text/plain": [
       "['data', 'cience']"
      ]
     },
     "execution_count": 42,
     "metadata": {},
     "output_type": "execute_result"
    }
   ],
   "source": [
    "l.split('s')"
   ]
  },
  {
   "cell_type": "code",
   "execution_count": 43,
   "id": "d9f8c197",
   "metadata": {},
   "outputs": [
    {
     "data": {
      "text/plain": [
       "2"
      ]
     },
     "execution_count": 43,
     "metadata": {},
     "output_type": "execute_result"
    }
   ],
   "source": [
    "l.count('a')"
   ]
  },
  {
   "cell_type": "code",
   "execution_count": 44,
   "id": "31c281ff",
   "metadata": {},
   "outputs": [
    {
     "data": {
      "text/plain": [
       "0"
      ]
     },
     "execution_count": 44,
     "metadata": {},
     "output_type": "execute_result"
    }
   ],
   "source": [
    "l.count('y')"
   ]
  },
  {
   "cell_type": "code",
   "execution_count": 45,
   "id": "f9d6cad5",
   "metadata": {},
   "outputs": [],
   "source": [
    "v='vivek'"
   ]
  },
  {
   "cell_type": "code",
   "execution_count": 46,
   "id": "3cf7b67c",
   "metadata": {},
   "outputs": [
    {
     "data": {
      "text/plain": [
       "'vivek'"
      ]
     },
     "execution_count": 46,
     "metadata": {},
     "output_type": "execute_result"
    }
   ],
   "source": [
    "v"
   ]
  },
  {
   "cell_type": "code",
   "execution_count": null,
   "id": "f9773e91",
   "metadata": {},
   "outputs": [],
   "source": []
  }
 ],
 "metadata": {
  "kernelspec": {
   "display_name": "Python 3 (ipykernel)",
   "language": "python",
   "name": "python3"
  },
  "language_info": {
   "codemirror_mode": {
    "name": "ipython",
    "version": 3
   },
   "file_extension": ".py",
   "mimetype": "text/x-python",
   "name": "python",
   "nbconvert_exporter": "python",
   "pygments_lexer": "ipython3",
   "version": "3.11.5"
  }
 },
 "nbformat": 4,
 "nbformat_minor": 5
}
