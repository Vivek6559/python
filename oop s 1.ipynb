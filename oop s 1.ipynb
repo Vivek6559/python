{
 "cells": [
  {
   "cell_type": "code",
   "execution_count": 1,
   "id": "96ac8e5c",
   "metadata": {},
   "outputs": [],
   "source": [
    "class car:\n",
    "    def __init__(self,body_type,engine,fuel,color):\n",
    "        self.body_type = body_type\n",
    "        self.engine = engine\n",
    "        self.fuel = fuel\n",
    "        self.color = color\n",
    "    def test(self):\n",
    "        print('This is my test in class of car')"
   ]
  },
  {
   "cell_type": "code",
   "execution_count": 2,
   "id": "5ed19ecb",
   "metadata": {},
   "outputs": [],
   "source": [
    "Nexon = car('SUV',1500,'Petrol','Red')"
   ]
  },
  {
   "cell_type": "code",
   "execution_count": 3,
   "id": "1b545dd9",
   "metadata": {},
   "outputs": [
    {
     "data": {
      "text/plain": [
       "'SUV'"
      ]
     },
     "execution_count": 3,
     "metadata": {},
     "output_type": "execute_result"
    }
   ],
   "source": [
    "Nexon.body_type"
   ]
  },
  {
   "cell_type": "code",
   "execution_count": 4,
   "id": "214084d8",
   "metadata": {},
   "outputs": [
    {
     "data": {
      "text/plain": [
       "'Red'"
      ]
     },
     "execution_count": 4,
     "metadata": {},
     "output_type": "execute_result"
    }
   ],
   "source": [
    "Nexon.color"
   ]
  },
  {
   "cell_type": "code",
   "execution_count": 6,
   "id": "64ec8fe8",
   "metadata": {},
   "outputs": [
    {
     "data": {
      "text/plain": [
       "'Petrol'"
      ]
     },
     "execution_count": 6,
     "metadata": {},
     "output_type": "execute_result"
    }
   ],
   "source": [
    "Nexon.fuel"
   ]
  },
  {
   "cell_type": "code",
   "execution_count": 7,
   "id": "74fb9305",
   "metadata": {},
   "outputs": [
    {
     "data": {
      "text/plain": [
       "1500"
      ]
     },
     "execution_count": 7,
     "metadata": {},
     "output_type": "execute_result"
    }
   ],
   "source": [
    "Nexon.engine"
   ]
  },
  {
   "cell_type": "code",
   "execution_count": 8,
   "id": "fc3f80d0",
   "metadata": {},
   "outputs": [
    {
     "name": "stdout",
     "output_type": "stream",
     "text": [
      "This is my test in class of car\n"
     ]
    }
   ],
   "source": [
    "Nexon.test()"
   ]
  },
  {
   "cell_type": "code",
   "execution_count": 9,
   "id": "0c265811",
   "metadata": {},
   "outputs": [],
   "source": [
    "Fortuner = car('SUV',2000,'Diesel','White')"
   ]
  },
  {
   "cell_type": "code",
   "execution_count": 10,
   "id": "583fb4ff",
   "metadata": {},
   "outputs": [
    {
     "data": {
      "text/plain": [
       "'SUV'"
      ]
     },
     "execution_count": 10,
     "metadata": {},
     "output_type": "execute_result"
    }
   ],
   "source": [
    "Fortuner.body_type"
   ]
  },
  {
   "cell_type": "code",
   "execution_count": 11,
   "id": "2e274fe9",
   "metadata": {},
   "outputs": [
    {
     "data": {
      "text/plain": [
       "'White'"
      ]
     },
     "execution_count": 11,
     "metadata": {},
     "output_type": "execute_result"
    }
   ],
   "source": [
    "Fortuner.color"
   ]
  },
  {
   "cell_type": "code",
   "execution_count": 12,
   "id": "44180936",
   "metadata": {},
   "outputs": [
    {
     "data": {
      "text/plain": [
       "2000"
      ]
     },
     "execution_count": 12,
     "metadata": {},
     "output_type": "execute_result"
    }
   ],
   "source": [
    "Fortuner.engine"
   ]
  },
  {
   "cell_type": "code",
   "execution_count": 13,
   "id": "faf062be",
   "metadata": {},
   "outputs": [
    {
     "name": "stdout",
     "output_type": "stream",
     "text": [
      "This is my test in class of car\n"
     ]
    }
   ],
   "source": [
    "Fortuner.test()"
   ]
  },
  {
   "cell_type": "code",
   "execution_count": 14,
   "id": "08cedb87",
   "metadata": {},
   "outputs": [],
   "source": [
    "class house:\n",
    "    def __init__(self,Area,BHK,Floor,Type):\n",
    "        self.Area = Area\n",
    "        self.BHK = BHK\n",
    "        self.Floor = Floor\n",
    "        self.House_type = Type"
   ]
  },
  {
   "cell_type": "code",
   "execution_count": 15,
   "id": "4f9bbf5e",
   "metadata": {},
   "outputs": [],
   "source": [
    "Sachin = house('1000sq/ft','3BHK','3Floor','Apartment') "
   ]
  },
  {
   "cell_type": "code",
   "execution_count": 18,
   "id": "776a1b2a",
   "metadata": {},
   "outputs": [
    {
     "data": {
      "text/plain": [
       "'1000sq/ft'"
      ]
     },
     "execution_count": 18,
     "metadata": {},
     "output_type": "execute_result"
    }
   ],
   "source": [
    "Sachin.Area"
   ]
  },
  {
   "cell_type": "code",
   "execution_count": 19,
   "id": "e50a6150",
   "metadata": {},
   "outputs": [
    {
     "data": {
      "text/plain": [
       "'3BHK'"
      ]
     },
     "execution_count": 19,
     "metadata": {},
     "output_type": "execute_result"
    }
   ],
   "source": [
    "Sachin.BHK"
   ]
  },
  {
   "cell_type": "code",
   "execution_count": 20,
   "id": "e9bb6018",
   "metadata": {},
   "outputs": [
    {
     "data": {
      "text/plain": [
       "'3Floor'"
      ]
     },
     "execution_count": 20,
     "metadata": {},
     "output_type": "execute_result"
    }
   ],
   "source": [
    "Sachin.Floor"
   ]
  },
  {
   "cell_type": "code",
   "execution_count": 22,
   "id": "c9f27adb",
   "metadata": {},
   "outputs": [
    {
     "data": {
      "text/plain": [
       "'Apartment'"
      ]
     },
     "execution_count": 22,
     "metadata": {},
     "output_type": "execute_result"
    }
   ],
   "source": [
    "Sachin.House_type"
   ]
  },
  {
   "cell_type": "code",
   "execution_count": 23,
   "id": "48ec61d9",
   "metadata": {},
   "outputs": [],
   "source": [
    "class number_game:\n",
    "    def __init__(self,a):\n",
    "        self.a = a\n",
    "    def test1(self):\n",
    "        return self.a + 10\n",
    "    def test2(self):\n",
    "        return self.a - 5\n",
    "    def test3(self):\n",
    "        return self.a * 3"
   ]
  },
  {
   "cell_type": "code",
   "execution_count": 24,
   "id": "f5d87fd1",
   "metadata": {},
   "outputs": [],
   "source": [
    "DATA_GAME =number_game(10)"
   ]
  },
  {
   "cell_type": "code",
   "execution_count": 25,
   "id": "731c5511",
   "metadata": {},
   "outputs": [
    {
     "data": {
      "text/plain": [
       "10"
      ]
     },
     "execution_count": 25,
     "metadata": {},
     "output_type": "execute_result"
    }
   ],
   "source": [
    "DATA_GAME.a"
   ]
  },
  {
   "cell_type": "code",
   "execution_count": 26,
   "id": "2eedd0ca",
   "metadata": {},
   "outputs": [
    {
     "data": {
      "text/plain": [
       "20"
      ]
     },
     "execution_count": 26,
     "metadata": {},
     "output_type": "execute_result"
    }
   ],
   "source": [
    "DATA_GAME.test1()"
   ]
  },
  {
   "cell_type": "code",
   "execution_count": 27,
   "id": "30bee09c",
   "metadata": {},
   "outputs": [
    {
     "data": {
      "text/plain": [
       "5"
      ]
     },
     "execution_count": 27,
     "metadata": {},
     "output_type": "execute_result"
    }
   ],
   "source": [
    "DATA_GAME.test2()"
   ]
  },
  {
   "cell_type": "code",
   "execution_count": 28,
   "id": "50a6cf07",
   "metadata": {},
   "outputs": [
    {
     "data": {
      "text/plain": [
       "30"
      ]
     },
     "execution_count": 28,
     "metadata": {},
     "output_type": "execute_result"
    }
   ],
   "source": [
    "DATA_GAME.test3()"
   ]
  },
  {
   "cell_type": "code",
   "execution_count": 30,
   "id": "cced0480",
   "metadata": {},
   "outputs": [],
   "source": [
    "class list_parcer:\n",
    "    def __init__(self,a):\n",
    "        self.a = a\n",
    "        \n",
    "    def parcer(self):\n",
    "        if type(self.a) == list:\n",
    "            for i in self.a:\n",
    "                print(i)\n",
    "    def reverse_list(self):\n",
    "        if type(self.a) == list:\n",
    "            return self.a[::-1]             "
   ]
  },
  {
   "cell_type": "code",
   "execution_count": 31,
   "id": "95d456b7",
   "metadata": {},
   "outputs": [],
   "source": [
    "k = list_parcer([1,2,3,4,5])"
   ]
  },
  {
   "cell_type": "code",
   "execution_count": 32,
   "id": "d3a8e940",
   "metadata": {},
   "outputs": [
    {
     "data": {
      "text/plain": [
       "[1, 2, 3, 4, 5]"
      ]
     },
     "execution_count": 32,
     "metadata": {},
     "output_type": "execute_result"
    }
   ],
   "source": [
    "k.a"
   ]
  },
  {
   "cell_type": "code",
   "execution_count": 33,
   "id": "e7b6ca3b",
   "metadata": {},
   "outputs": [
    {
     "name": "stdout",
     "output_type": "stream",
     "text": [
      "1\n",
      "2\n",
      "3\n",
      "4\n",
      "5\n"
     ]
    }
   ],
   "source": [
    "k.parcer()"
   ]
  },
  {
   "cell_type": "code",
   "execution_count": 34,
   "id": "c073efc7",
   "metadata": {},
   "outputs": [
    {
     "data": {
      "text/plain": [
       "[5, 4, 3, 2, 1]"
      ]
     },
     "execution_count": 34,
     "metadata": {},
     "output_type": "execute_result"
    }
   ],
   "source": [
    "k.reverse_list()"
   ]
  },
  {
   "cell_type": "code",
   "execution_count": null,
   "id": "313ac3d2",
   "metadata": {},
   "outputs": [],
   "source": []
  }
 ],
 "metadata": {
  "kernelspec": {
   "display_name": "Python 3 (ipykernel)",
   "language": "python",
   "name": "python3"
  },
  "language_info": {
   "codemirror_mode": {
    "name": "ipython",
    "version": 3
   },
   "file_extension": ".py",
   "mimetype": "text/x-python",
   "name": "python",
   "nbconvert_exporter": "python",
   "pygments_lexer": "ipython3",
   "version": "3.11.5"
  }
 },
 "nbformat": 4,
 "nbformat_minor": 5
}
