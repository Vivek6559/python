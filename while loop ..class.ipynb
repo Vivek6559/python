{
 "cells": [
  {
   "cell_type": "markdown",
   "id": "64aafcd4",
   "metadata": {},
   "source": [
    "# while"
   ]
  },
  {
   "cell_type": "markdown",
   "id": "c8a15312",
   "metadata": {},
   "source": [
    "a  while loop is uesd repeatedly execute a block of code as ong as aspecified condition is true"
   ]
  },
  {
   "cell_type": "code",
   "execution_count": 4,
   "id": "5efb289c",
   "metadata": {},
   "outputs": [],
   "source": [
    "x=1"
   ]
  },
  {
   "cell_type": "code",
   "execution_count": 3,
   "id": "71ff0923",
   "metadata": {},
   "outputs": [
    {
     "name": "stdout",
     "output_type": "stream",
     "text": [
      "1\n",
      "2\n",
      "3\n",
      "4\n",
      "5\n"
     ]
    }
   ],
   "source": [
    "while x <= 5:\n",
    "    print(x)\n",
    "    x = x + 1"
   ]
  },
  {
   "cell_type": "code",
   "execution_count": 5,
   "id": "e3b38edb",
   "metadata": {},
   "outputs": [
    {
     "name": "stdout",
     "output_type": "stream",
     "text": [
      "1\n",
      "2\n",
      "3\n",
      "4\n",
      "5\n"
     ]
    }
   ],
   "source": [
    "while x <= 5:\n",
    "    print(x)\n",
    "    x += 1"
   ]
  },
  {
   "cell_type": "code",
   "execution_count": 8,
   "id": "f6efb168",
   "metadata": {},
   "outputs": [
    {
     "name": "stdout",
     "output_type": "stream",
     "text": [
      "type quit to exitht\n",
      "you typed: ht\n",
      "type quit to exityjy\n",
      "you typed: yjy\n",
      "type quit to exithtt\n",
      "you typed: htt\n",
      "type quit to exitquit\n",
      "you typed: quit\n"
     ]
    }
   ],
   "source": [
    "user_input = ''\n",
    "while user_input.lower() != 'quit':\n",
    "    user_input=input('type quit to exit')\n",
    "    print('you typed:',user_input)"
   ]
  },
  {
   "cell_type": "code",
   "execution_count": null,
   "id": "6af60f75",
   "metadata": {},
   "outputs": [],
   "source": []
  },
  {
   "cell_type": "code",
   "execution_count": 10,
   "id": "f19c7a26",
   "metadata": {},
   "outputs": [
    {
     "name": "stdout",
     "output_type": "stream",
     "text": [
      "age32\n",
      "your age is 32\n",
      "age23\n",
      "your age is 23\n",
      "age30\n",
      "your age is 30\n"
     ]
    }
   ],
   "source": [
    "Age = int()\n",
    "while Age != 30:\n",
    "    Age = int(input('age'))\n",
    "    print('your age is',Age)"
   ]
  },
  {
   "cell_type": "code",
   "execution_count": 13,
   "id": "9e957d1b",
   "metadata": {},
   "outputs": [
    {
     "name": "stdout",
     "output_type": "stream",
     "text": [
      "1\n",
      "3\n",
      "6\n",
      "10\n",
      "15\n"
     ]
    }
   ],
   "source": [
    "total = 0\n",
    "num = 1\n",
    "while num <= 5:\n",
    "    total = total + num\n",
    "    num = num + 1\n",
    "    print(total)    "
   ]
  },
  {
   "cell_type": "code",
   "execution_count": null,
   "id": "e8ec0606",
   "metadata": {},
   "outputs": [],
   "source": []
  }
 ],
 "metadata": {
  "kernelspec": {
   "display_name": "Python 3 (ipykernel)",
   "language": "python",
   "name": "python3"
  },
  "language_info": {
   "codemirror_mode": {
    "name": "ipython",
    "version": 3
   },
   "file_extension": ".py",
   "mimetype": "text/x-python",
   "name": "python",
   "nbconvert_exporter": "python",
   "pygments_lexer": "ipython3",
   "version": "3.11.5"
  }
 },
 "nbformat": 4,
 "nbformat_minor": 5
}
