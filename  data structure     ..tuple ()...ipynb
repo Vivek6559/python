{
 "cells": [
  {
   "cell_type": "markdown",
   "id": "80949dc8",
   "metadata": {},
   "source": [
    "#  tuple ()"
   ]
  },
  {
   "cell_type": "code",
   "execution_count": 1,
   "id": "d54c6330",
   "metadata": {},
   "outputs": [],
   "source": [
    "# it starts with ().\n",
    "we cant update element in tuple, it is immutable \n",
    "tuple content less memory compare to list.\n",
    "it allowed duplicate "
   ]
  },
  {
   "cell_type": "code",
   "execution_count": 2,
   "id": "e45a6410",
   "metadata": {},
   "outputs": [],
   "source": [
    "a=(1,2,3,4,'vivek',20+2j,30.3,False,)"
   ]
  },
  {
   "cell_type": "code",
   "execution_count": 3,
   "id": "17c91bee",
   "metadata": {},
   "outputs": [
    {
     "data": {
      "text/plain": [
       "tuple"
      ]
     },
     "execution_count": 3,
     "metadata": {},
     "output_type": "execute_result"
    }
   ],
   "source": [
    "type(a)"
   ]
  },
  {
   "cell_type": "code",
   "execution_count": 4,
   "id": "9dd42a62",
   "metadata": {},
   "outputs": [
    {
     "data": {
      "text/plain": [
       "1"
      ]
     },
     "execution_count": 4,
     "metadata": {},
     "output_type": "execute_result"
    }
   ],
   "source": [
    "a.count(1)"
   ]
  },
  {
   "cell_type": "code",
   "execution_count": 5,
   "id": "07dd3584",
   "metadata": {},
   "outputs": [
    {
     "data": {
      "text/plain": [
       "3"
      ]
     },
     "execution_count": 5,
     "metadata": {},
     "output_type": "execute_result"
    }
   ],
   "source": [
    "a.index(4)"
   ]
  },
  {
   "cell_type": "code",
   "execution_count": 12,
   "id": "d1d7a667",
   "metadata": {},
   "outputs": [],
   "source": [
    "b=(1,1,2,3,3) #tuple allowed to duplicate .."
   ]
  },
  {
   "cell_type": "code",
   "execution_count": 13,
   "id": "c084bf4c",
   "metadata": {},
   "outputs": [
    {
     "data": {
      "text/plain": [
       "tuple"
      ]
     },
     "execution_count": 13,
     "metadata": {},
     "output_type": "execute_result"
    }
   ],
   "source": [
    "type(b)"
   ]
  },
  {
   "cell_type": "code",
   "execution_count": 14,
   "id": "1f8b0ab1",
   "metadata": {},
   "outputs": [],
   "source": [
    "c=a+b  # in tuple addition operation is allowed "
   ]
  },
  {
   "cell_type": "code",
   "execution_count": 15,
   "id": "7a787927",
   "metadata": {},
   "outputs": [
    {
     "data": {
      "text/plain": [
       "(1, 2, 3, 4, 'vivek', (20+2j), 30.3, False, 1, 1, 2, 3, 3)"
      ]
     },
     "execution_count": 15,
     "metadata": {},
     "output_type": "execute_result"
    }
   ],
   "source": [
    "c"
   ]
  },
  {
   "cell_type": "code",
   "execution_count": 30,
   "id": "1a596aee",
   "metadata": {},
   "outputs": [
    {
     "data": {
      "text/plain": [
       "4"
      ]
     },
     "execution_count": 30,
     "metadata": {},
     "output_type": "execute_result"
    }
   ],
   "source": [
    "a[3]"
   ]
  },
  {
   "cell_type": "code",
   "execution_count": 31,
   "id": "61d18e63",
   "metadata": {},
   "outputs": [
    {
     "data": {
      "text/plain": [
       "(3, 4, 'vivek', (20+2j))"
      ]
     },
     "execution_count": 31,
     "metadata": {},
     "output_type": "execute_result"
    }
   ],
   "source": [
    "a[2:6]"
   ]
  },
  {
   "cell_type": "code",
   "execution_count": 32,
   "id": "4f0fc3aa",
   "metadata": {},
   "outputs": [
    {
     "data": {
      "text/plain": [
       "4"
      ]
     },
     "execution_count": 32,
     "metadata": {},
     "output_type": "execute_result"
    }
   ],
   "source": [
    "a.index('vivek')"
   ]
  },
  {
   "cell_type": "code",
   "execution_count": 38,
   "id": "c12c2b70",
   "metadata": {},
   "outputs": [],
   "source": [
    "w=(2,3,4,5,6) # in tuple max and min is uesd to find value max min"
   ]
  },
  {
   "cell_type": "code",
   "execution_count": 39,
   "id": "26f341c8",
   "metadata": {},
   "outputs": [
    {
     "data": {
      "text/plain": [
       "6"
      ]
     },
     "execution_count": 39,
     "metadata": {},
     "output_type": "execute_result"
    }
   ],
   "source": [
    "max(w)"
   ]
  },
  {
   "cell_type": "code",
   "execution_count": 40,
   "id": "c7a9437c",
   "metadata": {},
   "outputs": [
    {
     "data": {
      "text/plain": [
       "2"
      ]
     },
     "execution_count": 40,
     "metadata": {},
     "output_type": "execute_result"
    }
   ],
   "source": [
    "min(w)"
   ]
  },
  {
   "cell_type": "code",
   "execution_count": 41,
   "id": "ad8e9f24",
   "metadata": {},
   "outputs": [],
   "source": [
    "n=(1,2,2,2,)"
   ]
  },
  {
   "cell_type": "code",
   "execution_count": 42,
   "id": "563b9b01",
   "metadata": {},
   "outputs": [
    {
     "data": {
      "text/plain": [
       "tuple"
      ]
     },
     "execution_count": 42,
     "metadata": {},
     "output_type": "execute_result"
    }
   ],
   "source": [
    "type(n)"
   ]
  },
  {
   "cell_type": "code",
   "execution_count": null,
   "id": "40cdb2b7",
   "metadata": {},
   "outputs": [],
   "source": []
  }
 ],
 "metadata": {
  "kernelspec": {
   "display_name": "Python 3 (ipykernel)",
   "language": "python",
   "name": "python3"
  },
  "language_info": {
   "codemirror_mode": {
    "name": "ipython",
    "version": 3
   },
   "file_extension": ".py",
   "mimetype": "text/x-python",
   "name": "python",
   "nbconvert_exporter": "python",
   "pygments_lexer": "ipython3",
   "version": "3.11.5"
  }
 },
 "nbformat": 4,
 "nbformat_minor": 5
}
